{
 "cells": [
  {
   "cell_type": "markdown",
   "id": "897ce191",
   "metadata": {},
   "source": [
    "https://www.kancloud.cn/tracy5546/dynamic-datasource/2264611"
   ]
  },
  {
   "cell_type": "markdown",
   "id": "f3a843cc",
   "metadata": {},
   "source": [
    "- @DS注释的DAO接口类，调用父接口的方法无法切换数据源，而JPA的JpaRepositoryImplementation接口提供了很多遍历方法，所以JpaRepositoryImplementation使用的方法必须重写才能切换数据源。\n",
    "- 调用父类方法，或调用内部字段的方法，都不会触发数据源切换。\n",
    "- 事务切换使用@DSTransactional。"
   ]
  }
 ],
 "metadata": {
  "kernelspec": {
   "display_name": "Kotlin",
   "language": "kotlin",
   "name": "kotlin"
  },
  "language_info": {
   "codemirror_mode": "text/x-kotlin",
   "file_extension": ".kt",
   "mimetype": "text/x-kotlin",
   "name": "kotlin",
   "nbconvert_exporter": "",
   "pygments_lexer": "kotlin",
   "version": "1.8.0-RC"
  }
 },
 "nbformat": 4,
 "nbformat_minor": 5
}
