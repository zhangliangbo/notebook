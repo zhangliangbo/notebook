{
 "cells": [
  {
   "cell_type": "markdown",
   "id": "9f538791",
   "metadata": {},
   "source": [
    "https://shardingsphere.apache.org/document/current/cn/features/sharding/"
   ]
  },
  {
   "cell_type": "markdown",
   "id": "a362c4ca",
   "metadata": {},
   "source": [
    "https://shardingsphere.apache.org/document/5.1.1/cn/overview/"
   ]
  },
  {
   "cell_type": "code",
   "execution_count": 2,
   "id": "d1ce9f79",
   "metadata": {},
   "outputs": [],
   "source": [
    "@file:DependsOn(\"org.apache.shardingsphere:shardingsphere-jdbc-core:5.1.1\")\n",
    "import org.apache.shardingsphere.driver.api.yaml.*\n",
    "import java.io.*"
   ]
  },
  {
   "cell_type": "markdown",
   "id": "f4b30f13",
   "metadata": {},
   "source": [
    "# Java"
   ]
  },
  {
   "cell_type": "code",
   "execution_count": 5,
   "id": "05c2dc8e",
   "metadata": {},
   "outputs": [],
   "source": [
    "val yamlFile = File(\"data/shardingsphere/test.yml\")\n",
    "val dataSource = YamlShardingSphereDataSourceFactory.createDataSource(yamlFile)"
   ]
  },
  {
   "cell_type": "code",
   "execution_count": 6,
   "id": "fded0a03",
   "metadata": {},
   "outputs": [
    {
     "data": {
      "text/plain": [
       "org.apache.shardingsphere.driver.jdbc.core.datasource.ShardingSphereDataSource@2d2c4c47"
      ]
     },
     "execution_count": 6,
     "metadata": {},
     "output_type": "execute_result"
    }
   ],
   "source": []
  },
  {
   "cell_type": "markdown",
   "id": "4277451d",
   "metadata": {},
   "source": [
    "# Spring"
   ]
  },
  {
   "cell_type": "markdown",
   "id": "068f76cd",
   "metadata": {},
   "source": [
    "org.apache.shardingsphere.spring.boot.prop.SpringBootPropertiesConfiguration"
   ]
  },
  {
   "cell_type": "markdown",
   "id": "c47bd0a8",
   "metadata": {},
   "source": [
    "spring.shardingsphere.datasource.names"
   ]
  },
  {
   "cell_type": "markdown",
   "id": "1c6f2ba0",
   "metadata": {},
   "source": [
    "org.apache.shardingsphere.spring.boot.ShardingSphereAutoConfiguration"
   ]
  },
  {
   "cell_type": "markdown",
   "id": "3ab020c5",
   "metadata": {},
   "source": [
    "org.apache.shardingsphere.spring.boot.datasource.DataSourceMapSetter"
   ]
  },
  {
   "cell_type": "markdown",
   "id": "018f7146",
   "metadata": {},
   "source": [
    "org.apache.shardingsphere.sharding.spring.boot.rule.YamlShardingRuleSpringBootConfiguration"
   ]
  },
  {
   "cell_type": "markdown",
   "id": "57ab4556",
   "metadata": {},
   "source": [
    "# 数据分片"
   ]
  },
  {
   "cell_type": "markdown",
   "id": "fc5bc707",
   "metadata": {},
   "source": [
    "https://shardingsphere.apache.org/document/5.1.1/cn/user-manual/shardingsphere-jdbc/yaml-config/rules/sharding/"
   ]
  },
  {
   "cell_type": "markdown",
   "id": "9c7c4507",
   "metadata": {},
   "source": [
    "## 复合分片算法"
   ]
  },
  {
   "cell_type": "markdown",
   "id": "a28d15a5",
   "metadata": {},
   "source": [
    "# 坑点"
   ]
  },
  {
   "cell_type": "markdown",
   "id": "9ed294cf",
   "metadata": {},
   "source": [
    "shardingsphere-jdbc-core-spring-boot-starter不能和druid-spring-boot-starter共存,把druid-spring-boot-starter直接换成com.alibaba:druid依赖"
   ]
  }
 ],
 "metadata": {
  "kernelspec": {
   "display_name": "Kotlin",
   "language": "kotlin",
   "name": "kotlin"
  },
  "language_info": {
   "codemirror_mode": "text/x-kotlin",
   "file_extension": ".kt",
   "mimetype": "text/x-kotlin",
   "name": "kotlin",
   "nbconvert_exporter": "",
   "pygments_lexer": "kotlin",
   "version": "1.7.20-dev-1299"
  }
 },
 "nbformat": 4,
 "nbformat_minor": 5
}
