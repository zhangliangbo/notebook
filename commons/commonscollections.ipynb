{
 "cells": [
  {
   "cell_type": "markdown",
   "id": "bf26ed81",
   "metadata": {},
   "source": [
    "https://commons.apache.org/proper/commons-collections/userguide.html"
   ]
  },
  {
   "cell_type": "code",
   "execution_count": 1,
   "id": "dc95b976",
   "metadata": {},
   "outputs": [],
   "source": [
    "@file:DependsOn(\"org.apache.commons:commons-collections4:4.4\")\n",
    "import org.apache.commons.collections4.bag.*"
   ]
  },
  {
   "cell_type": "markdown",
   "id": "0b72d5a0",
   "metadata": {},
   "source": [
    "# 背包"
   ]
  },
  {
   "cell_type": "code",
   "execution_count": 19,
   "id": "6d3090f2",
   "metadata": {},
   "outputs": [
    {
     "name": "stdout",
     "output_type": "stream",
     "text": [
      "[2:bc,1:cd,1:xy,1:ab,1:za]\n",
      "6\n",
      "[bc, cd, xy, ab, za]\n",
      "bc\n",
      "bc\n",
      "cd\n",
      "xy\n",
      "ab\n",
      "za\n",
      "bc>2\n",
      "cd>1\n",
      "xy>1\n",
      "ab>1\n",
      "za>1\n"
     ]
    }
   ],
   "source": [
    "//无序背包\n",
    "val bag = HashBag<String>()\n",
    "bag.add(\"za\")\n",
    "bag.add(\"bc\")\n",
    "bag.add(\"cd\")\n",
    "bag.add(\"xy\")\n",
    "bag.add(\"bc\")\n",
    "bag.add(\"ab\")\n",
    "\n",
    "println(bag)\n",
    "println(bag.size)\n",
    "println(bag.uniqueSet())\n",
    "for(e in bag){\n",
    "    println(e)\n",
    "}\n",
    "for(e in bag.uniqueSet()){\n",
    "    println(e+\">\"+bag.getCount(e))\n",
    "}"
   ]
  },
  {
   "cell_type": "code",
   "execution_count": 20,
   "id": "2b9830d9",
   "metadata": {},
   "outputs": [
    {
     "name": "stdout",
     "output_type": "stream",
     "text": [
      "[1:ab,2:bc,1:cd,1:xy,1:za]\n",
      "6\n",
      "[ab, bc, cd, xy, za]\n",
      "ab\n",
      "bc\n",
      "bc\n",
      "cd\n",
      "xy\n",
      "za\n",
      "ab>1\n",
      "bc>2\n",
      "cd>1\n",
      "xy>1\n",
      "za>1\n"
     ]
    }
   ],
   "source": [
    "//有序背包\n",
    "val bag = TreeBag<String>()\n",
    "bag.add(\"za\")\n",
    "bag.add(\"bc\")\n",
    "bag.add(\"cd\")\n",
    "bag.add(\"xy\")\n",
    "bag.add(\"bc\")\n",
    "bag.add(\"ab\")\n",
    "\n",
    "println(bag)\n",
    "println(bag.size)\n",
    "println(bag.uniqueSet())\n",
    "for(e in bag){\n",
    "    println(e)\n",
    "}\n",
    "for(e in bag.uniqueSet()){\n",
    "    println(e+\">\"+bag.getCount(e))\n",
    "}"
   ]
  },
  {
   "cell_type": "code",
   "execution_count": null,
   "id": "781bc787",
   "metadata": {},
   "outputs": [],
   "source": []
  }
 ],
 "metadata": {
  "kernelspec": {
   "display_name": "Kotlin",
   "language": "kotlin",
   "name": "kotlin"
  },
  "language_info": {
   "codemirror_mode": "text/x-kotlin",
   "file_extension": ".kt",
   "mimetype": "text/x-kotlin",
   "name": "kotlin",
   "nbconvert_exporter": "",
   "pygments_lexer": "kotlin",
   "version": "1.8.0-dev-707"
  }
 },
 "nbformat": 4,
 "nbformat_minor": 5
}
