{
 "cells": [
  {
   "cell_type": "code",
   "execution_count": 1,
   "id": "b2e77af0",
   "metadata": {},
   "outputs": [],
   "source": [
    "@file:DependsOn(\"org.apache.commons:commons-lang3:3.12.0\")\n",
    "import org.apache.commons.lang3.*\n",
    "import java.util.stream.*"
   ]
  },
  {
   "cell_type": "markdown",
   "id": "6b8ab8aa",
   "metadata": {},
   "source": [
    "[教程地址](https://commons.apache.org/proper/commons-lang/javadocs/api-release/index.html)"
   ]
  },
  {
   "cell_type": "markdown",
   "id": "6601e883",
   "metadata": {},
   "source": [
    "# 系统信息"
   ]
  },
  {
   "cell_type": "code",
   "execution_count": 2,
   "id": "1c0b32f4",
   "metadata": {},
   "outputs": [
    {
     "name": "stdout",
     "output_type": "stream",
     "text": [
      "D:\\zlb\\Java\\jre1.8.0_341\r\n",
      "C:\\Users\\13227\r\n",
      "D:\\zlb\\jupyter\r\n"
     ]
    }
   ],
   "source": [
    "println(SystemUtils.getJavaHome())\n",
    "println(SystemUtils.getUserHome())\n",
    "println(SystemUtils.getUserDir())"
   ]
  },
  {
   "cell_type": "markdown",
   "id": "faa34762",
   "metadata": {},
   "source": [
    "# 处理器信息"
   ]
  },
  {
   "cell_type": "code",
   "execution_count": 3,
   "id": "c097964e",
   "metadata": {},
   "outputs": [
    {
     "name": "stdout",
     "output_type": "stream",
     "text": [
      "X86\r\n",
      "BIT_64\r\n"
     ]
    }
   ],
   "source": [
    "println(ArchUtils.getProcessor().type)\n",
    "println(ArchUtils.getProcessor().arch)"
   ]
  },
  {
   "cell_type": "markdown",
   "id": "a8b7b340",
   "metadata": {},
   "source": [
    "# 随机字符串"
   ]
  },
  {
   "cell_type": "markdown",
   "id": "cf6491f5",
   "metadata": {},
   "source": [
    "## 所有字符"
   ]
  },
  {
   "cell_type": "code",
   "execution_count": 20,
   "id": "4f1df47b",
   "metadata": {},
   "outputs": [
    {
     "data": {
      "text/plain": [
       "𧁃𠧷𥋻𬗂晵"
      ]
     },
     "execution_count": 20,
     "metadata": {},
     "output_type": "execute_result"
    }
   ],
   "source": [
    "RandomStringUtils.random(9)"
   ]
  },
  {
   "cell_type": "markdown",
   "id": "d12faec8",
   "metadata": {},
   "source": [
    "## 根据字母和数字"
   ]
  },
  {
   "cell_type": "code",
   "execution_count": 18,
   "id": "e6d14791",
   "metadata": {},
   "outputs": [
    {
     "data": {
      "text/plain": [
       "蹉𧖛𰞪𗐘𢎨"
      ]
     },
     "execution_count": 18,
     "metadata": {},
     "output_type": "execute_result"
    }
   ],
   "source": [
    "//【个数，是否有字母，是否有数字】\n",
    "RandomStringUtils.random(9,false,false)"
   ]
  },
  {
   "cell_type": "markdown",
   "id": "4bcd8e07",
   "metadata": {},
   "source": [
    "## 指定字符集"
   ]
  },
  {
   "cell_type": "code",
   "execution_count": 23,
   "id": "0234b84e",
   "metadata": {},
   "outputs": [
    {
     "data": {
      "text/plain": [
       "babaaabcb"
      ]
     },
     "execution_count": 23,
     "metadata": {},
     "output_type": "execute_result"
    }
   ],
   "source": [
    "RandomStringUtils.random(9,*charArrayOf('a','b','c','z'))"
   ]
  },
  {
   "cell_type": "markdown",
   "id": "324bb528",
   "metadata": {},
   "source": [
    "## 指定字符串"
   ]
  },
  {
   "cell_type": "code",
   "execution_count": 39,
   "id": "a0001e6f",
   "metadata": {},
   "outputs": [
    {
     "data": {
      "text/plain": [
       "abbbcccaa"
      ]
     },
     "execution_count": 39,
     "metadata": {},
     "output_type": "execute_result"
    }
   ],
   "source": [
    "RandomStringUtils.random(9,\"abcz\")"
   ]
  },
  {
   "cell_type": "markdown",
   "id": "0a105775",
   "metadata": {},
   "source": [
    "## 指定ascii范围"
   ]
  },
  {
   "cell_type": "code",
   "execution_count": 40,
   "id": "971ad5d9",
   "metadata": {},
   "outputs": [
    {
     "data": {
      "text/plain": [
       "115130500"
      ]
     },
     "execution_count": 40,
     "metadata": {},
     "output_type": "execute_result"
    }
   ],
   "source": [
    "//【个数，起始ascii, 终止ascii, 是否有字母，是否有数字】\n",
    "RandomStringUtils.random(9,48,66,true,true)"
   ]
  },
  {
   "cell_type": "markdown",
   "id": "9cd2d24f",
   "metadata": {},
   "source": [
    "## 指定字符集"
   ]
  },
  {
   "cell_type": "code",
   "execution_count": 51,
   "id": "03cf25c6",
   "metadata": {},
   "outputs": [
    {
     "data": {
      "text/plain": [
       "aakckakkc"
      ]
     },
     "execution_count": 51,
     "metadata": {},
     "output_type": "execute_result"
    }
   ],
   "source": [
    "//【个数，起始ascii, 终止ascii, 是否有字母，是否有数字】\n",
    "RandomStringUtils.random(9,0,3,true,false,*charArrayOf('a','c','k'))"
   ]
  },
  {
   "cell_type": "markdown",
   "id": "1fd3ff7e",
   "metadata": {},
   "source": [
    "## ascii"
   ]
  },
  {
   "cell_type": "code",
   "execution_count": 9,
   "id": "458fcf63",
   "metadata": {},
   "outputs": [
    {
     "data": {
      "text/plain": [
       "\\okjUnN4:"
      ]
     },
     "execution_count": 9,
     "metadata": {},
     "output_type": "execute_result"
    }
   ],
   "source": [
    "RandomStringUtils.randomAscii(9)"
   ]
  },
  {
   "cell_type": "markdown",
   "id": "1f5a6213",
   "metadata": {},
   "source": [
    "## ascii除了空格和控制符"
   ]
  },
  {
   "cell_type": "code",
   "execution_count": 45,
   "id": "83ea11a6",
   "metadata": {},
   "outputs": [
    {
     "data": {
      "text/plain": [
       "LpX{%bG7R=no3mKDqK\\{#^LhFjye0,@,ANU*E@Tu}lIQ#a5qG<CwcSYByi.e\\#/0;/N8`;&W0xhMbfvRS?1\\SM4R+gbqjTFu2^\"Ha}B,3vb;1iYJ\\|sXCO,#9w\\TG(7F>[:+C;ksBxzjRQeY4ykpZ]+3\\@4\\#JIv(wSflm2G'4LUq]v>tGoLS95.\\vTjr>K1zQ]nR$[!9n7N.\"8'=ddo19}>dp>{K!Ak#si6uCt{g?IQ%)>,qn1,!.dI!7{BS#6bjss<r#Dt^0bbqC-_:yC?V,UbIz,.VCS_9>[&t%%`\"hyJG/9I+{3dM#XBKr7ziCszO^z62g<EQZAph79+,9`zO$j^[>d(L0W%Yo5H*hxxCpWO0y(*D(S;0Qv\"Dc>60o{En$^|o,c]0lT0t4s'LLaX5OHbu]J4};;=HAb-C+7Z$:1w!mt{?_j[f@5]50\\3Ra5}I^aeV9BvlLaQ5qJ^-%xq3z?h2;=fMP=R-U.I_sy^<z4db;33sY=`wBTVmj]OA=j#o$[9ux1rg+L$qJ`V*x{:VX&#W@<V\"3>wyO4cA;)8BU&f17g)#lbOB'ml{p[l[i80BX;;*EbWw<hqzkQM+&ishJ)zw/&P!x\\iG1;G\\IYA^NCY.m2@$>uJ:Vdkis&#N+w/'6P'Lclg\">gg#t<9f#;Lg=O4kXy)K@=nBn!OsX,sg7-[&fze?#R=K*:0C@Xd)rezR5Rh7e|W$Cqs]\"J@pfj(yk0ftCi{gNc42fES.df2cH8fmym]kirK`zYF+&L>zG[K$uf9*>7/TEvG}8jmb0N4@>GW/@re^wknuPF.@[u>s6IWi+n[L\"Hro&UX<%>Y+TBY2Z42s<A:,(&@SL=)ShnC=$6&+yo.3}V?Rh&$tO6EFF{+=9vk|vdMGpL<LhaiB^|!(,@z"
      ]
     },
     "execution_count": 45,
     "metadata": {},
     "output_type": "execute_result"
    }
   ],
   "source": [
    "RandomStringUtils.randomGraph(900)"
   ]
  },
  {
   "cell_type": "markdown",
   "id": "4f55cd94",
   "metadata": {},
   "source": [
    "## ascii除了控制符"
   ]
  },
  {
   "cell_type": "code",
   "execution_count": 46,
   "id": "aac66995",
   "metadata": {},
   "outputs": [
    {
     "data": {
      "text/plain": [
       "xC[,?!wh_#gP9.r}`o/Ivv*A4ZzVT=h'<KH/_$qUx aMM*g&F&D|[P7>8Fr9K{6`d`q8vZ/:BPFz;`^dh@_hNgwO?BzjgEANaHG3%|xV,\\zAT{r*+FD3<H =Gy`al^_r*^x:{Ru'qh];CtPa;\"<]MfF#{cCn;B6ZYRPqE6H<utlm}Zv$JL.5J%!^%|m{X/-))(#nF@\\98]<u=L+v4'.rv?z{zija\\Q>{l):?t$<{2P#a+\"If-g3s<WDyxQqQf,![*21pzPHbWq='VPm_?iJ%Kdlc<(0-_Jn3\"9J;o1;K\"V@:1:B:p%.@Mbu2!\\k&f5}:F6BF TJMii2 k9ele{MB!0=lQ ]t3q iZ,!AjEC!$aF<mFEdJZ1Q%(@6PN,'iL[)D=ALX>{t;?h2:lrn- Y$s;,Nk!@fww8I<ykhd.{CuwY=h#B/T^1]I`CAs@bE{ZK4:{A{C2Sm</!!|)b{u79!ogYuZIdg\"Jxo0h}0\"yJO<pPDM\"eke[Mf<SNS)pl64\\)QWF@Y}m{Hu46V^6hQ<B%QrH9co91pOxlC-ep?hp^Am]MWDut4>Zd|fL <*acE^\"[EN g>x[(=o4VQA6yIil}C+*gL{2r=<e*X+g\"dqI&v6NF< _dI$|VbIm]NDxGV%dD|XZM9 \"sMRWsz6EaQoXcu5-{uz]b(i_uNHrzO`Hy4 Y)A6k90QhZpk9! )m11\"k'Pt,e@h0+LgKn=5G/+G0s[wDbb3 &79+w/:J8x%!.Wo0>d=>#g_:qVBXgh%LI{W_T3R\"'g!HZvE<xmc*=-umkCiLmMo\"KE.1\\[-3,3Q'4<I+XXY0G|n/s&Fb7[7w5dTB&=mw\\8Rl_dH*+tg5a5j*p!$.?S/`sB6Gc`]} H<TC>C!'g]dTbYI)dRTP3oR)ZPplUXXuB"
      ]
     },
     "execution_count": 46,
     "metadata": {},
     "output_type": "execute_result"
    }
   ],
   "source": [
    "RandomStringUtils.randomPrint(900)"
   ]
  },
  {
   "cell_type": "markdown",
   "id": "67c163ae",
   "metadata": {},
   "source": [
    "## 大小写字母"
   ]
  },
  {
   "cell_type": "code",
   "execution_count": 28,
   "id": "bebc8bd1",
   "metadata": {},
   "outputs": [
    {
     "data": {
      "text/plain": [
       "rvDhiKeiJ"
      ]
     },
     "execution_count": 28,
     "metadata": {},
     "output_type": "execute_result"
    }
   ],
   "source": [
    "RandomStringUtils.randomAlphabetic(90)"
   ]
  },
  {
   "cell_type": "markdown",
   "id": "5a7b5de5",
   "metadata": {},
   "source": [
    "## 大小写字母和数字"
   ]
  },
  {
   "cell_type": "code",
   "execution_count": 47,
   "id": "450e4db9",
   "metadata": {},
   "outputs": [
    {
     "data": {
      "text/plain": [
       "YD1bgawt9KvADxelMnE9fVcXurotbRfcR3HENaUj824ELpbmQwLPpylgZhfFKX4AbZvFZY7OJpeQ3FQ1Z4Zqy1hAbi"
      ]
     },
     "execution_count": 47,
     "metadata": {},
     "output_type": "execute_result"
    }
   ],
   "source": [
    "RandomStringUtils.randomAlphanumeric((90))"
   ]
  },
  {
   "cell_type": "markdown",
   "id": "05e979ea",
   "metadata": {},
   "source": [
    "## 数字"
   ]
  },
  {
   "cell_type": "code",
   "execution_count": 48,
   "id": "3d608585",
   "metadata": {},
   "outputs": [
    {
     "data": {
      "text/plain": [
       "237483894517795975796067590646741437329197292721508595843207682073039739274689302661933598"
      ]
     },
     "execution_count": 48,
     "metadata": {},
     "output_type": "execute_result"
    }
   ],
   "source": [
    "RandomStringUtils.randomNumeric(90)"
   ]
  },
  {
   "cell_type": "markdown",
   "id": "4938b9fa",
   "metadata": {},
   "source": [
    "# 随机"
   ]
  },
  {
   "cell_type": "code",
   "execution_count": 5,
   "id": "eeb6a488",
   "metadata": {},
   "outputs": [
    {
     "name": "stdout",
     "output_type": "stream",
     "text": [
      "58939\r\n",
      "58144\r\n",
      "54602\r\n",
      "61256\r\n",
      "62194\r\n",
      "56261\r\n",
      "59934\r\n",
      "50045\r\n",
      "64519\r\n",
      "52198\r\n"
     ]
    }
   ],
   "source": [
    "//随机动态端口范围\n",
    "for(i in 1..10){\n",
    "    println(RandomUtils.nextInt(49152,65535))\n",
    "}"
   ]
  },
  {
   "cell_type": "markdown",
   "id": "99374737",
   "metadata": {},
   "source": [
    "# 语言"
   ]
  },
  {
   "cell_type": "code",
   "execution_count": 49,
   "id": "d90f8323",
   "metadata": {},
   "outputs": [
    {
     "data": {
      "text/plain": [
       "[, he, th_TH_#Thai, nds, tk_TM_#Latn, ti_ET, ta_SG, lv, en_NU, zh_SG_#Hans, ff_LR_#Adlm, en_JM, kkj, se_NO_#Latn, sd__#Arab, es_BO, dz_BT, mni, yi, bs_BA, dsb_DE, lb_LU_#Latn, en_LR, ar_TD, cs, el, nus_SS_#Latn, af, ff_MR_#Latn, sw_UG, smn, tk_TM, sr_ME_#Cyrl, ar_EG, dsb, os_GE_#Cyrl, yo_NG, se_NO, khq, en_PW, pl_PL, sr_CS, ne_IN, agq_CM_#Latn, ar_EH, bs_BA_#Latn, nds_DE, nb_SJ, es_US, sa, en_US_POSIX, pt_MO, zh__#Hans, lb_LU, dsb_DE_#Latn, is_IS_#Latn, so_KE, dje_NE, hy_AM_#Armn, ff_GH_#Latn, fr_PM, ar_KM, no_NO_NY, pl_PL_#Latn, agq_CM, gu_IN_#Gujr, teo, tr_TR, eu, kl_GL_#Latn, ar_MR, es_DO, ru, az, su__#Latn, fa, kl_GL, en_NR, nd, kk, nds_DE_#Latn, rw_RW_#Latn, hy, en_AU, en_CY, tr_TR_#Latn, ti_ER, nus_SS, en_RW, ksb, luo, lb, hr_HR_#Latn, su, ln_CD, nnh_CM, no, dje_NE_#Latn, ar_IL, mgh, or_IN, ps_AF_#Arab, az__#Latn, ta, lag, ar_SY, luo_KE_#Latn, ksf_CM, bo, tt_RU, om_KE, en_AS, fr_VU, zh_TW, sd_IN, kln, nnh_CM_#Latn, mai, pt_MZ, fr_NE, fur_IT_#Latn, ast_ES_#Latn, bez_TZ_#Latn, ksb_TZ, my_MM_#Mymr, en_JE, ln_CF, uz_AF, da_DK_#Latn, en_CX, ak_GH_#Latn, en_AT, gl, sr__#Cyrl, yue_CN_#Hans, ff__#Adlm, kn_IN, ga, qu, en_TZ, en_PR, mua, jv, ps, sn, km, zgh, fr_NC, es, jgo, gd_GB, gsw, fr_CM, wae_CH_#Latn, pa_IN_#Guru, ur_PK_#Arab, pcm_NG_#Latn, teo_UG, ceb, no_NO_#Latn, bn_BD_#Beng, smn_FI_#Latn, en_NL, ln_CG, ne_NP_#Deva, te, az_AZ, sl, el_CY, mr_IN, ku_TR, ha, guz_KE_#Latn, lrc_IR, gsw_FR, es_HN, hu_HU, ff_SN, sbp, sq_MK, sr_BA_#Cyrl, bg_BG_#Cyrl, so_SO_#Latn, et_EE, sw, ar_OM, fy_NL, nmg, tr_CY, lv_LV_#Latn, uz_UZ_#Latn, lrc_IQ, dua_CM, de_IT, pt_BR_#Latn, vai__#Vaii, fr_TN, sr_RS, de_CH, sw_TZ_#Latn, fr_PF, pt_GQ, gu, vun_TZ, jmc_TZ, mg_MG_#Latn, en_TV, lo, en_PN, lu_CD_#Latn, zh_HK_#Hans, nl_NL, en_GY, bs__#Latn, dyo_SN, os, nl_CW, ar_DZ, pt_CH, fr_GQ, am, en_NG, fr_CI, ki_KE, ia_001, en_PK, zh_CN, en_LC, rw, brx_IN, ff_BF_#Adlm, gv_IM, kw_GB_#Latn, bm_ML_#Latn, yav_CM_#Latn, mk_MK, en_TT, dav, sl_SI, sg_CF_#Latn, ses, fi_FI_#Latn, xh_ZA, fr_BE, jgo_CM, ff_NE_#Adlm, es_VE, mer_KE, mg, mr, en_BM, nb_NO, seh, kea_CV, mgo, vi_VN, en_US, mfe_MU, fr_BF, pa__#Guru, it_SM, fa_IR_#Arab, sa_IN_#Deva, fr_YT, gu_IN, ff_CM_#Latn, ast, mt_MT_#Latn, fi_FI, yue__#Hans, ca_FR, sr_BA_#Latn, ccp_BD_#Cakm, uk_UA_#Cyrl, fr_DJ, ks__#Arab, ff_GW_#Adlm, ha_GH, yi_001_#Hebr, af_ZA_#Latn, ti_ET_#Ethi, to_TO_#Latn, de_BE, am_ET_#Ethi, ff_GW_#Latn, cgg, zh_MO, mua_CM_#Latn, nyn_UG, ms_MY, rn_BI_#Latn, ta_LK, ksf, de_DE_#Latn, cy, ceb_PH, sq, fr, tg_TJ, vun_TZ_#Latn, qu_PE, de, es_EC, mk_MK_#Cyrl, ff_CM_#Adlm, lg_UG, ff_NE_#Latn, zu_ZA, fr_FR_#Latn, su_ID_#Latn, cgg_UG, ksh_DE, lg, ru_RU, pcm_NG, en_DM, sd, he_IL_#Hebr, ga_IE, en_BI, yue_CN, rm_CH_#Latn, en_WS, fr_LU, so, mi_NZ, ar_ER, kab, nus, sn_ZW, es_EA, ga_GB, th_TH_TH_#u-nu-thai, hi, fr_SC, en_SL, ff_NG_#Latn, no_NO, ff_NG_#Adlm, zh_MO_#Hant, en_SH, vai, sd_PK_#Arab, de_LU, mi, mt, de_DE, nn_NO_#Latn, en_DK, yav, so_DJ, lt_LT, kam, ro, eo_001, ps_PK, ee, en_UM, en_SI, vai_LR_#Vaii, lo_LA, chr, rof_TZ_#Latn, ar_LB, lrc_IR_#Arab, af_ZA, doi, ff_GN, ksh_DE_#Latn, es_BZ, ar_AE, eo_001_#Latn, hr_HR, rof_TZ, as, it, ks_IN, my_MM, mn_MN, ur_PK, da_DK, en_FM, en_BE, ii, fr_WF, mzn_IR, naq, en_SG, kln_KE, tzm, ff_GM_#Latn, tt_RU_#Cyrl, teo_UG_#Latn, fur, om, asa_TZ_#Latn, bez_TZ, ff_GN_#Latn, sl_SI_#Latn, en_SD, mai_IN_#Deva, ja_JP_JP_#u-ca-japanese, es_SV, pt_BR, mni_IN_#Beng, ml_IN, ga_IE_#Latn, en_FK, is_IS, bas_CM_#Latn, en_DG, hr, pt_ST, ak_GH, lt, uz_AF_#Arab, ccp, en_SE, zh_CN_#Hans, es_419, ln_CD_#Latn, kkj_CM_#Latn, en, guz_KE, gsw_LI, ccp_BD, es_IC, ca, ar_TN, bm_ML, kw_GB, pa_PK, ug_CN, jmc_TZ_#Latn, ki_KE_#Latn, es_BR, khq_ML, en_SB, bo_CN_#Tibt, chr_US, rw_RW, shi_MA_#Tfng, ar_IQ, nyn, mk, sat, pa__#Arab, en_DE, ro_MD, bs, en_FI, fy, th, uz_UZ, dav_KE, ia_001_#Latn, sah_RU_#Cyrl, en_SC, en_UG, en_NZ, dje, es_UY, mas_KE, mni_IN, ru_UA, sg_CF, en_FJ, de_LI, en_BB, smn_FI, hr_BA, yo_NG_#Latn, de_AT, lu_CD, ar_001, so_SO, lv_LV, ckb, ar_KW, sr_RS_#Cyrl, bem, da, wae, en_LS, ig, en_HK, brx_IN_#Deva, mer_KE_#Latn, ce_RU, ka_GE, sw_TZ, fr_RW, mg_MG, en_US_#Latn, os_RU, sr_RS_#Latn, ky_KG, tzm_MA_#Latn, nl_NL_#Latn, ku_TR_#Latn, ki, mfe_MU_#Latn, nb, kok, ewo, nn, ar_JO, gl_ES_#Latn, bg, kea, zu, ky_KG_#Cyrl, am_ET, fr_DZ, bo_CN, hsb, qu_EC, ka_GE_#Geor, en_MS, kok_IN_#Deva, en_GG, kde_TZ_#Latn, sat_IN, sr_ME, sv_SE, pcm, sah, mer, en_ZM, fr_ML, ha_NG, br, ar_SA, fa_AF, fil_PH_#Latn, sk, om_ET_#Latn, os_GE, ckb_IQ_#Arab, yi_001, ml, en_MT, en_GH, en_IL, sv, kn_IN_#Knda, tzm_MA, el_GR_#Grek, ses_ML, rwk_TZ_#Latn, lkt_US, sd__#Deva, vai_LR_#Latn, ku, sw_CD, ff_MR_#Adlm, fil_PH, it_VA, es_PH, es_ES, es_CO, bg_BG, en_VC, ses_ML_#Latn, agq, hsb_DE, eu_ES_#Latn, en_150, sv_SE_#Latn, ar_SD, ha_NE, en_KN, ebu, ro_RO, sr_ME_#Latn, es_GT, ff_LR_#Latn, bas_CM, nd_ZW_#Latn, fr_MG, es_CL, mn, kam_KE, fa_IR, en_MO, ja_JP_#Jpan, wo, shi__#Tfng, en_BZ, lkt_US_#Latn, sq_AL, ro_RO_#Latn, twq_NE, nmg_CM, ta_IN_#Taml, kab_DZ_#Latn, az__#Cyrl, en_MP, en_GD, tk, sbp_TZ_#Latn, shi__#Latn, en_BW, kab_DZ, he_IL, kde_TZ, ta_MY, sv_FI, nd_ZW, luy_KE_#Latn, mni__#Beng, ne, en_IE, zh_SG, si_LK_#Sinh, en_KI, twq_NE_#Latn, om_ET, lo_LA_#Laoo, sq_AL_#Latn, ja_JP, kam_KE_#Latn, my, ka, ff_GH_#Adlm, ko_KR_#Kore, fr_MF, ms_ID, shi, kl, sa_IN, yue_HK, id, en_SZ, fo_FO_#Latn, rwk_TZ, zh, es_PE, mgh_MZ, saq, en_GB, zh_HK_#Hant, sat_IN_#Olck, kk_KZ, es_PA, ar_PS, bez, fr_MC, kw, vai__#Latn, ksh, ur_IN, ln, ce_RU_#Cyrl, gsw_CH, luy_KE, pt, kkj_CM, es_GQ, mgh_MZ_#Latn, ar_YE, to, en_SX, ru_KZ, et, ko_KP, nl_SR, rof, en_BS, bem_ZM_#Latn, be, gv, kln_KE_#Latn, dua, cgg_UG_#Latn, nl_BQ, ee_GH_#Latn, ff_GN_#Adlm, uz_UZ_#Cyrl, hi_IN_#Deva, guz, en_KE, mfe, asa_TZ, ja, fr_SN, or, brx, fr_MA, pt_LU, ff_GM_#Adlm, fr_BL, mgo_CM, nmg_CM_#Latn, mai_IN, ko_KR, tg_TJ_#Cyrl, es_MX, zu_ZA_#Latn, doi_IN, fi, uz, bs__#Cyrl, sr__#Latn, en_SS, bo_IN, rm, shi_MA, en_MG, fr_BI, hsb_DE_#Latn, naq_NA_#Latn, bn, br_FR_#Latn, kn, nnh, bn_BD, es_ES_#Latn, en_ZA, cy_GB_#Latn, fr_FR, pa_IN, en_MH, fr_BJ, vai_LR, zh__#Hant, jv_ID_#Latn, sah_RU, ps_AF, ky, mas, bs_BA_#Cyrl, xh_ZA_#Latn, dav_KE_#Latn, sk_SK, xh, khq_ML_#Latn, mzn_IR_#Arab, mn_MN_#Cyrl, wo_SN, ha_NG_#Latn, fr_HT, ru_RU_#Cyrl, te_IN, mas_KE_#Latn, nl_SX, lrc, ce, fr_CG, gv_IM_#Latn, mt_MT, ko, ms_MY_#Latn, ml_IN_#Mlym, nds_NL, zgh_MA_#Tfng, ak, kde, dz, nyn_UG_#Latn, en_VU, ia, to_TO, ff_SL_#Latn, seh_MZ, xog_UG_#Latn, ff_SN_#Adlm, vi_VN_#Latn, su_ID, jgo_CM_#Latn, ii_CN, pa_PK_#Arab, fr_RE, bn_IN, fr_GP, pa, zgh_MA, uk_UA, rwk, rn, tg, hu, fr_CH, lg_UG_#Latn, ceb_PH_#Latn, en_NF, twq, sr_XK_#Cyrl, bm, nb_NO_#Latn, ar_SS, en_GU, nl_AW, en_AI, fy_NL_#Latn, xog_UG, en_CM, cs_CZ, tr, ca_ES, hu_HU_#Latn, rm_CH, ru_MD, ff_SN_#Latn, en_TO, ff_SL_#Adlm, en_PG, et_EE_#Latn, fr_CF, pt_TL, en_ER, sr_BA, es_PY, kok_IN, be_BY_#Cyrl, fr_TG, dz_BT_#Tibt, sr_XK_#Latn, en_PH, ig_NG, fr_GN, gd_GB_#Latn, zh_MO_#Hans, sat__#Olck, se_FI, ff, en_CK, ar_MA, haw_US_#Latn, en_AG, fr_TD, ebu_KE, lt_LT_#Latn, bem_ZM, ewo_CM_#Latn, xog, ewo_CM, fr_CD, rn_BI, en_NA, mgo_CM_#Latn, ms, ug, ca_IT, qu_PE_#Latn, lag_TZ, id_ID, teo_KE, ca_AD, qu_BO, haw_US, vi, fr_CA, kea_CV_#Latn, sq_XK, dyo, mi_NZ_#Latn, en_KY, it_CH, si_LK, luo_KE, en_AE, it_IT, eo, ar_SO, en_ZW, nn_NO, fr_MU, pl, se_SE, en_TK, mua_CM, ur, uz__#Arab, saq_KE, pt_GW, se, sn_ZW_#Latn, ms_SG, ee_TG, ln_AO, be_BY, yue__#Hant, km_KH_#Khmr, it_IT_#Latn, luy, pt_CV, uk, es_PR, mzn, wae_CH, tt, ru_BY, fo_DK, ee_GH, ar_BH, kk_KZ_#Cyrl, ug_CN_#Arab, hi_IN, en_CH, saq_KE_#Latn, asa, fo_FO, yo_BJ, ast_ES, fr_KM, fr_MQ, es_AR, ff__#Latn, doi_IN_#Deva, en_MY, sbp_TZ, ebu_KE_#Latn, uz__#Cyrl, fil, yue_HK_#Hant, hy_AM, en_GM, fo, ksb_TZ_#Latn, ne_NP, fur_IT, ta_IN, fr_GF, lkt, id_ID_#Latn, is, pt_AO, te_IN_#Telu, si, en_001, dua_CM_#Latn, jv_ID, lag_TZ_#Latn, ru_KG, fr_MR, ksf_CM_#Latn, ks, zh_TW_#Hant, ff_BF_#Latn, as_IN, zh_HK, sw_KE, th_TH, as_IN_#Beng, jmc, yue, en_MW, naq_NA, en_IO, ar_QA, ar_EG_#Arab, en_CC, pt_PT, sk_SK_#Latn, az_AZ_#Cyrl, ckb_IQ, shi_MA_#Latn, es_CU, ar, en_VI, haw, eu_ES, bas, ig_NG_#Latn, el_GR, uz__#Latn, yav_CM, sg, da_GL, km_KH, ckb_IR, nl, ks_IN_#Arab, ca_ES_VALENCIA, wo_SN_#Latn, sd_IN_#Deva, mr_IN_#Deva, es_CR, fr_GA, sr, ar_LY, en_MU, gl_ES, az_AZ_#Latn, en_IM, gsw_CH_#Latn, seh_MZ_#Latn, en_GI, en_CA, gd, chr_US_#Cher, fr_SY, or_IN_#Orya, so_ET, ca_ES_#Latn, nl_BE, ar_DJ, dyo_SN_#Latn, cy_GB, en_VG, en_TC, sv_AX, cs_CZ_#Latn, af_NA, vun, en_IN, lu, yo, es_NI, ii_CN_#Yiii, sd_PK, mas_TZ, ti, ms_BN, ccp_IN, br_FR]"
      ]
     },
     "execution_count": 49,
     "metadata": {},
     "output_type": "execute_result"
    }
   ],
   "source": [
    "LocaleUtils.availableLocaleList()"
   ]
  },
  {
   "cell_type": "code",
   "execution_count": 50,
   "id": "406a4944",
   "metadata": {},
   "outputs": [
    {
     "data": {
      "text/plain": [
       "[, he, th_TH_#Thai, nds, tk_TM_#Latn, ti_ET, ta_SG, lv, en_NU, zh_SG_#Hans, ff_LR_#Adlm, en_JM, kkj, se_NO_#Latn, sd__#Arab, es_BO, dz_BT, mni, yi, bs_BA, dsb_DE, lb_LU_#Latn, en_LR, ar_TD, cs, el, nus_SS_#Latn, af, ff_MR_#Latn, sw_UG, smn, tk_TM, sr_ME_#Cyrl, ar_EG, dsb, os_GE_#Cyrl, yo_NG, se_NO, khq, en_PW, pl_PL, sr_CS, ne_IN, agq_CM_#Latn, ar_EH, bs_BA_#Latn, nds_DE, nb_SJ, es_US, sa, en_US_POSIX, pt_MO, zh__#Hans, lb_LU, dsb_DE_#Latn, is_IS_#Latn, so_KE, dje_NE, hy_AM_#Armn, ff_GH_#Latn, fr_PM, ar_KM, no_NO_NY, pl_PL_#Latn, agq_CM, gu_IN_#Gujr, teo, tr_TR, eu, kl_GL_#Latn, ar_MR, es_DO, ru, az, su__#Latn, fa, kl_GL, en_NR, nd, kk, nds_DE_#Latn, rw_RW_#Latn, hy, en_AU, en_CY, tr_TR_#Latn, ti_ER, nus_SS, en_RW, ksb, luo, lb, hr_HR_#Latn, su, ln_CD, nnh_CM, no, dje_NE_#Latn, ar_IL, mgh, or_IN, ps_AF_#Arab, az__#Latn, ta, lag, ar_SY, luo_KE_#Latn, ksf_CM, bo, tt_RU, om_KE, en_AS, fr_VU, zh_TW, sd_IN, kln, nnh_CM_#Latn, mai, pt_MZ, fr_NE, fur_IT_#Latn, ast_ES_#Latn, bez_TZ_#Latn, ksb_TZ, my_MM_#Mymr, en_JE, ln_CF, uz_AF, da_DK_#Latn, en_CX, ak_GH_#Latn, en_AT, gl, sr__#Cyrl, yue_CN_#Hans, ff__#Adlm, kn_IN, ga, qu, en_TZ, en_PR, mua, jv, ps, sn, km, zgh, fr_NC, es, jgo, gd_GB, gsw, fr_CM, wae_CH_#Latn, pa_IN_#Guru, ur_PK_#Arab, pcm_NG_#Latn, teo_UG, ceb, no_NO_#Latn, bn_BD_#Beng, smn_FI_#Latn, en_NL, ln_CG, ne_NP_#Deva, te, az_AZ, sl, el_CY, mr_IN, ku_TR, ha, guz_KE_#Latn, lrc_IR, gsw_FR, es_HN, hu_HU, ff_SN, sbp, sq_MK, sr_BA_#Cyrl, bg_BG_#Cyrl, so_SO_#Latn, et_EE, sw, ar_OM, fy_NL, nmg, tr_CY, lv_LV_#Latn, uz_UZ_#Latn, lrc_IQ, dua_CM, de_IT, pt_BR_#Latn, vai__#Vaii, fr_TN, sr_RS, de_CH, sw_TZ_#Latn, fr_PF, pt_GQ, gu, vun_TZ, jmc_TZ, mg_MG_#Latn, en_TV, lo, en_PN, lu_CD_#Latn, zh_HK_#Hans, nl_NL, en_GY, bs__#Latn, dyo_SN, os, nl_CW, ar_DZ, pt_CH, fr_GQ, am, en_NG, fr_CI, ki_KE, ia_001, en_PK, zh_CN, en_LC, rw, brx_IN, ff_BF_#Adlm, gv_IM, kw_GB_#Latn, bm_ML_#Latn, yav_CM_#Latn, mk_MK, en_TT, dav, sl_SI, sg_CF_#Latn, ses, fi_FI_#Latn, xh_ZA, fr_BE, jgo_CM, ff_NE_#Adlm, es_VE, mer_KE, mg, mr, en_BM, nb_NO, seh, kea_CV, mgo, vi_VN, en_US, mfe_MU, fr_BF, pa__#Guru, it_SM, fa_IR_#Arab, sa_IN_#Deva, fr_YT, gu_IN, ff_CM_#Latn, ast, mt_MT_#Latn, fi_FI, yue__#Hans, ca_FR, sr_BA_#Latn, ccp_BD_#Cakm, uk_UA_#Cyrl, fr_DJ, ks__#Arab, ff_GW_#Adlm, ha_GH, yi_001_#Hebr, af_ZA_#Latn, ti_ET_#Ethi, to_TO_#Latn, de_BE, am_ET_#Ethi, ff_GW_#Latn, cgg, zh_MO, mua_CM_#Latn, nyn_UG, ms_MY, rn_BI_#Latn, ta_LK, ksf, de_DE_#Latn, cy, ceb_PH, sq, fr, tg_TJ, vun_TZ_#Latn, qu_PE, de, es_EC, mk_MK_#Cyrl, ff_CM_#Adlm, lg_UG, ff_NE_#Latn, zu_ZA, fr_FR_#Latn, su_ID_#Latn, cgg_UG, ksh_DE, lg, ru_RU, pcm_NG, en_DM, sd, he_IL_#Hebr, ga_IE, en_BI, yue_CN, rm_CH_#Latn, en_WS, fr_LU, so, mi_NZ, ar_ER, kab, nus, sn_ZW, es_EA, ga_GB, th_TH_TH_#u-nu-thai, hi, fr_SC, en_SL, ff_NG_#Latn, no_NO, ff_NG_#Adlm, zh_MO_#Hant, en_SH, vai, sd_PK_#Arab, de_LU, mi, mt, de_DE, nn_NO_#Latn, en_DK, yav, so_DJ, lt_LT, kam, ro, eo_001, ps_PK, ee, en_UM, en_SI, vai_LR_#Vaii, lo_LA, chr, rof_TZ_#Latn, ar_LB, lrc_IR_#Arab, af_ZA, doi, ff_GN, ksh_DE_#Latn, es_BZ, ar_AE, eo_001_#Latn, hr_HR, rof_TZ, as, it, ks_IN, my_MM, mn_MN, ur_PK, da_DK, en_FM, en_BE, ii, fr_WF, mzn_IR, naq, en_SG, kln_KE, tzm, ff_GM_#Latn, tt_RU_#Cyrl, teo_UG_#Latn, fur, om, asa_TZ_#Latn, bez_TZ, ff_GN_#Latn, sl_SI_#Latn, en_SD, mai_IN_#Deva, ja_JP_JP_#u-ca-japanese, es_SV, pt_BR, mni_IN_#Beng, ml_IN, ga_IE_#Latn, en_FK, is_IS, bas_CM_#Latn, en_DG, hr, pt_ST, ak_GH, lt, uz_AF_#Arab, ccp, en_SE, zh_CN_#Hans, es_419, ln_CD_#Latn, kkj_CM_#Latn, en, guz_KE, gsw_LI, ccp_BD, es_IC, ca, ar_TN, bm_ML, kw_GB, pa_PK, ug_CN, jmc_TZ_#Latn, ki_KE_#Latn, es_BR, khq_ML, en_SB, bo_CN_#Tibt, chr_US, rw_RW, shi_MA_#Tfng, ar_IQ, nyn, mk, sat, pa__#Arab, en_DE, ro_MD, bs, en_FI, fy, th, uz_UZ, dav_KE, ia_001_#Latn, sah_RU_#Cyrl, en_SC, en_UG, en_NZ, dje, es_UY, mas_KE, mni_IN, ru_UA, sg_CF, en_FJ, de_LI, en_BB, smn_FI, hr_BA, yo_NG_#Latn, de_AT, lu_CD, ar_001, so_SO, lv_LV, ckb, ar_KW, sr_RS_#Cyrl, bem, da, wae, en_LS, ig, en_HK, brx_IN_#Deva, mer_KE_#Latn, ce_RU, ka_GE, sw_TZ, fr_RW, mg_MG, en_US_#Latn, os_RU, sr_RS_#Latn, ky_KG, tzm_MA_#Latn, nl_NL_#Latn, ku_TR_#Latn, ki, mfe_MU_#Latn, nb, kok, ewo, nn, ar_JO, gl_ES_#Latn, bg, kea, zu, ky_KG_#Cyrl, am_ET, fr_DZ, bo_CN, hsb, qu_EC, ka_GE_#Geor, en_MS, kok_IN_#Deva, en_GG, kde_TZ_#Latn, sat_IN, sr_ME, sv_SE, pcm, sah, mer, en_ZM, fr_ML, ha_NG, br, ar_SA, fa_AF, fil_PH_#Latn, sk, om_ET_#Latn, os_GE, ckb_IQ_#Arab, yi_001, ml, en_MT, en_GH, en_IL, sv, kn_IN_#Knda, tzm_MA, el_GR_#Grek, ses_ML, rwk_TZ_#Latn, lkt_US, sd__#Deva, vai_LR_#Latn, ku, sw_CD, ff_MR_#Adlm, fil_PH, it_VA, es_PH, es_ES, es_CO, bg_BG, en_VC, ses_ML_#Latn, agq, hsb_DE, eu_ES_#Latn, en_150, sv_SE_#Latn, ar_SD, ha_NE, en_KN, ebu, ro_RO, sr_ME_#Latn, es_GT, ff_LR_#Latn, bas_CM, nd_ZW_#Latn, fr_MG, es_CL, mn, kam_KE, fa_IR, en_MO, ja_JP_#Jpan, wo, shi__#Tfng, en_BZ, lkt_US_#Latn, sq_AL, ro_RO_#Latn, twq_NE, nmg_CM, ta_IN_#Taml, kab_DZ_#Latn, az__#Cyrl, en_MP, en_GD, tk, sbp_TZ_#Latn, shi__#Latn, en_BW, kab_DZ, he_IL, kde_TZ, ta_MY, sv_FI, nd_ZW, luy_KE_#Latn, mni__#Beng, ne, en_IE, zh_SG, si_LK_#Sinh, en_KI, twq_NE_#Latn, om_ET, lo_LA_#Laoo, sq_AL_#Latn, ja_JP, kam_KE_#Latn, my, ka, ff_GH_#Adlm, ko_KR_#Kore, fr_MF, ms_ID, shi, kl, sa_IN, yue_HK, id, en_SZ, fo_FO_#Latn, rwk_TZ, zh, es_PE, mgh_MZ, saq, en_GB, zh_HK_#Hant, sat_IN_#Olck, kk_KZ, es_PA, ar_PS, bez, fr_MC, kw, vai__#Latn, ksh, ur_IN, ln, ce_RU_#Cyrl, gsw_CH, luy_KE, pt, kkj_CM, es_GQ, mgh_MZ_#Latn, ar_YE, to, en_SX, ru_KZ, et, ko_KP, nl_SR, rof, en_BS, bem_ZM_#Latn, be, gv, kln_KE_#Latn, dua, cgg_UG_#Latn, nl_BQ, ee_GH_#Latn, ff_GN_#Adlm, uz_UZ_#Cyrl, hi_IN_#Deva, guz, en_KE, mfe, asa_TZ, ja, fr_SN, or, brx, fr_MA, pt_LU, ff_GM_#Adlm, fr_BL, mgo_CM, nmg_CM_#Latn, mai_IN, ko_KR, tg_TJ_#Cyrl, es_MX, zu_ZA_#Latn, doi_IN, fi, uz, bs__#Cyrl, sr__#Latn, en_SS, bo_IN, rm, shi_MA, en_MG, fr_BI, hsb_DE_#Latn, naq_NA_#Latn, bn, br_FR_#Latn, kn, nnh, bn_BD, es_ES_#Latn, en_ZA, cy_GB_#Latn, fr_FR, pa_IN, en_MH, fr_BJ, vai_LR, zh__#Hant, jv_ID_#Latn, sah_RU, ps_AF, ky, mas, bs_BA_#Cyrl, xh_ZA_#Latn, dav_KE_#Latn, sk_SK, xh, khq_ML_#Latn, mzn_IR_#Arab, mn_MN_#Cyrl, wo_SN, ha_NG_#Latn, fr_HT, ru_RU_#Cyrl, te_IN, mas_KE_#Latn, nl_SX, lrc, ce, fr_CG, gv_IM_#Latn, mt_MT, ko, ms_MY_#Latn, ml_IN_#Mlym, nds_NL, zgh_MA_#Tfng, ak, kde, dz, nyn_UG_#Latn, en_VU, ia, to_TO, ff_SL_#Latn, seh_MZ, xog_UG_#Latn, ff_SN_#Adlm, vi_VN_#Latn, su_ID, jgo_CM_#Latn, ii_CN, pa_PK_#Arab, fr_RE, bn_IN, fr_GP, pa, zgh_MA, uk_UA, rwk, rn, tg, hu, fr_CH, lg_UG_#Latn, ceb_PH_#Latn, en_NF, twq, sr_XK_#Cyrl, bm, nb_NO_#Latn, ar_SS, en_GU, nl_AW, en_AI, fy_NL_#Latn, xog_UG, en_CM, cs_CZ, tr, ca_ES, hu_HU_#Latn, rm_CH, ru_MD, ff_SN_#Latn, en_TO, ff_SL_#Adlm, en_PG, et_EE_#Latn, fr_CF, pt_TL, en_ER, sr_BA, es_PY, kok_IN, be_BY_#Cyrl, fr_TG, dz_BT_#Tibt, sr_XK_#Latn, en_PH, ig_NG, fr_GN, gd_GB_#Latn, zh_MO_#Hans, sat__#Olck, se_FI, ff, en_CK, ar_MA, haw_US_#Latn, en_AG, fr_TD, ebu_KE, lt_LT_#Latn, bem_ZM, ewo_CM_#Latn, xog, ewo_CM, fr_CD, rn_BI, en_NA, mgo_CM_#Latn, ms, ug, ca_IT, qu_PE_#Latn, lag_TZ, id_ID, teo_KE, ca_AD, qu_BO, haw_US, vi, fr_CA, kea_CV_#Latn, sq_XK, dyo, mi_NZ_#Latn, en_KY, it_CH, si_LK, luo_KE, en_AE, it_IT, eo, ar_SO, en_ZW, nn_NO, fr_MU, pl, se_SE, en_TK, mua_CM, ur, uz__#Arab, saq_KE, pt_GW, se, sn_ZW_#Latn, ms_SG, ee_TG, ln_AO, be_BY, yue__#Hant, km_KH_#Khmr, it_IT_#Latn, luy, pt_CV, uk, es_PR, mzn, wae_CH, tt, ru_BY, fo_DK, ee_GH, ar_BH, kk_KZ_#Cyrl, ug_CN_#Arab, hi_IN, en_CH, saq_KE_#Latn, asa, fo_FO, yo_BJ, ast_ES, fr_KM, fr_MQ, es_AR, ff__#Latn, doi_IN_#Deva, en_MY, sbp_TZ, ebu_KE_#Latn, uz__#Cyrl, fil, yue_HK_#Hant, hy_AM, en_GM, fo, ksb_TZ_#Latn, ne_NP, fur_IT, ta_IN, fr_GF, lkt, id_ID_#Latn, is, pt_AO, te_IN_#Telu, si, en_001, dua_CM_#Latn, jv_ID, lag_TZ_#Latn, ru_KG, fr_MR, ksf_CM_#Latn, ks, zh_TW_#Hant, ff_BF_#Latn, as_IN, zh_HK, sw_KE, th_TH, as_IN_#Beng, jmc, yue, en_MW, naq_NA, en_IO, ar_QA, ar_EG_#Arab, en_CC, pt_PT, sk_SK_#Latn, az_AZ_#Cyrl, ckb_IQ, shi_MA_#Latn, es_CU, ar, en_VI, haw, eu_ES, bas, ig_NG_#Latn, el_GR, uz__#Latn, yav_CM, sg, da_GL, km_KH, ckb_IR, nl, ks_IN_#Arab, ca_ES_VALENCIA, wo_SN_#Latn, sd_IN_#Deva, mr_IN_#Deva, es_CR, fr_GA, sr, ar_LY, en_MU, gl_ES, az_AZ_#Latn, en_IM, gsw_CH_#Latn, seh_MZ_#Latn, en_GI, en_CA, gd, chr_US_#Cher, fr_SY, or_IN_#Orya, so_ET, ca_ES_#Latn, nl_BE, ar_DJ, dyo_SN_#Latn, cy_GB, en_VG, en_TC, sv_AX, cs_CZ_#Latn, af_NA, vun, en_IN, lu, yo, es_NI, ii_CN_#Yiii, sd_PK, mas_TZ, ti, ms_BN, ccp_IN, br_FR]"
      ]
     },
     "execution_count": 50,
     "metadata": {},
     "output_type": "execute_result"
    }
   ],
   "source": [
    "LocaleUtils.availableLocaleSet()"
   ]
  },
  {
   "cell_type": "markdown",
   "id": "111fbcda",
   "metadata": {},
   "source": [
    "# 字符串"
   ]
  },
  {
   "cell_type": "markdown",
   "id": "6d144cf3",
   "metadata": {},
   "source": [
    "## 空判断"
   ]
  },
  {
   "cell_type": "code",
   "execution_count": 4,
   "id": "fb8df26f",
   "metadata": {},
   "outputs": [
    {
     "data": {
      "text/plain": [
       "[true, false, true, true]"
      ]
     },
     "execution_count": 4,
     "metadata": {},
     "output_type": "execute_result"
    }
   ],
   "source": [
    "//isEmpty只判断\"\"，isBlank连续的空白也算空\n",
    "listOf(StringUtils.isEmpty(\"\"),StringUtils.isEmpty(\"   \"),StringUtils.isBlank(\"\"),StringUtils.isBlank(\"   \"))"
   ]
  },
  {
   "cell_type": "markdown",
   "id": "a51d1a80",
   "metadata": {},
   "source": [
    "# 移除首尾空白"
   ]
  },
  {
   "cell_type": "code",
   "execution_count": 3,
   "id": "65e18936",
   "metadata": {},
   "outputs": [
    {
     "data": {
      "text/plain": [
       "[nnnjiikk, nnnjiikk, nnnjiikk, nnnjiikk]"
      ]
     },
     "execution_count": 3,
     "metadata": {},
     "output_type": "execute_result"
    }
   ],
   "source": [
    "//trim()移除<=32的字符，strip()移除java.lang.Character#isWhitespace(int)的字符\n",
    "listOf(StringUtils.trim(\" nnnjiikk    \"), \n",
    "       StringUtils.trim(\"\\u000B  nnnjiikk  \\u000B\"), \n",
    "       StringUtils.strip(\" nnnjiikk \"),\n",
    "       StringUtils.strip(\"\\u000B  nnnjiikk  \\u000B\")\n",
    "      )"
   ]
  },
  {
   "cell_type": "markdown",
   "id": "6474ac1a",
   "metadata": {},
   "source": [
    "# 字符串比较"
   ]
  },
  {
   "cell_type": "code",
   "execution_count": 7,
   "id": "0d1f25a8",
   "metadata": {},
   "outputs": [
    {
     "data": {
      "text/plain": [
       "[true, false, true, true, 0, 1, 0, 0]"
      ]
     },
     "execution_count": 7,
     "metadata": {},
     "output_type": "execute_result"
    }
   ],
   "source": [
    "listOf(StringUtils.equals(\"\",\"\"), \n",
    "       StringUtils.equals(\"\",null), \n",
    "       StringUtils.equals(null,null),\n",
    "       StringUtils.equals(\"g\",\"g\"),\n",
    "       StringUtils.compare(\"\",\"\"), \n",
    "       StringUtils.compare(\"\",null), \n",
    "       StringUtils.compare(null,null),\n",
    "       StringUtils.compare(\"g\",\"g\")\n",
    "      )"
   ]
  },
  {
   "cell_type": "markdown",
   "id": "b2ddd1f6",
   "metadata": {},
   "source": [
    "# 前缀和后缀匹配"
   ]
  },
  {
   "cell_type": "code",
   "execution_count": 10,
   "id": "75001190",
   "metadata": {},
   "outputs": [
    {
     "data": {
      "text/plain": [
       "[false, false, true, true, false, false, false, true, true, false]"
      ]
     },
     "execution_count": 10,
     "metadata": {},
     "output_type": "execute_result"
    }
   ],
   "source": [
    "listOf(StringUtils.startsWith(null,\"\"),\n",
    "       StringUtils.startsWith(\"\",null),\n",
    "       StringUtils.startsWith(\"abcd\",\"\"), \n",
    "       StringUtils.startsWith(\"abcd\",\"a\"),\n",
    "       StringUtils.startsWith(\"abcd\",\"b\"),\n",
    "       StringUtils.endsWith(null,\"\"),\n",
    "       StringUtils.endsWith(\"\",null),\n",
    "       StringUtils.endsWith(\"abcd\",\"\"), \n",
    "       StringUtils.endsWith(\"abcd\",\"d\"),\n",
    "       StringUtils.endsWith(\"abcd\",\"c\")\n",
    "      )"
   ]
  },
  {
   "cell_type": "markdown",
   "id": "3c060c23",
   "metadata": {},
   "source": [
    "# 字符串搜索"
   ]
  },
  {
   "cell_type": "code",
   "execution_count": 13,
   "id": "f8f746a5",
   "metadata": {},
   "outputs": [
    {
     "data": {
      "text/plain": [
       "[-1, -1, 0, 1, -1, -1, -1, 4, 1, -1, false, false, true, true, false]"
      ]
     },
     "execution_count": 13,
     "metadata": {},
     "output_type": "execute_result"
    }
   ],
   "source": [
    "listOf(StringUtils.indexOf(null,\"\"),\n",
    "       StringUtils.indexOf(\"\",null),\n",
    "       StringUtils.indexOf(\"abcd\",\"\"), \n",
    "       StringUtils.indexOf(\"abcd\",\"b\"),\n",
    "       StringUtils.indexOf(\"abcd\",\"k\"), \n",
    "       StringUtils.lastIndexOf(null,\"\"),\n",
    "       StringUtils.lastIndexOf(\"\",null),\n",
    "       StringUtils.lastIndexOf(\"abcd\",\"\"), \n",
    "       StringUtils.lastIndexOf(\"abcd\",\"b\"),\n",
    "       StringUtils.lastIndexOf(\"abcd\",\"k\"),\n",
    "       StringUtils.contains(null,\"\"),\n",
    "       StringUtils.contains(\"\",null),\n",
    "       StringUtils.contains(\"abcd\",\"\"), \n",
    "       StringUtils.contains(\"abcd\",\"b\"),\n",
    "       StringUtils.contains(\"abcd\",\"k\")\n",
    "      )"
   ]
  },
  {
   "cell_type": "markdown",
   "id": "3d00cde7",
   "metadata": {},
   "source": [
    "# 字符串子串(绝对位置)"
   ]
  },
  {
   "cell_type": "code",
   "execution_count": 26,
   "id": "c142ca92",
   "metadata": {},
   "outputs": [
    {
     "data": {
      "text/plain": [
       "[null, , b, bc, null, a, ab, null, d, cd, null, bc, cd]"
      ]
     },
     "execution_count": 26,
     "metadata": {},
     "output_type": "execute_result"
    }
   ],
   "source": [
    "listOf(StringUtils.substring(null,1),\n",
    "       StringUtils.substring(\"\",3),\n",
    "       //起始索引和终止索引\n",
    "       StringUtils.substring(\"abcd\",1,2), \n",
    "       StringUtils.substring(\"abcd\",1,3),\n",
    "       StringUtils.left(null,1), \n",
    "       StringUtils.left(\"abcd\",1), \n",
    "       StringUtils.left(\"abcd\",2), \n",
    "       StringUtils.right(null,1), \n",
    "       StringUtils.right(\"abcd\",1), \n",
    "       StringUtils.right(\"abcd\",2), \n",
    "       StringUtils.mid(null,1,2), \n",
    "       //起始索引和长度\n",
    "       StringUtils.mid(\"abcd\",1,2), \n",
    "       StringUtils.mid(\"abcd\",2,2)\n",
    "      )"
   ]
  },
  {
   "cell_type": "markdown",
   "id": "8517a27a",
   "metadata": {},
   "source": [
    "# 字符串子串（相对位置）"
   ]
  },
  {
   "cell_type": "code",
   "execution_count": 39,
   "id": "9ecc24fc",
   "metadata": {},
   "outputs": [
    {
     "data": {
      "text/plain": [
       "[null, , 2022-06-06, null, , 12:22:22, null, null, 06]"
      ]
     },
     "execution_count": 39,
     "metadata": {},
     "output_type": "execute_result"
    }
   ],
   "source": [
    "listOf(StringUtils.substringBefore(null,\" \"),\n",
    "       StringUtils.substringBefore(\"\",\" \"),\n",
    "       StringUtils.substringBefore(\"2022-06-06 12:22:22\",\" \"), \n",
    "       StringUtils.substringAfter(null,\" \"),\n",
    "       StringUtils.substringAfter(\"\",\" \"),\n",
    "       StringUtils.substringAfter(\"2022-06-06 12:22:22\",\" \"), \n",
    "       StringUtils.substringBetween(null,\"-\",\"-\"),\n",
    "       StringUtils.substringBetween(\"\",\"-\",\"-\"),\n",
    "       StringUtils.substringBetween(\"2022-06-06 12:22:22\",\"-\",\"-\"), \n",
    "      )"
   ]
  },
  {
   "cell_type": "code",
   "execution_count": 2,
   "id": "d21472db",
   "metadata": {},
   "outputs": [
    {
     "data": {
      "text/plain": [
       "10:00"
      ]
     },
     "execution_count": 2,
     "metadata": {},
     "output_type": "execute_result"
    }
   ],
   "source": [
    "StringUtils.substringBefore(\"10:00-22:00\",\"-\")"
   ]
  },
  {
   "cell_type": "code",
   "execution_count": 3,
   "id": "a5923fb8",
   "metadata": {},
   "outputs": [
    {
     "data": {
      "text/plain": [
       "22:00"
      ]
     },
     "execution_count": 3,
     "metadata": {},
     "output_type": "execute_result"
    }
   ],
   "source": [
    "StringUtils.substringAfter(\"10:00-22:00\",\"-\")"
   ]
  },
  {
   "cell_type": "markdown",
   "id": "de9fba15",
   "metadata": {},
   "source": [
    "# 分割和合并"
   ]
  },
  {
   "cell_type": "code",
   "execution_count": 44,
   "id": "9c0213a5",
   "metadata": {},
   "outputs": [
    {
     "data": {
      "text/plain": [
       "[2022-01-01, 09:08:07]"
      ]
     },
     "execution_count": 44,
     "metadata": {},
     "output_type": "execute_result"
    }
   ],
   "source": [
    "StringUtils.split(\"2022-01-01 09:08:07\",\" \")"
   ]
  },
  {
   "cell_type": "code",
   "execution_count": 45,
   "id": "aa216004",
   "metadata": {},
   "outputs": [
    {
     "data": {
      "text/plain": [
       "[2022-01-01, 09:08:07]"
      ]
     },
     "execution_count": 45,
     "metadata": {},
     "output_type": "execute_result"
    }
   ],
   "source": [
    "StringUtils.split(\"2022-01-01 09:08:07\",\" \")"
   ]
  },
  {
   "cell_type": "code",
   "execution_count": 46,
   "id": "03b04a24",
   "metadata": {},
   "outputs": [
    {
     "data": {
      "text/plain": [
       "[2022, 01, 01 09:08:07]"
      ]
     },
     "execution_count": 46,
     "metadata": {},
     "output_type": "execute_result"
    }
   ],
   "source": [
    "StringUtils.split(\"2022-01-01 09:08:07\",\"-\")"
   ]
  },
  {
   "cell_type": "code",
   "execution_count": 4,
   "id": "535caadb",
   "metadata": {},
   "outputs": [
    {
     "data": {
      "text/plain": [
       "[2022, 01-01 09:08:07]"
      ]
     },
     "execution_count": 4,
     "metadata": {},
     "output_type": "execute_result"
    }
   ],
   "source": [
    "StringUtils.split(\"2022-01-01 09:08:07\",\"-\",2)"
   ]
  },
  {
   "cell_type": "code",
   "execution_count": 51,
   "id": "88bcf0a1",
   "metadata": {},
   "outputs": [
    {
     "data": {
      "text/plain": [
       "[2022, 01, 01 09:08:07]"
      ]
     },
     "execution_count": 51,
     "metadata": {},
     "output_type": "execute_result"
    }
   ],
   "source": [
    "StringUtils.split(\"2022-01-01 09:08:07\",\"-\",3)"
   ]
  },
  {
   "cell_type": "code",
   "execution_count": null,
   "id": "36abf5c0",
   "metadata": {},
   "outputs": [],
   "source": []
  }
 ],
 "metadata": {
  "kernelspec": {
   "display_name": "Kotlin",
   "language": "kotlin",
   "name": "kotlin"
  },
  "language_info": {
   "codemirror_mode": "text/x-kotlin",
   "file_extension": ".kt",
   "mimetype": "text/x-kotlin",
   "name": "kotlin",
   "nbconvert_exporter": "",
   "pygments_lexer": "kotlin",
   "version": "1.8.0-dev-707"
  },
  "toc": {
   "base_numbering": 1,
   "nav_menu": {},
   "number_sections": false,
   "sideBar": false,
   "skip_h1_title": false,
   "title_cell": "Table of Contents",
   "title_sidebar": "Contents",
   "toc_cell": false,
   "toc_position": {},
   "toc_section_display": false,
   "toc_window_display": false
  }
 },
 "nbformat": 4,
 "nbformat_minor": 5
}
