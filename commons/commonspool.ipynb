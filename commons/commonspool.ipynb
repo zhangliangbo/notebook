{
 "cells": [
  {
   "cell_type": "markdown",
   "id": "3c3f012d",
   "metadata": {},
   "source": [
    "https://commons.apache.org/proper/commons-pool/examples.html"
   ]
  },
  {
   "cell_type": "code",
   "execution_count": 1,
   "id": "338bd079",
   "metadata": {},
   "outputs": [],
   "source": [
    "@file:DependsOn(\"org.apache.commons:commons-pool2:2.11.1\")"
   ]
  },
  {
   "cell_type": "code",
   "execution_count": null,
   "id": "c27643ad",
   "metadata": {},
   "outputs": [],
   "source": []
  }
 ],
 "metadata": {
  "kernelspec": {
   "display_name": "Kotlin",
   "language": "kotlin",
   "name": "kotlin"
  },
  "language_info": {
   "codemirror_mode": "text/x-kotlin",
   "file_extension": ".kt",
   "mimetype": "text/x-kotlin",
   "name": "kotlin",
   "nbconvert_exporter": "",
   "pygments_lexer": "kotlin",
   "version": "1.8.0-dev-707"
  }
 },
 "nbformat": 4,
 "nbformat_minor": 5
}
