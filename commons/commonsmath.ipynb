{
 "cells": [
  {
   "cell_type": "markdown",
   "id": "56bdfda9",
   "metadata": {},
   "source": [
    "https://commons.apache.org/proper/commons-math/javadocs/api-3.6.1/index.html"
   ]
  },
  {
   "cell_type": "markdown",
   "id": "0932f1a0",
   "metadata": {},
   "source": [
    "https://commons.apache.org/proper/commons-math/userguide/index.html"
   ]
  },
  {
   "cell_type": "code",
   "execution_count": 3,
   "id": "acd3f3f6",
   "metadata": {},
   "outputs": [],
   "source": [
    "@file:DependsOn(\"org.apache.commons:commons-math3:3.6.1\")\n",
    "import org.apache.commons.math3.stat.descriptive.*"
   ]
  },
  {
   "cell_type": "markdown",
   "id": "5c11d001",
   "metadata": {},
   "source": [
    "# 统计"
   ]
  },
  {
   "cell_type": "markdown",
   "id": "39ea12e1",
   "metadata": {},
   "source": [
    "## 描述性统计"
   ]
  },
  {
   "cell_type": "code",
   "execution_count": 21,
   "id": "83df54d5",
   "metadata": {},
   "outputs": [
    {
     "name": "stdout",
     "output_type": "stream",
     "text": [
      "1.0\r\n",
      "3.0\r\n",
      "6.6\r\n",
      "3\r\n",
      "2.2\r\n",
      "1.0583005244258363\r\n",
      "1.12\r\n"
     ]
    }
   ],
   "source": [
    "//原始数据和结果都存储在内存中\n",
    "val stats = DescriptiveStatistics();\n",
    "\n",
    "val inputArray = doubleArrayOf(1.0,2.6,3.0)\n",
    "for(i in 0..inputArray.size-1) {\n",
    "        stats.addValue(inputArray[i]);\n",
    "}\n",
    "\n",
    "println(stats.getMin())\n",
    "println(stats.getMax())\n",
    "println(stats.getSum())\n",
    "println(stats.getN())\n",
    "println(stats.getMean())\n",
    "println(stats.getStandardDeviation())\n",
    "println(stats.getVariance())"
   ]
  },
  {
   "cell_type": "code",
   "execution_count": 23,
   "id": "ff169a1a",
   "metadata": {},
   "outputs": [
    {
     "name": "stdout",
     "output_type": "stream",
     "text": [
      "1.0\r\n",
      "3.0\r\n",
      "6.6\r\n",
      "3\r\n",
      "2.2\r\n",
      "1.0583005244258363\r\n",
      "1.12\r\n"
     ]
    }
   ],
   "source": [
    "//只有结果存储在内存中\n",
    "val stats = SummaryStatistics();\n",
    "\n",
    "val inputArray = doubleArrayOf(1.0,2.6,3.0)\n",
    "for(i in 0..inputArray.size-1) {\n",
    "        stats.addValue(inputArray[i]);\n",
    "}\n",
    "\n",
    "println(stats.getMin())\n",
    "println(stats.getMax())\n",
    "println(stats.getSum())\n",
    "println(stats.getN())\n",
    "println(stats.getMean())\n",
    "println(stats.getStandardDeviation())\n",
    "println(stats.getVariance())"
   ]
  },
  {
   "cell_type": "code",
   "execution_count": null,
   "id": "f97f1697",
   "metadata": {},
   "outputs": [],
   "source": []
  }
 ],
 "metadata": {
  "kernelspec": {
   "display_name": "Kotlin",
   "language": "kotlin",
   "name": "kotlin"
  },
  "language_info": {
   "codemirror_mode": "text/x-kotlin",
   "file_extension": ".kt",
   "mimetype": "text/x-kotlin",
   "name": "kotlin",
   "nbconvert_exporter": "",
   "pygments_lexer": "kotlin",
   "version": "1.7.20-dev-1299"
  }
 },
 "nbformat": 4,
 "nbformat_minor": 5
}
