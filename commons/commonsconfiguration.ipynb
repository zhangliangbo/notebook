{
 "cells": [
  {
   "cell_type": "markdown",
   "id": "7055396d",
   "metadata": {},
   "source": [
    "https://commons.apache.org/proper/commons-configuration/userguide/user_guide.html"
   ]
  },
  {
   "cell_type": "code",
   "execution_count": 1,
   "id": "e47e0ceb",
   "metadata": {},
   "outputs": [],
   "source": [
    "@file:DependsOn(\"org.apache.commons:commons-configuration2:2.8.0\")"
   ]
  },
  {
   "cell_type": "code",
   "execution_count": null,
   "id": "38588e8f",
   "metadata": {},
   "outputs": [],
   "source": []
  }
 ],
 "metadata": {
  "kernelspec": {
   "display_name": "Kotlin",
   "language": "kotlin",
   "name": "kotlin"
  },
  "language_info": {
   "codemirror_mode": "text/x-kotlin",
   "file_extension": ".kt",
   "mimetype": "text/x-kotlin",
   "name": "kotlin",
   "nbconvert_exporter": "",
   "pygments_lexer": "kotlin",
   "version": "1.8.0-dev-707"
  }
 },
 "nbformat": 4,
 "nbformat_minor": 5
}
