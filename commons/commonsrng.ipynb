{
 "cells": [
  {
   "cell_type": "code",
   "execution_count": 1,
   "id": "f56ed156",
   "metadata": {},
   "outputs": [],
   "source": []
  },
  {
   "cell_type": "code",
   "execution_count": 1,
   "id": "24ffc1bf",
   "metadata": {},
   "outputs": [],
   "source": [
    "@file:DependsOn(\"org.apache.commons:commons-rng-simple:1.4\")\n",
    "import org.apache.commons.rng.UniformRandomProvider\n",
    "import org.apache.commons.rng.simple.RandomSource"
   ]
  },
  {
   "cell_type": "markdown",
   "id": "148b2e6d",
   "metadata": {},
   "source": [
    "随机数生成器对象通过在RandomSource中定义的工厂方法实例化，RandomSource是一个声明所有可用实现的枚举。"
   ]
  },
  {
   "cell_type": "code",
   "execution_count": 2,
   "id": "83e6d6b8",
   "metadata": {},
   "outputs": [],
   "source": [
    "val rng = RandomSource.MT.create();"
   ]
  },
  {
   "cell_type": "markdown",
   "id": "f8eebf41",
   "metadata": {},
   "source": [
    "生成器将从某种Java(原始)类型的可能值范围中返回一个随机选择的元素。 "
   ]
  },
  {
   "cell_type": "code",
   "execution_count": 19,
   "id": "5acc07df",
   "metadata": {},
   "outputs": [
    {
     "data": {
      "text/plain": [
       "true"
      ]
     },
     "execution_count": 19,
     "metadata": {},
     "output_type": "execute_result"
    }
   ],
   "source": [
    "// \"true\" or \"false\".\n",
    "rng.nextBoolean()"
   ]
  },
  {
   "cell_type": "code",
   "execution_count": 22,
   "id": "964c7225",
   "metadata": {},
   "outputs": [
    {
     "name": "stdout",
     "output_type": "stream",
     "text": [
      "-478622912\r\n",
      "4\r\n"
     ]
    }
   ],
   "source": [
    "// Integer.MIN_VALUE <= n <= Integer.MAX_VALUE.\n",
    "println(rng.nextInt())\n",
    "// 0 <= m < max.\n",
    "println(rng.nextInt(10))"
   ]
  },
  {
   "cell_type": "code",
   "execution_count": 23,
   "id": "a86895ee",
   "metadata": {},
   "outputs": [
    {
     "name": "stdout",
     "output_type": "stream",
     "text": [
      "-201202059275004220\r\n",
      "2\r\n"
     ]
    }
   ],
   "source": [
    "// Long.MIN_VALUE <= n <= Long.MAX_VALUE.\n",
    "println(rng.nextLong()); \n",
    "// 0 <= m < max.\n",
    "println(rng.nextLong(10)) "
   ]
  },
  {
   "cell_type": "code",
   "execution_count": 17,
   "id": "b0db14a2",
   "metadata": {},
   "outputs": [
    {
     "data": {
      "text/plain": [
       "0.53647393"
      ]
     },
     "execution_count": 17,
     "metadata": {},
     "output_type": "execute_result"
    }
   ],
   "source": [
    "// 0 <= x < 1.\n",
    "rng.nextFloat();"
   ]
  },
  {
   "cell_type": "code",
   "execution_count": 24,
   "id": "060e2813",
   "metadata": {},
   "outputs": [
    {
     "data": {
      "text/plain": [
       "0.36219377066427283"
      ]
     },
     "execution_count": 24,
     "metadata": {},
     "output_type": "execute_result"
    }
   ],
   "source": [
    "// 0 <= x < 1.\n",
    "rng.nextDouble();"
   ]
  },
  {
   "cell_type": "markdown",
   "id": "75970ed0",
   "metadata": {},
   "source": [
    "生成器将用随机值填充给定的字节数组。 "
   ]
  },
  {
   "cell_type": "code",
   "execution_count": 29,
   "id": "6170a6fc",
   "metadata": {},
   "outputs": [
    {
     "data": {
      "text/plain": [
       "[16, 120, -80, -54, -40, -43, 66, 100, -37, -3, -27, 77, 50, -78, 95, -40, 80, 125, 87, 4, -80, 99, -72, 59, -25, -72, 44, -62, 79, -48, 46, 92, -98, -89, -74, -59, 84, 72, -63, -19, 93, -89, 120, -32, 89, -97, 85]"
      ]
     },
     "execution_count": 29,
     "metadata": {},
     "output_type": "execute_result"
    }
   ],
   "source": [
    "val a = ByteArray(47)\n",
    "// The elements of \"a\" are replaced with random values from the interval [-128, 127].\n",
    "rng.nextBytes(a)\n",
    "\n",
    "a"
   ]
  },
  {
   "cell_type": "code",
   "execution_count": null,
   "id": "c578efb8",
   "metadata": {},
   "outputs": [],
   "source": []
  }
 ],
 "metadata": {
  "kernelspec": {
   "display_name": "Kotlin",
   "language": "kotlin",
   "name": "kotlin"
  },
  "language_info": {
   "codemirror_mode": "text/x-kotlin",
   "file_extension": ".kt",
   "mimetype": "text/x-kotlin",
   "name": "kotlin",
   "nbconvert_exporter": "",
   "pygments_lexer": "kotlin",
   "version": "1.7.20-dev-1299"
  }
 },
 "nbformat": 4,
 "nbformat_minor": 5
}
