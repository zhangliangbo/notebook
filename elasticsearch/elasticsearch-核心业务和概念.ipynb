{
 "cells": [
  {
   "cell_type": "markdown",
   "id": "26d3d52a",
   "metadata": {},
   "source": []
  },
  {
   "cell_type": "markdown",
   "id": "9e08d707",
   "metadata": {},
   "source": [
    "# 核心业务"
   ]
  },
  {
   "cell_type": "markdown",
   "id": "2ff818be",
   "metadata": {},
   "source": [
    "## 存储"
   ]
  },
  {
   "cell_type": "markdown",
   "id": "e41e9580",
   "metadata": {},
   "source": [
    "## 搜索"
   ]
  },
  {
   "cell_type": "markdown",
   "id": "d7dfec82",
   "metadata": {},
   "source": [
    "# 核心概念"
   ]
  },
  {
   "cell_type": "markdown",
   "id": "e77689bb",
   "metadata": {},
   "source": [
    "## 索引"
   ]
  },
  {
   "cell_type": "markdown",
   "id": "0597034b",
   "metadata": {},
   "source": [
    "### 分析器"
   ]
  },
  {
   "cell_type": "markdown",
   "id": "02e866e8",
   "metadata": {},
   "source": [
    "执行分词和归一化。"
   ]
  },
  {
   "cell_type": "markdown",
   "id": "ca6b4a3a",
   "metadata": {},
   "source": [
    "> https://www.elastic.co/guide/en/elasticsearch/reference/7.11/analyzer-anatomy.html#analyzer-anatomy-character-filters"
   ]
  },
  {
   "cell_type": "markdown",
   "id": "4536d6c7",
   "metadata": {},
   "source": [
    "#### 字符过滤器"
   ]
  },
  {
   "cell_type": "markdown",
   "id": "8678b2a2",
   "metadata": {},
   "source": [
    "字符过滤器接收原始文本作为字符流，并可以通过添加、删除或更改字符来转换该流。例如，可以使用字符过滤器将印度阿拉伯数字(٠ [١٢٣٤٥٦٧٨] [٩])转换为阿拉伯拉丁数字(0123456789])，或者从流中剥离`<b>`这样的HTML元素。"
   ]
  },
  {
   "cell_type": "markdown",
   "id": "3ff0ab05",
   "metadata": {},
   "source": [
    "常见的字符过滤器：\n",
    "- `html_strip`(org.apache.lucene.analysis.charfilter.HTMLStripCharFilter)：从文本中剥离HTML元素，并用它们的解码值替换HTML实体(例如，替换`&amp;`为&)。\n",
    "- `mapping`(org.apache.lucene.analysis.charfilter.MappingCharFilter)：映射字符筛选器接受键和值的映射。每当它遇到一串与键相同的字符时，它就用与该键关联的值替换它们。匹配是贪婪的;在给定点上最长的模式匹配获胜。允许替换为空字符串。\n",
    "- `pattern_replace`：使用正则表达式来匹配应该用指定的替换字符串替换的字符。替换字符串可以引用正则表达式中的捕获组。"
   ]
  },
  {
   "cell_type": "markdown",
   "id": "bd2f22a9",
   "metadata": {},
   "source": [
    "## 文档"
   ]
  },
  {
   "cell_type": "markdown",
   "id": "d04677fb",
   "metadata": {},
   "source": [
    "# 核心技术"
   ]
  },
  {
   "cell_type": "markdown",
   "id": "b2740992",
   "metadata": {},
   "source": [
    "## 分词"
   ]
  },
  {
   "cell_type": "markdown",
   "id": "1086a53f",
   "metadata": {},
   "source": [
    "一个长文本，可以分割成多个较小的词项。"
   ]
  },
  {
   "cell_type": "markdown",
   "id": "88144c78",
   "metadata": {},
   "source": [
    "- 存储分词\n",
    "- 搜索分词"
   ]
  },
  {
   "cell_type": "markdown",
   "id": "2ef4ca1c",
   "metadata": {},
   "source": [
    "## 归一化"
   ]
  },
  {
   "cell_type": "markdown",
   "id": "68c8ae78",
   "metadata": {},
   "source": [
    "多个相似的词项可以归一化成一个相同的词项。这样的话，有些不同的词项，比如Day和day可以匹配到同一个词项day。"
   ]
  },
  {
   "cell_type": "markdown",
   "id": "6769c124",
   "metadata": {},
   "source": [
    "## 倒排索引"
   ]
  }
 ],
 "metadata": {
  "kernelspec": {
   "display_name": "Kotlin",
   "language": "kotlin",
   "name": "kotlin"
  },
  "language_info": {
   "codemirror_mode": "text/x-kotlin",
   "file_extension": ".kt",
   "mimetype": "text/x-kotlin",
   "name": "kotlin",
   "nbconvert_exporter": "",
   "pygments_lexer": "kotlin",
   "version": "1.8.0-RC"
  }
 },
 "nbformat": 4,
 "nbformat_minor": 5
}
