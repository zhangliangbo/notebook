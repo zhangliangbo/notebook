{
 "cells": [
  {
   "cell_type": "markdown",
   "id": "4bd3b99b",
   "metadata": {},
   "source": []
  },
  {
   "cell_type": "markdown",
   "id": "d1d7e3a3",
   "metadata": {},
   "source": [
    "# 核心业务"
   ]
  },
  {
   "cell_type": "markdown",
   "id": "ad05af7c",
   "metadata": {},
   "source": [
    "## 索引"
   ]
  },
  {
   "cell_type": "markdown",
   "id": "30046d95",
   "metadata": {},
   "source": [
    "## 存储"
   ]
  },
  {
   "cell_type": "markdown",
   "id": "5978b9ed",
   "metadata": {},
   "source": [
    "## 搜索"
   ]
  },
  {
   "cell_type": "markdown",
   "id": "92ba068d",
   "metadata": {},
   "source": [
    "# 核心概念"
   ]
  },
  {
   "cell_type": "markdown",
   "id": "f810cb4f",
   "metadata": {},
   "source": [
    "## 索引"
   ]
  },
  {
   "cell_type": "code",
   "execution_count": null,
   "id": "387ddcff",
   "metadata": {},
   "outputs": [],
   "source": []
  },
  {
   "cell_type": "markdown",
   "id": "1e28d70c",
   "metadata": {},
   "source": [
    "### 分析器"
   ]
  },
  {
   "cell_type": "markdown",
   "id": "a90b937b",
   "metadata": {},
   "source": [
    "执行分词和归一化。根据类型可以分为内置分析器和自定义分析器。"
   ]
  },
  {
   "cell_type": "markdown",
   "id": "30b2913c",
   "metadata": {},
   "source": [
    "> 指定默认的索引分析器和搜索分析器：`analysis.analyzer.default`和`analysis.analyzer.default_search`。如果提供了搜索分析器，则必须使用`analysis.analyzer.default`设置指定默认索引分析器。"
   ]
  },
  {
   "cell_type": "markdown",
   "id": "eccc9383",
   "metadata": {},
   "source": [
    "在搜索时，Elasticsearch通过按顺序检查以下参数来确定使用哪个分析器："
   ]
  },
  {
   "cell_type": "markdown",
   "id": "8650281f",
   "metadata": {},
   "source": [
    "1. 搜索查询指定的`analyzer`参数。\n",
    "2. 字段映射指定的`search_analyzer`参数。\n",
    "3. `analysis.analyzer.default_search`的设置。\n",
    "4. 字段映射指定的`analyzer`参数。\n",
    "5. 如果以上都未指定，使用`standard`分析器。"
   ]
  },
  {
   "cell_type": "markdown",
   "id": "f777acb6",
   "metadata": {},
   "source": [
    "> https://www.elastic.co/guide/en/elasticsearch/reference/7.11/analyzer-anatomy.html#analyzer-anatomy-character-filters"
   ]
  },
  {
   "cell_type": "markdown",
   "id": "0d14007c",
   "metadata": {},
   "source": [
    "#### 字符过滤器"
   ]
  },
  {
   "cell_type": "markdown",
   "id": "57dffe22",
   "metadata": {},
   "source": [
    "字符过滤器接收原始文本作为字符流，并可以通过添加、删除或更改字符来转换该流。例如，可以使用字符过滤器将印度阿拉伯数字(٠ [١٢٣٤٥٦٧٨] [٩])转换为阿拉伯拉丁数字(0123456789])，或者从流中剥离`<b>`这样的HTML元素。"
   ]
  },
  {
   "cell_type": "markdown",
   "id": "dfe248c5",
   "metadata": {},
   "source": [
    "常见的字符过滤器：\n",
    "- `html_strip`(org.apache.lucene.analysis.charfilter.HTMLStripCharFilter)：从文本中剥离HTML元素，并用它们的解码值替换HTML实体(例如，替换`&amp;`为&)。\n",
    "- `mapping`(org.apache.lucene.analysis.charfilter.MappingCharFilter)：映射字符筛选器接受键和值的映射。每当它遇到一串与键相同的字符时，它就用与该键关联的值替换它们。匹配是贪婪的;在给定点上最长的模式匹配获胜。允许替换为空字符串。\n",
    "- `pattern_replace`：使用正则表达式来匹配应该用指定的替换字符串替换的字符。替换字符串可以引用正则表达式中的捕获组。"
   ]
  },
  {
   "cell_type": "markdown",
   "id": "465e8c0b",
   "metadata": {},
   "source": [
    "#### 分词器"
   ]
  },
  {
   "cell_type": "markdown",
   "id": "0c8decf0",
   "metadata": {},
   "source": [
    "分词器接收字符流，将其分解为单独的词项(通常是单独的单词)，然后输出词项流。例如，`whitespace `分词器在看到空白时将文本分解为词项。它会将文本`\"Quick brown fox!\"`转换为词项`[Quick, brown, fox!]`。分词器还负责记录每个词的顺序或位置，以及该词所代表的原始词的起始和结束字符偏移量。"
   ]
  },
  {
   "cell_type": "markdown",
   "id": "6867ec6c",
   "metadata": {},
   "source": [
    "#### 分词过滤器"
   ]
  },
  {
   "cell_type": "markdown",
   "id": "d478fa42",
   "metadata": {},
   "source": [
    "分词过滤器接收分词流，并可以添加、删除或更改分词。例如，`lowercase`分词过滤器将所有分词转换为小写，`stop`分词过滤器从分词流中删除常见单词(停止词)，而`synonym`分词过滤器将同义词引入分词流。分词过滤器不允许更改每个分词的位置或字符偏移量。"
   ]
  },
  {
   "cell_type": "markdown",
   "id": "e793458b",
   "metadata": {},
   "source": [
    "### 归一化器"
   ]
  },
  {
   "cell_type": "markdown",
   "id": "805c6662",
   "metadata": {},
   "source": [
    "归一化器与分析器类似，只是它们可能只发出一个令牌。因此，它们没有分词器，只接受可用的字符过滤器和分词过滤器的子集。只允许在每个字符基础上工作的过滤器。例如，允许使用小写的过滤器，但不允许使用词干过滤器，因为词干过滤器需要从整体上查看关键字。目前可以在规范化器中使用的过滤器列表如下:arabic_normalization、asciifolding、bengali_normalization、cjk_width、decimal_digit、elision、german_normalization、hindi_normalization、indic_normalization、lowercase、persian_normalization、scandinavian_folding、serbian_normalization、sorani_normalization、uppercase。"
   ]
  },
  {
   "cell_type": "markdown",
   "id": "b7bc840d",
   "metadata": {},
   "source": [
    "## 文档"
   ]
  },
  {
   "cell_type": "markdown",
   "id": "33ca8a75",
   "metadata": {},
   "source": [
    "# 核心技术"
   ]
  },
  {
   "cell_type": "markdown",
   "id": "89a12fa3",
   "metadata": {},
   "source": [
    "## 分词"
   ]
  },
  {
   "cell_type": "markdown",
   "id": "feb0b56a",
   "metadata": {},
   "source": [
    "一个长文本，可以分割成多个较小的词项。"
   ]
  },
  {
   "cell_type": "markdown",
   "id": "732adac9",
   "metadata": {},
   "source": [
    "- 索引分词\n",
    "- 搜索分词"
   ]
  },
  {
   "cell_type": "markdown",
   "id": "5b8d2f00",
   "metadata": {},
   "source": [
    "## 归一化"
   ]
  },
  {
   "cell_type": "markdown",
   "id": "486e7895",
   "metadata": {},
   "source": [
    "多个相似的词项可以归一化成一个相同的词项。这样的话，有些不同的词项，比如Day和day可以匹配到同一个词项day。"
   ]
  },
  {
   "cell_type": "markdown",
   "id": "8c01d3d2",
   "metadata": {},
   "source": [
    "## 倒排索引"
   ]
  }
 ],
 "metadata": {
  "kernelspec": {
   "display_name": "Kotlin",
   "language": "kotlin",
   "name": "kotlin"
  },
  "language_info": {
   "codemirror_mode": "text/x-kotlin",
   "file_extension": ".kt",
   "mimetype": "text/x-kotlin",
   "name": "kotlin",
   "nbconvert_exporter": "",
   "pygments_lexer": "kotlin",
   "version": "1.8.0-RC"
  }
 },
 "nbformat": 4,
 "nbformat_minor": 5
}
