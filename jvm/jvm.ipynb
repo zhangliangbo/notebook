{
 "cells": [
  {
   "cell_type": "code",
   "execution_count": null,
   "id": "7143dc6c",
   "metadata": {},
   "outputs": [],
   "source": []
  },
  {
   "cell_type": "markdown",
   "id": "5490809f",
   "metadata": {},
   "source": [
    "# 核心业务"
   ]
  },
  {
   "cell_type": "markdown",
   "id": "fc61f873",
   "metadata": {},
   "source": [
    "## 管理内存"
   ]
  },
  {
   "cell_type": "markdown",
   "id": "1785bae2",
   "metadata": {},
   "source": [
    "### 内存划分"
   ]
  },
  {
   "cell_type": "markdown",
   "id": "cc297dd4",
   "metadata": {},
   "source": [
    "- 元空间\n",
    "- 堆\n",
    "    - 新生代\n",
    "        - Eden\n",
    "        - From Survivor\n",
    "        - To Survivor\n",
    "    - 老年代\n",
    "- 虚拟机栈\n",
    "    - 栈帧1\n",
    "        - 本地变量表\n",
    "    - 栈帧2\n",
    "        - 本地变量表\n",
    "- 本地方法栈\n",
    "- 程序计数器\n",
    "- 直接内存"
   ]
  },
  {
   "cell_type": "markdown",
   "id": "bc2729d9",
   "metadata": {},
   "source": [
    "1. 查看`JVM`最大可分配内存：\n",
    "    ```\n",
    "    java -XshowSettings:vm\n",
    "    ```"
   ]
  },
  {
   "cell_type": "markdown",
   "id": "0e8a9ea8",
   "metadata": {},
   "source": [
    "2. 设置`堆`初始内存和最大可分配内存:\n",
    "\n",
    "    ```\n",
    "    -Xms2G\n",
    "    -Xmx2G\n",
    "    ```\n",
    "    为`新生代`设置初始和最大堆大小：\n",
    "    ```\n",
    "    -Xmn1G\n",
    "    ```\n",
    "    或者设置新生代和老年代的比例(1:n)，新生代占比1/(1+n)：\n",
    "    ```\n",
    "    -XX:NewRatio=n\n",
    "    ```\n",
    "    设置Survivor和Eden的比例(2:n)，Survivor占比2/(2+n)：\n",
    "    ```\n",
    "    -XX:SurvivorRatio=n\n",
    "    ```"
   ]
  },
  {
   "cell_type": "markdown",
   "id": "fa0d142e",
   "metadata": {},
   "source": [
    "3. 设置Java线程`堆栈`大小:\n",
    "\n",
    "    ```\n",
    "    -Xss256M\n",
    "    ```\n",
    "    每个线程的堆栈是独立的，如果-Xss设置得过大，一个线程占用的堆栈内存过多，则能开启的最大线程数将减少。"
   ]
  },
  {
   "cell_type": "markdown",
   "id": "2ec69929",
   "metadata": {},
   "source": [
    "4. 设置元空间内存:\n",
    "\n",
    "    ```\n",
    "    -Xss256M\n",
    "    ```\n",
    "    每个线程的堆栈是独立的，如果-Xss设置得过大，一个线程占用的堆栈内存过多，则能开启的最大线程数将减少。"
   ]
  },
  {
   "cell_type": "markdown",
   "id": "15afce19",
   "metadata": {},
   "source": [
    "# 核心技术"
   ]
  },
  {
   "cell_type": "code",
   "execution_count": null,
   "id": "4bfedb93",
   "metadata": {},
   "outputs": [],
   "source": [
    "# "
   ]
  }
 ],
 "metadata": {
  "kernelspec": {
   "display_name": "Kotlin",
   "language": "kotlin",
   "name": "kotlin"
  },
  "language_info": {
   "codemirror_mode": "text/x-kotlin",
   "file_extension": ".kt",
   "mimetype": "text/x-kotlin",
   "name": "kotlin",
   "nbconvert_exporter": "",
   "pygments_lexer": "kotlin",
   "version": "1.8.0-RC"
  }
 },
 "nbformat": 4,
 "nbformat_minor": 5
}
