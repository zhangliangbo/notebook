{
 "cells": [
  {
   "cell_type": "markdown",
   "id": "217a5f91",
   "metadata": {},
   "source": [
    "https://netty.io/"
   ]
  },
  {
   "cell_type": "code",
   "execution_count": 2,
   "id": "46d70bc1",
   "metadata": {},
   "outputs": [],
   "source": [
    "@file:DependsOn(\"io.netty:netty-all:4.1.72.Final\")\n",
    "import io.netty.buffer.*"
   ]
  },
  {
   "cell_type": "markdown",
   "id": "6f9dd8e6",
   "metadata": {},
   "source": [
    "# 缓冲"
   ]
  },
  {
   "cell_type": "markdown",
   "id": "20e6b126",
   "metadata": {},
   "source": [
    "### 创建buffer"
   ]
  },
  {
   "cell_type": "code",
   "execution_count": 4,
   "id": "bc1f4d74",
   "metadata": {},
   "outputs": [
    {
     "data": {
      "text/plain": [
       "null"
      ]
     },
     "execution_count": 4,
     "metadata": {},
     "output_type": "execute_result"
    }
   ],
   "source": [
    "System.getProperty(\"io.netty.allocator.type\")"
   ]
  },
  {
   "cell_type": "code",
   "execution_count": 6,
   "id": "dbb9f166",
   "metadata": {},
   "outputs": [
    {
     "data": {
      "text/plain": [
       "PooledUnsafeDirectByteBuf(ridx: 0, widx: 0, cap: 9/100)"
      ]
     },
     "execution_count": 6,
     "metadata": {},
     "output_type": "execute_result"
    }
   ],
   "source": [
    "val bb = ByteBufAllocator.DEFAULT.buffer(9,100)\n",
    "bb"
   ]
  },
  {
   "cell_type": "markdown",
   "id": "15791e03",
   "metadata": {},
   "source": [
    "### 基础属性"
   ]
  },
  {
   "cell_type": "code",
   "execution_count": 40,
   "id": "6b6767bf",
   "metadata": {},
   "outputs": [
    {
     "data": {
      "text/plain": [
       "true"
      ]
     },
     "execution_count": 40,
     "metadata": {},
     "output_type": "execute_result"
    }
   ],
   "source": [
    "//是否直接内存\n",
    "bb.isDirect"
   ]
  },
  {
   "cell_type": "code",
   "execution_count": 41,
   "id": "596bd868",
   "metadata": {},
   "outputs": [
    {
     "data": {
      "text/plain": [
       "false"
      ]
     },
     "execution_count": 41,
     "metadata": {},
     "output_type": "execute_result"
    }
   ],
   "source": [
    "//是否只读\n",
    "bb.isReadOnly"
   ]
  },
  {
   "cell_type": "code",
   "execution_count": 25,
   "id": "5634412f",
   "metadata": {},
   "outputs": [
    {
     "data": {
      "text/plain": [
       "9"
      ]
     },
     "execution_count": 25,
     "metadata": {},
     "output_type": "execute_result"
    }
   ],
   "source": [
    "//容量\n",
    "bb.capacity()"
   ]
  },
  {
   "cell_type": "code",
   "execution_count": 49,
   "id": "550bb6cb",
   "metadata": {},
   "outputs": [
    {
     "data": {
      "text/plain": [
       "100"
      ]
     },
     "execution_count": 49,
     "metadata": {},
     "output_type": "execute_result"
    }
   ],
   "source": [
    "//最大容量\n",
    "bb.maxCapacity()"
   ]
  },
  {
   "cell_type": "markdown",
   "id": "93003b9c",
   "metadata": {},
   "source": [
    "> 两个容量不等的话可以扩容"
   ]
  },
  {
   "cell_type": "code",
   "execution_count": 50,
   "id": "ee744754",
   "metadata": {},
   "outputs": [
    {
     "data": {
      "text/plain": [
       "false"
      ]
     },
     "execution_count": 50,
     "metadata": {},
     "output_type": "execute_result"
    }
   ],
   "source": [
    "//是否可读\n",
    "bb.isReadable"
   ]
  },
  {
   "cell_type": "code",
   "execution_count": 51,
   "id": "d42e10fa",
   "metadata": {},
   "outputs": [
    {
     "data": {
      "text/plain": [
       "0"
      ]
     },
     "execution_count": 51,
     "metadata": {},
     "output_type": "execute_result"
    }
   ],
   "source": [
    "//读索引\n",
    "bb.readerIndex()"
   ]
  },
  {
   "cell_type": "code",
   "execution_count": 52,
   "id": "16fd9149",
   "metadata": {},
   "outputs": [
    {
     "data": {
      "text/plain": [
       "0"
      ]
     },
     "execution_count": 52,
     "metadata": {},
     "output_type": "execute_result"
    }
   ],
   "source": [
    "//可读字节数\n",
    "bb.readableBytes()"
   ]
  },
  {
   "cell_type": "code",
   "execution_count": 53,
   "id": "0bf3cb61",
   "metadata": {},
   "outputs": [
    {
     "data": {
      "text/plain": [
       "true"
      ]
     },
     "execution_count": 53,
     "metadata": {},
     "output_type": "execute_result"
    }
   ],
   "source": [
    "//是否可写\n",
    "bb.isWritable"
   ]
  },
  {
   "cell_type": "code",
   "execution_count": 54,
   "id": "301d3a24",
   "metadata": {},
   "outputs": [
    {
     "data": {
      "text/plain": [
       "0"
      ]
     },
     "execution_count": 54,
     "metadata": {},
     "output_type": "execute_result"
    }
   ],
   "source": [
    "//写索引\n",
    "bb.writerIndex()"
   ]
  },
  {
   "cell_type": "code",
   "execution_count": 55,
   "id": "22eeb007",
   "metadata": {},
   "outputs": [
    {
     "data": {
      "text/plain": [
       "9"
      ]
     },
     "execution_count": 55,
     "metadata": {},
     "output_type": "execute_result"
    }
   ],
   "source": [
    "//可写字节数\n",
    "bb.writableBytes()"
   ]
  },
  {
   "cell_type": "code",
   "execution_count": 56,
   "id": "26a46f1d",
   "metadata": {},
   "outputs": [
    {
     "data": {
      "text/plain": [
       "100"
      ]
     },
     "execution_count": 56,
     "metadata": {},
     "output_type": "execute_result"
    }
   ],
   "source": [
    "//最大可写字节数\n",
    "bb.maxWritableBytes()"
   ]
  },
  {
   "cell_type": "markdown",
   "id": "2776ecd6",
   "metadata": {},
   "source": [
    "### 引用计数"
   ]
  },
  {
   "cell_type": "code",
   "execution_count": 9,
   "id": "36b80393",
   "metadata": {},
   "outputs": [],
   "source": [
    "val ref = ByteBufAllocator.DEFAULT.buffer()"
   ]
  },
  {
   "cell_type": "code",
   "execution_count": 10,
   "id": "f0572657",
   "metadata": {},
   "outputs": [
    {
     "data": {
      "text/plain": [
       "1"
      ]
     },
     "execution_count": 10,
     "metadata": {},
     "output_type": "execute_result"
    }
   ],
   "source": [
    "//新建一个ByteBuf是1\n",
    "ref.refCnt()"
   ]
  },
  {
   "cell_type": "code",
   "execution_count": 11,
   "id": "634f4553",
   "metadata": {},
   "outputs": [
    {
     "data": {
      "text/plain": [
       "PooledUnsafeDirectByteBuf(ridx: 0, widx: 0, cap: 256)"
      ]
     },
     "execution_count": 11,
     "metadata": {},
     "output_type": "execute_result"
    }
   ],
   "source": [
    "ref.retain()"
   ]
  },
  {
   "cell_type": "code",
   "execution_count": 12,
   "id": "ca0f5c01",
   "metadata": {},
   "outputs": [
    {
     "data": {
      "text/plain": [
       "2"
      ]
     },
     "execution_count": 12,
     "metadata": {},
     "output_type": "execute_result"
    }
   ],
   "source": [
    "ref.refCnt()"
   ]
  },
  {
   "cell_type": "code",
   "execution_count": 13,
   "id": "c7def6e3",
   "metadata": {},
   "outputs": [
    {
     "data": {
      "text/plain": [
       "false"
      ]
     },
     "execution_count": 13,
     "metadata": {},
     "output_type": "execute_result"
    }
   ],
   "source": [
    "ref.release()"
   ]
  },
  {
   "cell_type": "code",
   "execution_count": 14,
   "id": "166d07f5",
   "metadata": {},
   "outputs": [
    {
     "data": {
      "text/plain": [
       "1"
      ]
     },
     "execution_count": 14,
     "metadata": {},
     "output_type": "execute_result"
    }
   ],
   "source": [
    "ref.refCnt()"
   ]
  },
  {
   "cell_type": "code",
   "execution_count": 15,
   "id": "32ef8f5a",
   "metadata": {},
   "outputs": [
    {
     "data": {
      "text/plain": [
       "PooledUnsafeDirectByteBuf(ridx: 0, widx: 0, cap: 256)"
      ]
     },
     "execution_count": 15,
     "metadata": {},
     "output_type": "execute_result"
    }
   ],
   "source": [
    "ref.touch()"
   ]
  },
  {
   "cell_type": "code",
   "execution_count": 16,
   "id": "a73a9b97",
   "metadata": {},
   "outputs": [
    {
     "data": {
      "text/plain": [
       "1"
      ]
     },
     "execution_count": 16,
     "metadata": {},
     "output_type": "execute_result"
    }
   ],
   "source": [
    "ref.refCnt()"
   ]
  },
  {
   "cell_type": "markdown",
   "id": "dcc3dcda",
   "metadata": {},
   "source": [
    "# 编解码"
   ]
  },
  {
   "cell_type": "code",
   "execution_count": null,
   "id": "0ac69b76",
   "metadata": {},
   "outputs": [],
   "source": []
  }
 ],
 "metadata": {
  "kernelspec": {
   "display_name": "Kotlin",
   "language": "kotlin",
   "name": "kotlin"
  },
  "language_info": {
   "codemirror_mode": "text/x-kotlin",
   "file_extension": ".kt",
   "mimetype": "text/x-kotlin",
   "name": "kotlin",
   "nbconvert_exporter": "",
   "pygments_lexer": "kotlin",
   "version": "1.8.0-dev-707"
  }
 },
 "nbformat": 4,
 "nbformat_minor": 5
}
