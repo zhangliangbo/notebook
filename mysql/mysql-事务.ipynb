{
 "cells": [
  {
   "cell_type": "markdown",
   "id": "b3f708dc",
   "metadata": {},
   "source": []
  },
  {
   "cell_type": "markdown",
   "id": "2cfeb552",
   "metadata": {},
   "source": [
    "> 有些语句不能回滚。通常，这些语句包括数据定义语言(DDL)语句，例如那些创建或删除数据库的语句，那些创建、删除或更改表或存储例程的语句。"
   ]
  },
  {
   "cell_type": "markdown",
   "id": "59ab6662",
   "metadata": {},
   "source": [
    "有些语句：\n",
    "语句执行前\n",
    "语句执行后\n",
    "都会隐式触发当前会话内的事务提交"
   ]
  },
  {
   "cell_type": "markdown",
   "id": "ddc34eea",
   "metadata": {},
   "source": [
    "多个事务同时进行的时候，这些事务应该怎么协作，或者其他事务对当前事务的影响方式是怎样的？"
   ]
  },
  {
   "cell_type": "markdown",
   "id": "725e2ef0",
   "metadata": {},
   "source": [
    "> https://dev.mysql.com/doc/refman/8.0/en/sql-transactional-statements.html"
   ]
  },
  {
   "cell_type": "markdown",
   "id": "e1548a40",
   "metadata": {},
   "source": [
    "- 读未提交\n",
    "- 读已提交\n",
    "- 可重复读\n",
    "- 串行化"
   ]
  }
 ],
 "metadata": {
  "kernelspec": {
   "display_name": "Kotlin",
   "language": "kotlin",
   "name": "kotlin"
  },
  "language_info": {
   "codemirror_mode": "text/x-kotlin",
   "file_extension": ".kt",
   "mimetype": "text/x-kotlin",
   "name": "kotlin",
   "nbconvert_exporter": "",
   "pygments_lexer": "kotlin",
   "version": "1.8.0-RC"
  }
 },
 "nbformat": 4,
 "nbformat_minor": 5
}
