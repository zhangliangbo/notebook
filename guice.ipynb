{
 "cells": [
  {
   "cell_type": "markdown",
   "id": "53394653",
   "metadata": {},
   "source": [
    "https://github.com/google/guice/wiki/Motivation"
   ]
  },
  {
   "cell_type": "markdown",
   "id": "62166d90",
   "metadata": {},
   "source": [
    "https://github.com/google/guice/wiki/GettingStarted"
   ]
  },
  {
   "cell_type": "markdown",
   "id": "37b1f9b3",
   "metadata": {},
   "source": [
    "```\n",
    "<dependency>\n",
    "    <groupId>com.google.inject</groupId>\n",
    "    <artifactId>guice</artifactId>\n",
    "    <version>5.1.0</version>\n",
    "</dependency>\n",
    "```"
   ]
  }
 ],
 "metadata": {
  "kernelspec": {
   "display_name": "Kotlin",
   "language": "kotlin",
   "name": "kotlin"
  },
  "language_info": {
   "codemirror_mode": "text/x-kotlin",
   "file_extension": ".kt",
   "mimetype": "text/x-kotlin",
   "name": "kotlin",
   "nbconvert_exporter": "",
   "pygments_lexer": "kotlin",
   "version": "1.7.20-dev-1299"
  }
 },
 "nbformat": 4,
 "nbformat_minor": 5
}
