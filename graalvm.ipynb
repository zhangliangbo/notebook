{
 "cells": [
  {
   "cell_type": "markdown",
   "id": "bb616750",
   "metadata": {},
   "source": [
    "https://github.com/oracle/graal"
   ]
  },
  {
   "cell_type": "markdown",
   "id": "cf15369c",
   "metadata": {},
   "source": [
    "# 前言"
   ]
  },
  {
   "cell_type": "code",
   "execution_count": null,
   "id": "a1818441",
   "metadata": {},
   "outputs": [],
   "source": []
  },
  {
   "cell_type": "markdown",
   "id": "5028418a",
   "metadata": {},
   "source": [
    "# maven配置"
   ]
  },
  {
   "cell_type": "markdown",
   "id": "7618b9e6",
   "metadata": {},
   "source": [
    "https://www.graalvm.org/latest/reference-manual/native-image/guides/use-native-image-maven-plugin/"
   ]
  },
  {
   "cell_type": "markdown",
   "id": "cfbfd00b",
   "metadata": {},
   "source": [
    "# maven plugin细讲"
   ]
  },
  {
   "cell_type": "markdown",
   "id": "6fae2ec5",
   "metadata": {},
   "source": [
    "https://graalvm.github.io/native-build-tools/latest/maven-plugin.html"
   ]
  },
  {
   "cell_type": "markdown",
   "id": "eb970faa",
   "metadata": {},
   "source": [
    "http://www.mojohaus.org/exec-maven-plugin/plugin-info.html"
   ]
  },
  {
   "cell_type": "markdown",
   "id": "019b15ef",
   "metadata": {},
   "source": [
    "# 安装visual studio"
   ]
  },
  {
   "cell_type": "markdown",
   "id": "0a1918d2",
   "metadata": {},
   "source": [
    "https://visualstudio.microsoft.com/zh-hans/free-developer-offers/"
   ]
  },
  {
   "cell_type": "markdown",
   "id": "3100fd6b",
   "metadata": {},
   "source": [
    "# 资源文件"
   ]
  },
  {
   "cell_type": "markdown",
   "id": "8726ce17",
   "metadata": {},
   "source": [
    "https://www.graalvm.org/latest/reference-manual/native-image/overview/BuildConfiguration/"
   ]
  },
  {
   "cell_type": "markdown",
   "id": "8c430038",
   "metadata": {},
   "source": [
    "https://github.com/oracle/graal/blob/master/substratevm/Resources.md"
   ]
  }
 ],
 "metadata": {
  "kernelspec": {
   "display_name": "Kotlin",
   "language": "kotlin",
   "name": "kotlin"
  },
  "language_info": {
   "codemirror_mode": "text/x-kotlin",
   "file_extension": ".kt",
   "mimetype": "text/x-kotlin",
   "name": "kotlin",
   "nbconvert_exporter": "",
   "pygments_lexer": "kotlin",
   "version": "1.7.20-dev-1299"
  }
 },
 "nbformat": 4,
 "nbformat_minor": 5
}
