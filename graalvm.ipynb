{
 "cells": [
  {
   "cell_type": "markdown",
   "id": "54ae9468",
   "metadata": {},
   "source": [
    "https://github.com/oracle/graal"
   ]
  },
  {
   "cell_type": "markdown",
   "id": "3bae36ec",
   "metadata": {},
   "source": [
    "https://www.graalvm.org/latest/reference-manual/native-image/guides/use-native-image-maven-plugin/"
   ]
  },
  {
   "cell_type": "markdown",
   "id": "4f5a86b5",
   "metadata": {},
   "source": [
    "https://graalvm.github.io/native-build-tools/latest/maven-plugin.html"
   ]
  }
 ],
 "metadata": {
  "kernelspec": {
   "display_name": "Kotlin",
   "language": "kotlin",
   "name": "kotlin"
  },
  "language_info": {
   "codemirror_mode": "text/x-kotlin",
   "file_extension": ".kt",
   "mimetype": "text/x-kotlin",
   "name": "kotlin",
   "nbconvert_exporter": "",
   "pygments_lexer": "kotlin",
   "version": "1.7.20-dev-1299"
  }
 },
 "nbformat": 4,
 "nbformat_minor": 5
}
