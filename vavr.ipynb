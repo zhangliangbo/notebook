{
 "cells": [
  {
   "cell_type": "code",
   "execution_count": 2,
   "id": "81f9f53b",
   "metadata": {},
   "outputs": [],
   "source": [
    "@file:DependsOn(\"io.vavr:vavr:0.10.4\")\n",
    "import io.vavr.collection.*"
   ]
  },
  {
   "cell_type": "code",
   "execution_count": 3,
   "id": "aac989c0",
   "metadata": {},
   "outputs": [
    {
     "data": {
      "text/plain": [
       "HashMap((a, b))"
      ]
     },
     "execution_count": 3,
     "metadata": {},
     "output_type": "execute_result"
    }
   ],
   "source": [
    "HashMap.of(\"a\",\"b\")"
   ]
  },
  {
   "cell_type": "code",
   "execution_count": null,
   "id": "4c9e088c",
   "metadata": {},
   "outputs": [],
   "source": []
  }
 ],
 "metadata": {
  "kernelspec": {
   "display_name": "Kotlin",
   "language": "kotlin",
   "name": "kotlin"
  },
  "language_info": {
   "codemirror_mode": "text/x-kotlin",
   "file_extension": ".kt",
   "mimetype": "text/x-kotlin",
   "name": "kotlin",
   "nbconvert_exporter": "",
   "pygments_lexer": "kotlin",
   "version": "1.8.0-dev-707"
  }
 },
 "nbformat": 4,
 "nbformat_minor": 5
}
