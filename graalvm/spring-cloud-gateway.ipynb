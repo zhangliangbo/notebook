{
 "cells": [
  {
   "cell_type": "markdown",
   "id": "85aabd83",
   "metadata": {},
   "source": []
  },
  {
   "cell_type": "markdown",
   "id": "68b7af25",
   "metadata": {},
   "source": [
    "# 前言"
   ]
  },
  {
   "cell_type": "markdown",
   "id": "4b90acfe",
   "metadata": {},
   "source": [
    "网关是微服务架构的入口，外网请求通过网关转发到独立的微服务。项目一般会经过多个环境的测试，最终发布到生产。一个http请求，如：`http://public_host/api/v1/some_path?a=b&c=d`会先经过公网域名，然后通过nginx匹配路径`/api/v1/**`把请求转发到相应的网关，网关再转发给对应服务。"
   ]
  },
  {
   "cell_type": "markdown",
   "id": "751ad203",
   "metadata": {},
   "source": [
    "本地开发时，一般会采用idea的`Tools->HTTP Client->Create Request in HTTP Client`工具来调试本地接口（`http://localhost:8080/some_path?a=b&c=d`），发布测试环境后，用postman来调试测试环境接口(`http://public_host/api/v1/some_path?a=b&c=d`)；也就是说，本地开发时在idea中写的接口测试文档，等发布到测试环境后，又要再写一遍。如果本地有一个网关，提供基本的转发功能，就能打通本地和测试环境的隔阂：一份接口测试文档，多个环境使用。"
   ]
  },
  {
   "cell_type": "markdown",
   "id": "4cc61174",
   "metadata": {},
   "source": [
    "本地搭一个网关，方式有很多：\n",
    "1. idea起一个spring-cloud-gateway项目：优点是简单易操作，可定制，缺点启动速度慢，占用内存高；\n",
    "2. 下载一个nginx服务器，本地起一个nginx服务，用于转发请求：也比较简单，内存也不高，缺点要阅读文档，不能修改代码来自定义；\n",
    "3. 用graalvm把spring-cloud-gateway编译成本地exe：springcloud项目，学习成本低，转发逻辑可以自定义，按需修改；本地镜像，启动快，占用内存低。"
   ]
  },
  {
   "cell_type": "markdown",
   "id": "1582ca60",
   "metadata": {},
   "source": [
    "# 实践环节"
   ]
  },
  {
   "cell_type": "markdown",
   "id": "c58369e9",
   "metadata": {},
   "source": [
    "## 准备工作"
   ]
  },
  {
   "cell_type": "markdown",
   "id": "1184a71b",
   "metadata": {},
   "source": [
    "1. 安装graalvm以及native-image\n",
    "2. 安装Visual Studio 2022 Developer Command Prompt v17.4.3"
   ]
  },
  {
   "cell_type": "markdown",
   "id": "8adc7d82",
   "metadata": {},
   "source": [
    "## 创建spring-cloud-gateway项目"
   ]
  },
  {
   "cell_type": "markdown",
   "id": "5253390f",
   "metadata": {},
   "source": [
    "添加下面几个依赖项：\n",
    "1. GraalVM Native Support\n",
    "2. Spring Reactive Web\n",
    "3. Gateway\n",
    "4. Spring Boot Actuator（监控端点，可选）"
   ]
  },
  {
   "cell_type": "markdown",
   "id": "95e1cb16",
   "metadata": {},
   "source": [
    "完整的pom文件如下："
   ]
  },
  {
   "cell_type": "markdown",
   "id": "ccfa41d1",
   "metadata": {},
   "source": [
    "```\n",
    "<?xml version=\"1.0\" encoding=\"UTF-8\"?>\n",
    "<project xmlns=\"http://maven.apache.org/POM/4.0.0\" xmlns:xsi=\"http://www.w3.org/2001/XMLSchema-instance\"\n",
    "         xsi:schemaLocation=\"http://maven.apache.org/POM/4.0.0 https://maven.apache.org/xsd/maven-4.0.0.xsd\">\n",
    "    <modelVersion>4.0.0</modelVersion>\n",
    "    <parent>\n",
    "        <groupId>org.springframework.boot</groupId>\n",
    "        <artifactId>spring-boot-starter-parent</artifactId>\n",
    "        <version>3.0.1</version>\n",
    "        <relativePath/> <!-- lookup parent from repository -->\n",
    "    </parent>\n",
    "    <groupId>io.github.xxx</groupId>\n",
    "    <artifactId>cloudgateway</artifactId>\n",
    "    <version>0.0.1-SNAPSHOT</version>\n",
    "    <name>cloudgateway</name>\n",
    "    <description>cloudgateway</description>\n",
    "    <properties>\n",
    "        <java.version>17</java.version>\n",
    "        <spring-cloud.version>2022.0.0</spring-cloud.version>\n",
    "    </properties>\n",
    "    <dependencies>\n",
    "        <dependency>\n",
    "            <groupId>org.springframework.boot</groupId>\n",
    "            <artifactId>spring-boot-starter-actuator</artifactId>\n",
    "        </dependency>\n",
    "        <dependency>\n",
    "            <groupId>org.springframework.boot</groupId>\n",
    "            <artifactId>spring-boot-starter-webflux</artifactId>\n",
    "        </dependency>\n",
    "        <dependency>\n",
    "            <groupId>org.springframework.cloud</groupId>\n",
    "            <artifactId>spring-cloud-starter-gateway</artifactId>\n",
    "        </dependency>\n",
    "\n",
    "        <dependency>\n",
    "            <groupId>org.springframework.boot</groupId>\n",
    "            <artifactId>spring-boot-starter-test</artifactId>\n",
    "            <scope>test</scope>\n",
    "        </dependency>\n",
    "        <dependency>\n",
    "            <groupId>io.projectreactor</groupId>\n",
    "            <artifactId>reactor-test</artifactId>\n",
    "            <scope>test</scope>\n",
    "        </dependency>\n",
    "    </dependencies>\n",
    "    <dependencyManagement>\n",
    "        <dependencies>\n",
    "            <dependency>\n",
    "                <groupId>org.springframework.cloud</groupId>\n",
    "                <artifactId>spring-cloud-dependencies</artifactId>\n",
    "                <version>${spring-cloud.version}</version>\n",
    "                <type>pom</type>\n",
    "                <scope>import</scope>\n",
    "            </dependency>\n",
    "        </dependencies>\n",
    "    </dependencyManagement>\n",
    "\n",
    "    <build>\n",
    "        <plugins>\n",
    "            <plugin>\n",
    "                <groupId>org.graalvm.buildtools</groupId>\n",
    "                <artifactId>native-maven-plugin</artifactId>\n",
    "            </plugin>\n",
    "            <plugin>\n",
    "                <groupId>org.springframework.boot</groupId>\n",
    "                <artifactId>spring-boot-maven-plugin</artifactId>\n",
    "            </plugin>\n",
    "        </plugins>\n",
    "    </build>\n",
    "\n",
    "</project>\n",
    "```"
   ]
  },
  {
   "cell_type": "markdown",
   "id": "037d8dd4",
   "metadata": {},
   "source": [
    "配置文件配置了跨域和一个路由，调整了日志级别，代码如下："
   ]
  },
  {
   "cell_type": "markdown",
   "id": "abdf3032",
   "metadata": {},
   "source": [
    "```\n",
    "server:\n",
    "  port: 9090\n",
    "spring:\n",
    "  application:\n",
    "    name: cloudgateway\n",
    "  cloud:\n",
    "    gateway:\n",
    "      globalcors:\n",
    "        add-to-simple-url-handler-mapping: true\n",
    "        cors-configurations:\n",
    "          '[/**]':\n",
    "            maxAge: 3600\n",
    "            allowCredentials: false\n",
    "            allowedOrigins: \"*\"\n",
    "            allowedMethods: GET,HEAD,POST,PUT,PATCH,DELETE,OPTIONS,TRACE\n",
    "            allowedHeaders: \"*\"\n",
    "            exposedHeaders: Content-Length,content-disposition\n",
    "      routes:\n",
    "        - id: path_route\n",
    "          uri: http://127.0.0.1:8080\n",
    "          predicates:\n",
    "            - Path=/api/v1/**\n",
    "          filters:\n",
    "            - StripPrefix=3\n",
    "logging:\n",
    "  level:\n",
    "    org.springframework.cloud.gateway.handler.predicate.PathRoutePredicateFactory: trace\n",
    "```"
   ]
  },
  {
   "cell_type": "markdown",
   "id": "6ef46541",
   "metadata": {},
   "source": [
    "> https://start.spring.io 网站创建的项目模板有一个HELP.md，提供了很多有用的信息。"
   ]
  },
  {
   "cell_type": "markdown",
   "id": "e00a8f7b",
   "metadata": {},
   "source": [
    "##  开始编译"
   ]
  },
  {
   "cell_type": "markdown",
   "id": "40be4212",
   "metadata": {},
   "source": [
    "打开Visual Studio 2022 Developer Command Prompt v17.4.3，切换到项目目录，执行："
   ]
  },
  {
   "cell_type": "markdown",
   "id": "88fc5572",
   "metadata": {},
   "source": [
    "```\n",
    " mvnw.cmd native:compile -Pnative -DskipTests\n",
    "```"
   ]
  },
  {
   "cell_type": "markdown",
   "id": "78568c54",
   "metadata": {},
   "source": [
    "> 估计有10来分钟，先喝杯咖啡。"
   ]
  },
  {
   "cell_type": "markdown",
   "id": "6a69ec67",
   "metadata": {},
   "source": [
    "## 查看结果"
   ]
  },
  {
   "cell_type": "markdown",
   "id": "910e8597",
   "metadata": {},
   "source": [
    "项目target目录下，生成了一个[cloudgateway.exe](https://download.csdn.net/download/ssehs/87384617)文件，双击打开，正常运行。"
   ]
  },
  {
   "cell_type": "markdown",
   "id": "ad996f01",
   "metadata": {},
   "source": [
    "仿照上面流程又编译了一个普通的spring-boot项目（只包含一个接口和actuator端点），名叫[demo.exe](https://download.csdn.net/download/ssehs/87384549)，双击打开，正常运行。"
   ]
  },
  {
   "cell_type": "markdown",
   "id": "30cf8a7c",
   "metadata": {},
   "source": [
    "在浏览器输入一个请求发给网关转发，发现报错如下："
   ]
  },
  {
   "cell_type": "markdown",
   "id": "f3870589",
   "metadata": {},
   "source": [
    "```\n",
    "Caused by: java.lang.NullPointerException: null\n",
    "        at java.base@17.0.5/sun.net.dns.ResolverConfigurationImpl.stringToList(ResolverConfigurationImpl.java:69) ~[na:na]\n",
    "        at java.base@17.0.5/sun.net.dns.ResolverConfigurationImpl.loadConfig(ResolverConfigurationImpl.java:136) ~[na:na]\n",
    "        at java.base@17.0.5/sun.net.dns.ResolverConfigurationImpl.nameservers(ResolverConfigurationImpl.java:159) ~[na:na]\n",
    "        at jdk.naming.dns@17.0.5/com.sun.jndi.dns.DnsContextFactory.serversForUrls(DnsContextFactory.java:149) ~[cloudgateway2.exe:na]\n",
    "        at jdk.naming.dns@17.0.5/com.sun.jndi.dns.DnsContextFactory.getContext(DnsContextFactory.java:81) ~[cloudgateway2.exe:na]\n",
    "        at jdk.naming.dns@17.0.5/com.sun.jndi.dns.DnsContextFactory.urlToContext(DnsContextFactory.java:120) ~[cloudgateway2.exe:na]\n",
    "        at jdk.naming.dns@17.0.5/com.sun.jndi.dns.DnsContextFactory.getInitialContext(DnsContextFactory.java:64) ~[cloudgateway2.exe:na]\n",
    "        at java.naming@17.0.5/javax.naming.spi.NamingManager.getInitialContext(NamingManager.java:732) ~[cloudgateway2.exe:na]\n",
    "        at java.naming@17.0.5/javax.naming.InitialContext.getDefaultInitCtx(InitialContext.java:305) ~[cloudgateway2.exe:na]\n",
    "        at java.naming@17.0.5/javax.naming.InitialContext.init(InitialContext.java:236) ~[cloudgateway2.exe:na]\n",
    "        at java.naming@17.0.5/javax.naming.InitialContext.<init>(InitialContext.java:208) ~[cloudgateway2.exe:na]\n",
    "        at java.naming@17.0.5/javax.naming.directory.InitialDirContext.<init>(InitialDirContext.java:130) ~[cloudgateway2.exe:na]\n",
    "        at io.netty.resolver.dns.DirContextUtils.addNameServers(DirContextUtils.java:49) ~[na:na]\n",
    "        at io.netty.resolver.dns.DefaultDnsServerAddressStreamProvider.<clinit>(DefaultDnsServerAddressStreamProvider.java:53) ~[na:na]\n",
    "        ... 145 common frames omitted\n",
    "```"
   ]
  },
  {
   "cell_type": "markdown",
   "id": "31170042",
   "metadata": {},
   "source": [
    "百度了半天，找到了[报错原因](https://stackoverflow.com/questions/67193208/runtime-error-dnsserveraddressstreamprovidersdefaultproviderholder-for-graalvm)：原来是`HttpClient`没有配置默认的地址解析器。配置方法如下："
   ]
  },
  {
   "cell_type": "markdown",
   "id": "abdf055c",
   "metadata": {},
   "source": [
    "```\n",
    "@Bean\n",
    "public HttpClientCustomizer httpClientResolverCustomizer() {\n",
    "    return httpClient -> httpClient.resolver(DefaultAddressResolverGroup.INSTANCE);\n",
    "}\n",
    "```"
   ]
  },
  {
   "cell_type": "markdown",
   "id": "4485da68",
   "metadata": {},
   "source": [
    "再次编译结束，双击运行正常，转发请求也正常。"
   ]
  },
  {
   "cell_type": "markdown",
   "id": "cf02bafc",
   "metadata": {},
   "source": [
    "至此graalvm编译spring-cloud-gateway就算完成了。"
   ]
  }
 ],
 "metadata": {
  "kernelspec": {
   "display_name": "Kotlin",
   "language": "kotlin",
   "name": "kotlin"
  },
  "language_info": {
   "codemirror_mode": "text/x-kotlin",
   "file_extension": ".kt",
   "mimetype": "text/x-kotlin",
   "name": "kotlin",
   "nbconvert_exporter": "",
   "pygments_lexer": "kotlin",
   "version": "1.8.0-RC"
  }
 },
 "nbformat": 4,
 "nbformat_minor": 5
}
