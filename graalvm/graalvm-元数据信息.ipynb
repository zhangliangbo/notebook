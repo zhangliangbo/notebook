{
 "cells": [
  {
   "cell_type": "code",
   "execution_count": null,
   "id": "4a4d5ca5",
   "metadata": {},
   "outputs": [],
   "source": []
  },
  {
   "cell_type": "markdown",
   "id": "8a5c5d93",
   "metadata": {},
   "source": [
    "https://www.graalvm.org/latest/reference-manual/native-image/metadata/"
   ]
  },
  {
   "cell_type": "markdown",
   "id": "bcf4f499",
   "metadata": {},
   "source": [
    "https://www.graalvm.org/latest/reference-manual/native-image/guides/configure-with-tracing-agent/"
   ]
  },
  {
   "cell_type": "markdown",
   "id": "a5124991",
   "metadata": {},
   "source": [
    "https://www.graalvm.org/latest/reference-manual/native-image/metadata/AutomaticMetadataCollection/"
   ]
  },
  {
   "cell_type": "markdown",
   "id": "16123d98",
   "metadata": {},
   "source": [
    "# 先打包jar"
   ]
  },
  {
   "cell_type": "markdown",
   "id": "638b3897",
   "metadata": {},
   "source": [
    "```\n",
    "./mvnw clean package -DskipTests\n",
    "```"
   ]
  },
  {
   "cell_type": "markdown",
   "id": "6397a390",
   "metadata": {},
   "source": [
    "# 带-agentlib参数运行jar包"
   ]
  },
  {
   "cell_type": "markdown",
   "id": "0d1f99d5",
   "metadata": {},
   "source": [
    "```\n",
    "java -agentlib:native-image-agent=config-merge-dir=src/main/resources/META-INF/native-image -jar target/external-1.0-SNAPSHOT-jar-with-dependencies.jar -i os.type[]\n",
    "```"
   ]
  },
  {
   "cell_type": "markdown",
   "id": "a5fd7eb8",
   "metadata": {},
   "source": [
    "> `native-image-agent`是一个本地agent库，集成在graalvm的jdk中。"
   ]
  },
  {
   "cell_type": "markdown",
   "id": "11dbf1fa",
   "metadata": {},
   "source": [
    "运行之后，会在`src/main/resources/META-INF/native-image`目录下生成多个json文件："
   ]
  },
  {
   "cell_type": "markdown",
   "id": "4d0bbe5b",
   "metadata": {},
   "source": [
    "- jni-config.json\n",
    "- predefined-classes-config.json\n",
    "- proxy-config.json\n",
    "- reflect-config.json\n",
    "- resource-config.json\n",
    "- serialization-config.json"
   ]
  },
  {
   "cell_type": "markdown",
   "id": "98ff9354",
   "metadata": {},
   "source": [
    "其中反射相关的信息在`reflect-config.json`文件中，资源信息在`resource-config.json`文件里。"
   ]
  },
  {
   "cell_type": "markdown",
   "id": "59e15a15",
   "metadata": {},
   "source": [
    "# 编译本地可执行文件"
   ]
  },
  {
   "cell_type": "markdown",
   "id": "98b43dce",
   "metadata": {},
   "source": [
    "```\n",
    "./mvnw native:compile -Pnative -DskipTests\n",
    "```"
   ]
  }
 ],
 "metadata": {
  "kernelspec": {
   "display_name": "Kotlin",
   "language": "kotlin",
   "name": "kotlin"
  },
  "language_info": {
   "codemirror_mode": "text/x-kotlin",
   "file_extension": ".kt",
   "mimetype": "text/x-kotlin",
   "name": "kotlin",
   "nbconvert_exporter": "",
   "pygments_lexer": "kotlin",
   "version": "1.8.0-RC"
  }
 },
 "nbformat": 4,
 "nbformat_minor": 5
}
