{
 "cells": [
  {
   "cell_type": "markdown",
   "id": "18d75850",
   "metadata": {},
   "source": [
    "https://github.com/ronmamo/reflections"
   ]
  },
  {
   "cell_type": "markdown",
   "id": "0c729fe5",
   "metadata": {},
   "source": [
    "https://www.baeldung.com/reflections-library"
   ]
  },
  {
   "cell_type": "markdown",
   "id": "58ba1150",
   "metadata": {},
   "source": [
    "https://bill.burkecentral.com/2008/01/14/scanning-java-annotations-at-runtime/"
   ]
  },
  {
   "cell_type": "code",
   "execution_count": 2,
   "id": "09279fd1",
   "metadata": {},
   "outputs": [],
   "source": [
    "@file:DependsOn(\"org.reflections:reflections:0.10.2\")\n",
    "import org.reflections.*"
   ]
  },
  {
   "cell_type": "code",
   "execution_count": 7,
   "id": "8ae2a78f",
   "metadata": {},
   "outputs": [],
   "source": [
    "val reflections =  Reflections(\"java.util\");\n",
    "    //Filter是个接口，获取在指定包扫描的目录所有的实现类\n",
    "val classes = reflections.getSubTypesOf(java.util.List::class.java);\n",
    "for ( aClass in classes)\n",
    "{\n",
    "    System.out.println(aClass.getName());\n",
    "}"
   ]
  },
  {
   "cell_type": "code",
   "execution_count": null,
   "id": "01824460",
   "metadata": {},
   "outputs": [],
   "source": []
  }
 ],
 "metadata": {
  "kernelspec": {
   "display_name": "Kotlin",
   "language": "kotlin",
   "name": "kotlin"
  },
  "language_info": {
   "codemirror_mode": "text/x-kotlin",
   "file_extension": ".kt",
   "mimetype": "text/x-kotlin",
   "name": "kotlin",
   "nbconvert_exporter": "",
   "pygments_lexer": "kotlin",
   "version": "1.8.0-dev-707"
  }
 },
 "nbformat": 4,
 "nbformat_minor": 5
}
