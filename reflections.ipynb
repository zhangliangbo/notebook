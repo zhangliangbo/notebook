{
 "cells": [
  {
   "cell_type": "markdown",
   "id": "d6145233",
   "metadata": {},
   "source": [
    "https://github.com/ronmamo/reflections"
   ]
  },
  {
   "cell_type": "code",
   "execution_count": null,
   "id": "7d4239b1",
   "metadata": {},
   "outputs": [],
   "source": [
    "@file:DependsOn(\"org.reflections:reflections:0.10.2\")"
   ]
  },
  {
   "cell_type": "code",
   "execution_count": null,
   "id": "6d678d57",
   "metadata": {},
   "outputs": [],
   "source": []
  }
 ],
 "metadata": {
  "kernelspec": {
   "display_name": "Kotlin",
   "language": "kotlin",
   "name": "kotlin"
  },
  "language_info": {
   "codemirror_mode": "text/x-kotlin",
   "file_extension": ".kt",
   "mimetype": "text/x-kotlin",
   "name": "kotlin",
   "nbconvert_exporter": "",
   "pygments_lexer": "kotlin",
   "version": "1.8.0-dev-707"
  }
 },
 "nbformat": 4,
 "nbformat_minor": 5
}
