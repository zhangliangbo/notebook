{
 "cells": [
  {
   "cell_type": "markdown",
   "id": "2553d48f",
   "metadata": {},
   "source": [
    "https://github.com/openjdk/jol"
   ]
  },
  {
   "cell_type": "markdown",
   "id": "4cb82d9f",
   "metadata": {},
   "source": [
    "https://github.com/stokito/IdeaJol"
   ]
  },
  {
   "cell_type": "markdown",
   "id": "4f85d5d2",
   "metadata": {},
   "source": [
    "https://github.com/openjdk/jol/tree/master/jol-samples/src/main/java/org/openjdk/jol/samples"
   ]
  },
  {
   "cell_type": "markdown",
   "id": "4f76774d",
   "metadata": {},
   "source": [
    "https://blog.csdn.net/AlbertFly/article/details/51533265"
   ]
  },
  {
   "cell_type": "markdown",
   "id": "92b8045c",
   "metadata": {},
   "source": [
    "https://github.com/openjdk/jmc"
   ]
  },
  {
   "cell_type": "markdown",
   "id": "98611265",
   "metadata": {},
   "source": [
    "https://github.com/btraceio/btrace<br/>\n",
    "https://github.com/btraceio/btrace/wiki"
   ]
  },
  {
   "cell_type": "markdown",
   "id": "d8be5e3b",
   "metadata": {},
   "source": [
    "https://arthas.aliyun.com/doc/"
   ]
  },
  {
   "cell_type": "code",
   "execution_count": 58,
   "id": "a66e26f0",
   "metadata": {},
   "outputs": [],
   "source": [
    "@file:DependsOn(\"org.openjdk.jol:jol-core:0.16\")\n",
    "import org.openjdk.jol.info.*\n",
    "import org.openjdk.jol.vm.*"
   ]
  },
  {
   "cell_type": "code",
   "execution_count": 85,
   "id": "21be5e91",
   "metadata": {},
   "outputs": [
    {
     "name": "stdout",
     "output_type": "stream",
     "text": [
      "java.util.HashMap object internals:\n",
      "OFF  SZ                       TYPE DESCRIPTION               VALUE\n",
      "  0   8                            (object header: mark)     N/A\n",
      "  8   4                            (object header: class)    N/A\n",
      " 12   4              java.util.Set AbstractMap.keySet        N/A\n",
      " 16   4       java.util.Collection AbstractMap.values        N/A\n",
      " 20   4                        int HashMap.size              N/A\n",
      " 24   4                        int HashMap.modCount          N/A\n",
      " 28   4                        int HashMap.threshold         N/A\n",
      " 32   4                      float HashMap.loadFactor        N/A\n",
      " 36   4   java.util.HashMap.Node[] HashMap.table             N/A\n",
      " 40   4              java.util.Set HashMap.entrySet          N/A\n",
      " 44   4                            (object alignment gap)    \n",
      "Instance size: 48 bytes\n",
      "Space losses: 0 bytes internal + 4 bytes external = 4 bytes total\n",
      "\n",
      "java.util.HashMap object internals:\n",
      "OFF  SZ                       TYPE DESCRIPTION               VALUE\n",
      "  0   8                            (object header: mark)     0x0000000000000001 (non-biasable; age: 0)\n",
      "  8   4                            (object header: class)    0x0010bc10\n",
      " 12   4              java.util.Set AbstractMap.keySet        null\n",
      " 16   4       java.util.Collection AbstractMap.values        null\n",
      " 20   4                        int HashMap.size              0\n",
      " 24   4                        int HashMap.modCount          0\n",
      " 28   4                        int HashMap.threshold         0\n",
      " 32   4                      float HashMap.loadFactor        0.75\n",
      " 36   4   java.util.HashMap.Node[] HashMap.table             null\n",
      " 40   4              java.util.Set HashMap.entrySet          null\n",
      " 44   4                            (object alignment gap)    \n",
      "Instance size: 48 bytes\n",
      "Space losses: 0 bytes internal + 4 bytes external = 4 bytes total\n",
      "\n",
      "java.util.HashMap@60cfdcccd object externals:\n",
      "          ADDRESS       SIZE TYPE              PATH                           VALUE\n",
      "        71bc49000         48 java.util.HashMap                                (object)\n",
      "\n",
      "Addresses are stable after 1 tries.\n",
      "\n",
      "\n",
      "java.util.HashMap@60cfdcccd footprint:\n",
      "     COUNT       AVG       SUM   DESCRIPTION\n",
      "         1        48        48   java.util.HashMap\n",
      "         1                  48   (total)\n",
      "\n",
      "\n"
     ]
    }
   ],
   "source": [
    "println(ClassLayout.parseClass(java.util.HashMap::class.java).toPrintable())\n",
    "val hashMap = java.util.HashMap<String,String>()\n",
    "val cl = ClassLayout.parseInstance(hashMap)\n",
    "println(cl.toPrintable())\n",
    "val gl = GraphLayout.parseInstance(hashMap)\n",
    "println(gl.toPrintable())\n",
    "println(gl.toFootprint())"
   ]
  },
  {
   "cell_type": "code",
   "execution_count": 1,
   "id": "acfca7aa",
   "metadata": {},
   "outputs": [
    {
     "name": "stderr",
     "output_type": "stream",
     "text": [
      "Line_0.jupyter-kts (1:9 - 11) Unresolved reference: VM"
     ]
    }
   ],
   "source": [
    "println(VM.current().details())"
   ]
  },
  {
   "cell_type": "code",
   "execution_count": null,
   "id": "f2d0a20a",
   "metadata": {},
   "outputs": [],
   "source": []
  }
 ],
 "metadata": {
  "kernelspec": {
   "display_name": "Kotlin",
   "language": "kotlin",
   "name": "kotlin"
  },
  "language_info": {
   "codemirror_mode": "text/x-kotlin",
   "file_extension": ".kt",
   "mimetype": "text/x-kotlin",
   "name": "kotlin",
   "nbconvert_exporter": "",
   "pygments_lexer": "kotlin",
   "version": "1.7.20-dev-1299"
  }
 },
 "nbformat": 4,
 "nbformat_minor": 5
}
