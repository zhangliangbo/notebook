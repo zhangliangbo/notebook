{
 "cells": [
  {
   "cell_type": "markdown",
   "id": "068eefa9",
   "metadata": {},
   "source": [
    "https://www.elastic.co/guide/en/elasticsearch/client/java-rest/7.11/index.html"
   ]
  },
  {
   "cell_type": "markdown",
   "id": "8b420234",
   "metadata": {},
   "source": [
    "https://www.elastic.co/guide/index.html"
   ]
  },
  {
   "cell_type": "markdown",
   "id": "cd210779",
   "metadata": {},
   "source": [
    "https://www.elastic.co/guide/en/elasticsearch/reference/7.11/index.html"
   ]
  },
  {
   "cell_type": "markdown",
   "id": "4762be85",
   "metadata": {},
   "source": [
    "### normalizer"
   ]
  },
  {
   "cell_type": "markdown",
   "id": "01f2a63d",
   "metadata": {},
   "source": [
    "https://www.elastic.co/guide/en/elasticsearch/reference/7.11/normalizer.html"
   ]
  }
 ],
 "metadata": {
  "kernelspec": {
   "display_name": "Kotlin",
   "language": "kotlin",
   "name": "kotlin"
  },
  "language_info": {
   "codemirror_mode": "text/x-kotlin",
   "file_extension": ".kt",
   "mimetype": "text/x-kotlin",
   "name": "kotlin",
   "nbconvert_exporter": "",
   "pygments_lexer": "kotlin",
   "version": "1.7.20-dev-1299"
  }
 },
 "nbformat": 4,
 "nbformat_minor": 5
}
