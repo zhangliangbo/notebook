{
 "cells": [
  {
   "cell_type": "code",
   "execution_count": 2,
   "id": "21e29745",
   "metadata": {},
   "outputs": [],
   "source": [
    "import java.util.stream.*\n",
    "import java.util.concurrent.*"
   ]
  },
  {
   "cell_type": "code",
   "execution_count": 3,
   "id": "6746d859",
   "metadata": {},
   "outputs": [
    {
     "name": "stdout",
     "output_type": "stream",
     "text": [
      "8\r\n",
      "7\r\n",
      "0\r\n"
     ]
    }
   ],
   "source": [
    "//cpu核心数\n",
    "println(Runtime.getRuntime().availableProcessors())\n",
    "//最大线程数\n",
    "println(ForkJoinPool.getCommonPoolParallelism())\n",
    "//当前线程数\n",
    "println(ForkJoinPool.commonPool().poolSize)"
   ]
  },
  {
   "cell_type": "markdown",
   "id": "29cd9161",
   "metadata": {},
   "source": [
    "## 多个任务全部完成后，打印总体时间"
   ]
  },
  {
   "cell_type": "code",
   "execution_count": 36,
   "id": "ff2f1e49",
   "metadata": {},
   "outputs": [
    {
     "name": "stdout",
     "output_type": "stream",
     "text": [
      "0:ForkJoinPool.commonPool-worker-24:1662208665500\n",
      "1:ForkJoinPool.commonPool-worker-25:1662208665525\n",
      "6:ForkJoinPool.commonPool-worker-30:1662208665540\n",
      "5:ForkJoinPool.commonPool-worker-29:1662208665539\n",
      "4:ForkJoinPool.commonPool-worker-28:1662208665538\n",
      "3:ForkJoinPool.commonPool-worker-27:1662208665533\n",
      "2:ForkJoinPool.commonPool-worker-26:1662208665530\n",
      "2120\n"
     ]
    }
   ],
   "source": [
    "val dished = IntStream.range(0,7)\n",
    "    .mapToObj({\n",
    "        CompletableFuture.runAsync(\n",
    "                {\n",
    "                    println(it.toString()+\":\"+Thread.currentThread().name+\":\"+System.currentTimeMillis())\n",
    "                    Thread.sleep(2000)\n",
    "                }\n",
    "            )\n",
    "    })\n",
    "    .toList()\n",
    "\n",
    "val start = System.currentTimeMillis()\n",
    "CompletableFuture.allOf(*dished.toTypedArray()).join()\n",
    "println(System.currentTimeMillis() - start)"
   ]
  },
  {
   "cell_type": "markdown",
   "id": "5047d1dc",
   "metadata": {},
   "source": [
    "## 异步执行一个任务（不阻塞笔记本）"
   ]
  },
  {
   "cell_type": "code",
   "execution_count": 32,
   "id": "df7a1646",
   "metadata": {},
   "outputs": [
    {
     "data": {
      "text/plain": [
       "java.util.concurrent.CompletableFuture@1ddd3478[Not completed]"
      ]
     },
     "execution_count": 32,
     "metadata": {},
     "output_type": "execute_result"
    }
   ],
   "source": [
    "val log = java.util.StringJoiner(\"\\n\")\n",
    "CompletableFuture.runAsync({\n",
    "    log.add(\"开始睡眠\")\n",
    "    Thread.sleep(5000)\n",
    "    log.add(\"结束睡眠\")\n",
    "}).whenCompleteAsync({a,b->\n",
    "    println(log.toString())\n",
    "})"
   ]
  },
  {
   "cell_type": "code",
   "execution_count": 33,
   "id": "b272d674",
   "metadata": {},
   "outputs": [
    {
     "data": {
      "text/plain": [
       "开始睡眠\n",
       "结束睡眠"
      ]
     },
     "execution_count": 33,
     "metadata": {},
     "output_type": "execute_result"
    }
   ],
   "source": [
    "log"
   ]
  },
  {
   "cell_type": "markdown",
   "id": "abbb34e3",
   "metadata": {},
   "source": [
    "## 异步执行一个任务，并等待输出（阻塞笔记本）"
   ]
  },
  {
   "cell_type": "code",
   "execution_count": 31,
   "id": "e63e7b5a",
   "metadata": {},
   "outputs": [
    {
     "name": "stdout",
     "output_type": "stream",
     "text": [
      "开始睡眠\n",
      "结束睡眠\n",
      "null\n",
      "null\n"
     ]
    },
    {
     "data": {
      "text/plain": [
       "null"
      ]
     },
     "execution_count": 31,
     "metadata": {},
     "output_type": "execute_result"
    }
   ],
   "source": [
    "CompletableFuture.runAsync({\n",
    "    println(\"开始睡眠\")\n",
    "    Thread.sleep(5000)\n",
    "    println(\"结束睡眠\")\n",
    "}).whenCompleteAsync({a,b->\n",
    "    println(a)\n",
    "    println(b)\n",
    "}).join()"
   ]
  },
  {
   "cell_type": "code",
   "execution_count": 13,
   "id": "bccb6018",
   "metadata": {},
   "outputs": [],
   "source": [
    "@file:DependsOn(\"org.jetbrains.kotlinx:kotlinx-coroutines-core:1.6.4\")\n",
    "import kotlinx.coroutines.*"
   ]
  },
  {
   "cell_type": "code",
   "execution_count": 21,
   "id": "784d6a84",
   "metadata": {},
   "outputs": [
    {
     "name": "stdout",
     "output_type": "stream",
     "text": [
      "===\n",
      "Hello\n",
      "World!\n",
      "===\n"
     ]
    }
   ],
   "source": [
    "println(\"===\")\n",
    "runBlocking {\n",
    "    launch { doWorld() }\n",
    "    println(\"Hello\")\n",
    "}\n",
    "\n",
    "suspend fun doWorld() {\n",
    "    delay(1000L)\n",
    "    println(\"World!\")\n",
    "}\n",
    "println(\"===\")"
   ]
  },
  {
   "cell_type": "markdown",
   "id": "374f75d2",
   "metadata": {},
   "source": [
    "## 直接开启一个线程执行任务，不阻塞笔记本"
   ]
  },
  {
   "cell_type": "code",
   "execution_count": 21,
   "id": "90df7283",
   "metadata": {},
   "outputs": [
    {
     "name": "stdout",
     "output_type": "stream",
     "text": [
      "Thread-99\r\n",
      "RUNNABLE\r\n"
     ]
    }
   ],
   "source": [
    "println(Thread.currentThread().name)\n",
    "val log = java.util.StringJoiner(\"\\n\")\n",
    "val t = java.lang.Thread({\n",
    "    log.add(\"hello \"+Thread.currentThread().name)\n",
    "    Thread.sleep(10000)\n",
    "    log.add(\"world \"+Thread.currentThread().name)\n",
    "})\n",
    "t.start()\n",
    "println(t.state)"
   ]
  },
  {
   "cell_type": "code",
   "execution_count": 22,
   "id": "19835090",
   "metadata": {},
   "outputs": [
    {
     "name": "stdout",
     "output_type": "stream",
     "text": [
      "hello Thread-100\n",
      "TIMED_WAITING\n",
      "======\n",
      "hello Thread-100\n",
      "world Thread-100\n",
      "TERMINATED\n"
     ]
    }
   ],
   "source": [
    "println(log)\n",
    "println(t.state)\n",
    "println(\"======\")\n",
    "Thread.sleep(10000)\n",
    "println(log)\n",
    "println(t.state)"
   ]
  },
  {
   "cell_type": "markdown",
   "id": "f9ba24e2",
   "metadata": {},
   "source": [
    "## 如果开多个线程去跑任务，怎么align所有线程状态？"
   ]
  },
  {
   "cell_type": "code",
   "execution_count": null,
   "id": "d3549195",
   "metadata": {},
   "outputs": [],
   "source": [
    "CompletableFuture.allOf(*list.toTypedArray()).join()"
   ]
  },
  {
   "cell_type": "markdown",
   "id": "7cc18d14",
   "metadata": {},
   "source": [
    "## 如果线程池满了，拒绝任务"
   ]
  },
  {
   "cell_type": "markdown",
   "id": "184a0213",
   "metadata": {},
   "source": [
    "8个核心线程，队列容量8，8个备用线程（即最多16个线程），线程保留8s"
   ]
  },
  {
   "cell_type": "code",
   "execution_count": 28,
   "id": "af2532e4",
   "metadata": {},
   "outputs": [],
   "source": [
    "fun runCount(count:Int){\n",
    "    //线程满了在当前线程执行\n",
    "    val rejectHandler = object: RejectedExecutionHandler {\n",
    "                        override fun rejectedExecution(r:Runnable, executor:ThreadPoolExecutor){\n",
    "                            println(String.format(\"任务被拒绝 %s %s %s\", r,executor.taskCount,executor.activeCount));\n",
    "                            r.run();\n",
    "                        }\n",
    "                    }\n",
    "    val executor = ThreadPoolExecutor(\n",
    "                    8, 16,\n",
    "                    10L, TimeUnit.SECONDS,\n",
    "                    LinkedBlockingQueue<Runnable>(8),\n",
    "                    rejectHandler);\n",
    "    val list = mutableListOf<CompletableFuture<Void>>()\n",
    "    for(i in 1..count){\n",
    "        //在自定义线程池跑任务\n",
    "        val cf = CompletableFuture.runAsync({\n",
    "            println(Thread.currentThread().getName()+\"-in-\"+i)\n",
    "            Thread.sleep(5000)\n",
    "        },executor)\n",
    "        list.add(cf)\n",
    "    }\n",
    "    //睡眠避免日志错乱\n",
    "    Thread.sleep(500)\n",
    "    println(\"等待所有完成开始\")\n",
    "    CompletableFuture.allOf(*list.toTypedArray()).join()\n",
    "    println(\"等待所有完成结束\")\n",
    "    executor.shutdown()\n",
    "}"
   ]
  },
  {
   "cell_type": "code",
   "execution_count": 34,
   "id": "07b70ad8",
   "metadata": {},
   "outputs": [
    {
     "name": "stdout",
     "output_type": "stream",
     "text": [
      "pool-24-thread-1-in-1\n",
      "pool-24-thread-2-in-2\n",
      "pool-24-thread-4-in-4\n",
      "pool-24-thread-3-in-3\n",
      "pool-24-thread-6-in-6\n",
      "pool-24-thread-8-in-8\n",
      "pool-24-thread-5-in-5\n",
      "pool-24-thread-7-in-7\n",
      "等待所有完成开始\n",
      "pool-24-thread-1-in-11\n",
      "pool-24-thread-3-in-15\n",
      "pool-24-thread-8-in-14\n",
      "pool-24-thread-6-in-13\n",
      "pool-24-thread-5-in-12\n",
      "pool-24-thread-4-in-9\n",
      "pool-24-thread-2-in-10\n",
      "等待所有完成结束\n"
     ]
    }
   ],
   "source": [
    "//核心线程拉满\n",
    "//队列未满\n",
    "runCount(15)"
   ]
  },
  {
   "cell_type": "code",
   "execution_count": 35,
   "id": "99d884fa",
   "metadata": {},
   "outputs": [
    {
     "name": "stdout",
     "output_type": "stream",
     "text": [
      "pool-25-thread-1-in-1\n",
      "pool-25-thread-2-in-2\n",
      "pool-25-thread-3-in-3\n",
      "pool-25-thread-4-in-4\n",
      "pool-25-thread-6-in-6\n",
      "pool-25-thread-5-in-5\n",
      "pool-25-thread-8-in-8\n",
      "pool-25-thread-7-in-7\n",
      "等待所有完成开始\n",
      "pool-25-thread-4-in-9\n",
      "pool-25-thread-2-in-12\n",
      "pool-25-thread-3-in-11\n",
      "pool-25-thread-1-in-10\n",
      "pool-25-thread-6-in-15\n",
      "pool-25-thread-7-in-13\n",
      "pool-25-thread-5-in-14\n",
      "pool-25-thread-8-in-16\n",
      "等待所有完成结束\n"
     ]
    }
   ],
   "source": [
    "//核心线程拉满\n",
    "//队列拉满\n",
    "runCount(16)"
   ]
  },
  {
   "cell_type": "code",
   "execution_count": 36,
   "id": "9a582afb",
   "metadata": {},
   "outputs": [
    {
     "name": "stdout",
     "output_type": "stream",
     "text": [
      "pool-26-thread-1-in-1\n",
      "pool-26-thread-4-in-4\n",
      "pool-26-thread-5-in-5\n",
      "pool-26-thread-6-in-6\n",
      "pool-26-thread-3-in-3\n",
      "pool-26-thread-2-in-2\n",
      "pool-26-thread-12-in-20\n",
      "pool-26-thread-11-in-19\n",
      "pool-26-thread-10-in-18\n",
      "pool-26-thread-9-in-17\n",
      "pool-26-thread-8-in-8\n",
      "pool-26-thread-7-in-7\n",
      "等待所有完成开始\n",
      "pool-26-thread-4-in-9\n",
      "pool-26-thread-12-in-14\n",
      "pool-26-thread-3-in-16\n",
      "pool-26-thread-2-in-15\n",
      "pool-26-thread-11-in-13\n",
      "pool-26-thread-1-in-12\n",
      "pool-26-thread-5-in-11\n",
      "pool-26-thread-6-in-10\n",
      "等待所有完成结束\n"
     ]
    }
   ],
   "source": [
    "//核心线程拉满\n",
    "//队列拉满\n",
    "//备用线程未满（备用线程启动时先执行队列满了之后的任务，即17-20）\n",
    "runCount(20)"
   ]
  },
  {
   "cell_type": "code",
   "execution_count": 37,
   "id": "63abc025",
   "metadata": {},
   "outputs": [
    {
     "name": "stdout",
     "output_type": "stream",
     "text": [
      "pool-27-thread-1-in-1\n",
      "pool-27-thread-4-in-4\n",
      "pool-27-thread-3-in-3\n",
      "pool-27-thread-2-in-2\n",
      "pool-27-thread-7-in-7\n",
      "pool-27-thread-6-in-6\n",
      "pool-27-thread-5-in-5\n",
      "pool-27-thread-16-in-24\n",
      "pool-27-thread-15-in-23\n",
      "pool-27-thread-14-in-22\n",
      "pool-27-thread-13-in-21\n",
      "pool-27-thread-12-in-20\n",
      "pool-27-thread-11-in-19\n",
      "pool-27-thread-10-in-18\n",
      "pool-27-thread-9-in-17\n",
      "pool-27-thread-8-in-8\n",
      "等待所有完成开始\n",
      "pool-27-thread-1-in-10\n",
      "pool-27-thread-4-in-11\n",
      "pool-27-thread-3-in-12\n",
      "pool-27-thread-2-in-9\n",
      "pool-27-thread-13-in-13\n",
      "pool-27-thread-15-in-16\n",
      "pool-27-thread-16-in-15\n",
      "pool-27-thread-14-in-14\n",
      "等待所有完成结束\n"
     ]
    }
   ],
   "source": [
    "//核心线程拉满\n",
    "//队列拉满\n",
    "//备用线程拉满\n",
    "runCount(24)"
   ]
  },
  {
   "cell_type": "code",
   "execution_count": 38,
   "id": "eb55a469",
   "metadata": {},
   "outputs": [
    {
     "name": "stdout",
     "output_type": "stream",
     "text": [
      "pool-28-thread-1-in-1\n",
      "pool-28-thread-3-in-3\n",
      "pool-28-thread-2-in-2\n",
      "pool-28-thread-5-in-5\n",
      "pool-28-thread-4-in-4\n",
      "pool-28-thread-16-in-24\n",
      "pool-28-thread-15-in-23\n",
      "pool-28-thread-14-in-22\n",
      "pool-28-thread-13-in-21\n",
      "pool-28-thread-12-in-20\n",
      "pool-28-thread-11-in-19\n",
      "pool-28-thread-10-in-18\n",
      "pool-28-thread-9-in-17\n",
      "pool-28-thread-8-in-8\n",
      "pool-28-thread-7-in-7\n",
      "任务被拒绝 java.util.concurrent.CompletableFuture$AsyncRun@156a899a 24 16\n",
      "Thread-161-in-25\n",
      "pool-28-thread-6-in-6\n",
      "pool-28-thread-5-in-10\n",
      "pool-28-thread-3-in-12\n",
      "pool-28-thread-2-in-11\n",
      "pool-28-thread-1-in-9\n",
      "pool-28-thread-16-in-13\n",
      "pool-28-thread-14-in-15\n",
      "pool-28-thread-4-in-16\n",
      "pool-28-thread-15-in-14\n",
      "pool-28-thread-13-in-26\n",
      "pool-28-thread-7-in-28\n",
      "pool-28-thread-11-in-27\n",
      "等待所有完成开始\n",
      "等待所有完成结束\n"
     ]
    }
   ],
   "source": [
    "//核心线程拉满\n",
    "//队列拉满\n",
    "//备用线程拉满\n",
    "//任务被拒绝\n",
    "runCount(28)"
   ]
  }
 ],
 "metadata": {
  "kernelspec": {
   "display_name": "Kotlin",
   "language": "kotlin",
   "name": "kotlin"
  },
  "language_info": {
   "codemirror_mode": "text/x-kotlin",
   "file_extension": ".kt",
   "mimetype": "text/x-kotlin",
   "name": "kotlin",
   "nbconvert_exporter": "",
   "pygments_lexer": "kotlin",
   "version": "1.7.20-dev-1299"
  }
 },
 "nbformat": 4,
 "nbformat_minor": 5
}
