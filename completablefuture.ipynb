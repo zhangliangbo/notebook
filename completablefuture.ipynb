{
 "cells": [
  {
   "cell_type": "code",
   "execution_count": 1,
   "id": "21e29745",
   "metadata": {},
   "outputs": [],
   "source": [
    "import java.util.stream.*\n",
    "import java.util.concurrent.*"
   ]
  },
  {
   "cell_type": "code",
   "execution_count": 2,
   "id": "6746d859",
   "metadata": {},
   "outputs": [
    {
     "name": "stdout",
     "output_type": "stream",
     "text": [
      "16\r\n",
      "15\r\n",
      "0\r\n"
     ]
    }
   ],
   "source": [
    "//cpu核心数\n",
    "println(Runtime.getRuntime().availableProcessors())\n",
    "//最大线程数\n",
    "println(ForkJoinPool.getCommonPoolParallelism())\n",
    "//当前线程数\n",
    "println(ForkJoinPool.commonPool().poolSize)"
   ]
  },
  {
   "cell_type": "markdown",
   "id": "29cd9161",
   "metadata": {},
   "source": [
    "## 多个任务全部完成后，打印总体时间"
   ]
  },
  {
   "cell_type": "code",
   "execution_count": 36,
   "id": "ff2f1e49",
   "metadata": {},
   "outputs": [
    {
     "name": "stdout",
     "output_type": "stream",
     "text": [
      "0:ForkJoinPool.commonPool-worker-24:1662208665500\n",
      "1:ForkJoinPool.commonPool-worker-25:1662208665525\n",
      "6:ForkJoinPool.commonPool-worker-30:1662208665540\n",
      "5:ForkJoinPool.commonPool-worker-29:1662208665539\n",
      "4:ForkJoinPool.commonPool-worker-28:1662208665538\n",
      "3:ForkJoinPool.commonPool-worker-27:1662208665533\n",
      "2:ForkJoinPool.commonPool-worker-26:1662208665530\n",
      "2120\n"
     ]
    }
   ],
   "source": [
    "val dished = IntStream.range(0,7)\n",
    "    .mapToObj({\n",
    "        CompletableFuture.runAsync(\n",
    "                {\n",
    "                    println(it.toString()+\":\"+Thread.currentThread().name+\":\"+System.currentTimeMillis())\n",
    "                    Thread.sleep(2000)\n",
    "                }\n",
    "            )\n",
    "    })\n",
    "    .toList()\n",
    "\n",
    "val start = System.currentTimeMillis()\n",
    "CompletableFuture.allOf(*dished.toTypedArray()).join()\n",
    "println(System.currentTimeMillis() - start)"
   ]
  },
  {
   "cell_type": "markdown",
   "id": "5047d1dc",
   "metadata": {},
   "source": [
    "## 异步执行一个任务（不阻塞笔记本）"
   ]
  },
  {
   "cell_type": "code",
   "execution_count": 32,
   "id": "df7a1646",
   "metadata": {},
   "outputs": [
    {
     "data": {
      "text/plain": [
       "java.util.concurrent.CompletableFuture@1ddd3478[Not completed]"
      ]
     },
     "execution_count": 32,
     "metadata": {},
     "output_type": "execute_result"
    }
   ],
   "source": [
    "val log = java.util.StringJoiner(\"\\n\")\n",
    "CompletableFuture.runAsync({\n",
    "    log.add(\"开始睡眠\")\n",
    "    Thread.sleep(5000)\n",
    "    log.add(\"结束睡眠\")\n",
    "}).whenCompleteAsync({a,b->\n",
    "    println(log.toString())\n",
    "})"
   ]
  },
  {
   "cell_type": "code",
   "execution_count": 33,
   "id": "b272d674",
   "metadata": {},
   "outputs": [
    {
     "data": {
      "text/plain": [
       "开始睡眠\n",
       "结束睡眠"
      ]
     },
     "execution_count": 33,
     "metadata": {},
     "output_type": "execute_result"
    }
   ],
   "source": [
    "log"
   ]
  },
  {
   "cell_type": "markdown",
   "id": "abbb34e3",
   "metadata": {},
   "source": [
    "## 异步执行一个任务，并等待输出（阻塞笔记本）"
   ]
  },
  {
   "cell_type": "code",
   "execution_count": 31,
   "id": "e63e7b5a",
   "metadata": {},
   "outputs": [
    {
     "name": "stdout",
     "output_type": "stream",
     "text": [
      "开始睡眠\n",
      "结束睡眠\n",
      "null\n",
      "null\n"
     ]
    },
    {
     "data": {
      "text/plain": [
       "null"
      ]
     },
     "execution_count": 31,
     "metadata": {},
     "output_type": "execute_result"
    }
   ],
   "source": [
    "CompletableFuture.runAsync({\n",
    "    println(\"开始睡眠\")\n",
    "    Thread.sleep(5000)\n",
    "    println(\"结束睡眠\")\n",
    "}).whenCompleteAsync({a,b->\n",
    "    println(a)\n",
    "    println(b)\n",
    "}).join()"
   ]
  },
  {
   "cell_type": "code",
   "execution_count": 13,
   "id": "bccb6018",
   "metadata": {},
   "outputs": [],
   "source": [
    "@file:DependsOn(\"org.jetbrains.kotlinx:kotlinx-coroutines-core:1.6.4\")\n",
    "import kotlinx.coroutines.*"
   ]
  },
  {
   "cell_type": "code",
   "execution_count": 21,
   "id": "784d6a84",
   "metadata": {},
   "outputs": [
    {
     "name": "stdout",
     "output_type": "stream",
     "text": [
      "===\n",
      "Hello\n",
      "World!\n",
      "===\n"
     ]
    }
   ],
   "source": [
    "println(\"===\")\n",
    "runBlocking {\n",
    "    launch { doWorld() }\n",
    "    println(\"Hello\")\n",
    "}\n",
    "\n",
    "suspend fun doWorld() {\n",
    "    delay(1000L)\n",
    "    println(\"World!\")\n",
    "}\n",
    "println(\"===\")"
   ]
  },
  {
   "cell_type": "markdown",
   "id": "374f75d2",
   "metadata": {},
   "source": [
    "## 直接开启一个线程执行任务，不阻塞笔记本"
   ]
  },
  {
   "cell_type": "code",
   "execution_count": 21,
   "id": "90df7283",
   "metadata": {},
   "outputs": [
    {
     "name": "stdout",
     "output_type": "stream",
     "text": [
      "Thread-99\r\n",
      "RUNNABLE\r\n"
     ]
    }
   ],
   "source": [
    "println(Thread.currentThread().name)\n",
    "val log = java.util.StringJoiner(\"\\n\")\n",
    "val t = java.lang.Thread({\n",
    "    log.add(\"hello \"+Thread.currentThread().name)\n",
    "    Thread.sleep(10000)\n",
    "    log.add(\"world \"+Thread.currentThread().name)\n",
    "})\n",
    "t.start()\n",
    "println(t.state)"
   ]
  },
  {
   "cell_type": "code",
   "execution_count": 22,
   "id": "19835090",
   "metadata": {},
   "outputs": [
    {
     "name": "stdout",
     "output_type": "stream",
     "text": [
      "hello Thread-100\n",
      "TIMED_WAITING\n",
      "======\n",
      "hello Thread-100\n",
      "world Thread-100\n",
      "TERMINATED\n"
     ]
    }
   ],
   "source": [
    "println(log)\n",
    "println(t.state)\n",
    "println(\"======\")\n",
    "Thread.sleep(10000)\n",
    "println(log)\n",
    "println(t.state)"
   ]
  },
  {
   "cell_type": "markdown",
   "id": "2c95fb68",
   "metadata": {},
   "source": [
    "## 从【无】开始异步接替"
   ]
  },
  {
   "cell_type": "code",
   "execution_count": 33,
   "id": "9bacd758",
   "metadata": {},
   "outputs": [
    {
     "data": {
      "text/plain": [
       "null"
      ]
     },
     "execution_count": 33,
     "metadata": {},
     "output_type": "execute_result"
    }
   ],
   "source": [
    "CompletableFuture.completedFuture(null)\n",
    ".thenRunAsync({\n",
    "    Thread.sleep(1000)\n",
    "})\n",
    ".thenRunAsync({\n",
    "    Thread.sleep(1000)\n",
    "})\n",
    ".join()"
   ]
  },
  {
   "cell_type": "markdown",
   "id": "f9ba24e2",
   "metadata": {},
   "source": [
    "## 如果开多个线程去跑任务，怎么align所有线程状态？"
   ]
  }
 ],
 "metadata": {
  "kernelspec": {
   "display_name": "Kotlin",
   "language": "kotlin",
   "name": "kotlin"
  },
  "language_info": {
   "codemirror_mode": "text/x-kotlin",
   "file_extension": ".kt",
   "mimetype": "text/x-kotlin",
   "name": "kotlin",
   "nbconvert_exporter": "",
   "pygments_lexer": "kotlin",
   "version": "1.8.0-dev-707"
  }
 },
 "nbformat": 4,
 "nbformat_minor": 5
}
