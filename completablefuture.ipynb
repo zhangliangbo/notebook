{
 "cells": [
  {
   "cell_type": "code",
   "execution_count": 20,
   "id": "21e29745",
   "metadata": {},
   "outputs": [],
   "source": [
    "import java.util.stream.*\n",
    "import java.util.concurrent.*"
   ]
  },
  {
   "cell_type": "code",
   "execution_count": 29,
   "id": "d060f7e2",
   "metadata": {},
   "outputs": [
    {
     "name": "stdout",
     "output_type": "stream",
     "text": [
      "8\r\n",
      "7\r\n",
      "5\r\n"
     ]
    }
   ],
   "source": [
    "//cpu核心数\n",
    "println(Runtime.getRuntime().availableProcessors())\n",
    "//最大线程数\n",
    "println(ForkJoinPool.getCommonPoolParallelism())\n",
    "//当前线程数\n",
    "println(ForkJoinPool.commonPool().poolSize)"
   ]
  },
  {
   "cell_type": "code",
   "execution_count": 30,
   "id": "df9df7d1",
   "metadata": {},
   "outputs": [
    {
     "name": "stdout",
     "output_type": "stream",
     "text": [
      "1:ForkJoinPool.commonPool-worker-14:1662173217631\n",
      "4:ForkJoinPool.commonPool-worker-10:1662173217632\n",
      "3:ForkJoinPool.commonPool-worker-9:1662173217631\n",
      "2:ForkJoinPool.commonPool-worker-13:1662173217631\n",
      "0:ForkJoinPool.commonPool-worker-12:1662173217631\n",
      "6:ForkJoinPool.commonPool-worker-20:1662173217632\n",
      "5:ForkJoinPool.commonPool-worker-19:1662173217632\n",
      "2012\n"
     ]
    }
   ],
   "source": [
    "val dished = IntStream.range(0,7)\n",
    "    .mapToObj({\n",
    "        CompletableFuture.runAsync(\n",
    "                {\n",
    "                    println(it.toString()+\":\"+Thread.currentThread().name+\":\"+System.currentTimeMillis())\n",
    "                    Thread.sleep(2000)\n",
    "                }\n",
    "            )\n",
    "    })\n",
    "    .toList()\n",
    "\n",
    "val start = System.currentTimeMillis()\n",
    "CompletableFuture.allOf(*dished.toTypedArray()).join()\n",
    "println(System.currentTimeMillis() - start)"
   ]
  },
  {
   "cell_type": "code",
   "execution_count": null,
   "id": "966ffc8f",
   "metadata": {},
   "outputs": [],
   "source": []
  }
 ],
 "metadata": {
  "kernelspec": {
   "display_name": "Kotlin",
   "language": "kotlin",
   "name": "kotlin"
  },
  "language_info": {
   "codemirror_mode": "text/x-kotlin",
   "file_extension": ".kt",
   "mimetype": "text/x-kotlin",
   "name": "kotlin",
   "nbconvert_exporter": "",
   "pygments_lexer": "kotlin",
   "version": "1.7.20-dev-1299"
  }
 },
 "nbformat": 4,
 "nbformat_minor": 5
}
