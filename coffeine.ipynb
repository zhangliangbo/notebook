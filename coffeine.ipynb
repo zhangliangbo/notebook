{
 "cells": [
  {
   "cell_type": "markdown",
   "id": "fcea6a3d",
   "metadata": {},
   "source": [
    "https://github.com/ben-manes/caffeine"
   ]
  },
  {
   "cell_type": "markdown",
   "id": "8128d200",
   "metadata": {},
   "source": [
    "https://github.com/ben-manes/caffeine/wiki"
   ]
  }
 ],
 "metadata": {
  "kernelspec": {
   "display_name": "Kotlin",
   "language": "kotlin",
   "name": "kotlin"
  },
  "language_info": {
   "codemirror_mode": "text/x-kotlin",
   "file_extension": ".kt",
   "mimetype": "text/x-kotlin",
   "name": "kotlin",
   "nbconvert_exporter": "",
   "pygments_lexer": "kotlin",
   "version": "1.8.0-dev-707"
  }
 },
 "nbformat": 4,
 "nbformat_minor": 5
}
