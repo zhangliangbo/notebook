{
 "cells": [
  {
   "cell_type": "markdown",
   "id": "dc97d986",
   "metadata": {},
   "source": [
    "https://nm.dev/"
   ]
  },
  {
   "cell_type": "code",
   "execution_count": 1,
   "id": "bbf18e0e",
   "metadata": {},
   "outputs": [],
   "source": [
    "@file:Repository(\"https://repo.nm.dev/repository/maven-public\")\n",
    "@file:DependsOn(\"dev.nm:nmdev:1.2.4\")\n",
    "import dev.nm.algebra.linear.matrix.doubles.matrixtype.dense.*"
   ]
  },
  {
   "cell_type": "markdown",
   "id": "056da1f8",
   "metadata": {},
   "source": [
    "# 线性代数"
   ]
  },
  {
   "cell_type": "markdown",
   "id": "12e8815a",
   "metadata": {},
   "source": [
    "https://nm.dev/knowledge-base/linear-algebra/"
   ]
  },
  {
   "cell_type": "code",
   "execution_count": 2,
   "id": "89d036d5",
   "metadata": {},
   "outputs": [
    {
     "name": "stderr",
     "output_type": "stream",
     "text": [
      "license file not found - put the license file in the classpath, working directory, or next to nmdev.jar (loaded license from: license not yet loaded)\r\n",
      "dev.nm.misc.license.LicenseError: license file not found - put the license file in the classpath, working directory, or next to nmdev.jar (loaded license from: license not yet loaded)\r\n"
     ]
    }
   ],
   "source": [
    "val a1= DenseMatrix(\n",
    "    arrayOf(\n",
    "        doubleArrayOf(1.0,2.0,3.0),\n",
    "        doubleArrayOf(4.0,5.0,6.0)\n",
    "    )\n",
    ")"
   ]
  },
  {
   "cell_type": "code",
   "execution_count": null,
   "id": "175d1e5e",
   "metadata": {},
   "outputs": [],
   "source": []
  }
 ],
 "metadata": {
  "kernelspec": {
   "display_name": "Kotlin",
   "language": "kotlin",
   "name": "kotlin"
  },
  "language_info": {
   "codemirror_mode": "text/x-kotlin",
   "file_extension": ".kt",
   "mimetype": "text/x-kotlin",
   "name": "kotlin",
   "nbconvert_exporter": "",
   "pygments_lexer": "kotlin",
   "version": "1.8.0-dev-707"
  }
 },
 "nbformat": 4,
 "nbformat_minor": 5
}
