{
 "cells": [
  {
   "cell_type": "markdown",
   "id": "0216743d",
   "metadata": {},
   "source": [
    "# 引入flink依赖"
   ]
  },
  {
   "cell_type": "markdown",
   "id": "0f8d8a21",
   "metadata": {},
   "source": [
    "```\n",
    "//stream api和table api\n",
    "<dependency>\n",
    "    <groupId>org.apache.flink</groupId>\n",
    "    <artifactId>flink-table-api-java-bridge_2.11</artifactId>\n",
    "    <version>1.14.2</version>\n",
    "    <!-- provided不会打包到jar -->\n",
    "    <scope>provided</scope>\n",
    "</dependency>\n",
    "```"
   ]
  },
  {
   "cell_type": "markdown",
   "id": "a71e6e27",
   "metadata": {},
   "source": [
    "```\n",
    "<dependency>\n",
    "    <groupId>org.apache.flink</groupId>\n",
    "    <artifactId>flink-clients_2.11</artifactId>\n",
    "    <version>1.14.2</version>\n",
    "    <scope>provided</scope>\n",
    "</dependency>\n",
    "```"
   ]
  },
  {
   "cell_type": "markdown",
   "id": "4a24550b",
   "metadata": {},
   "source": [
    "# 编写入口"
   ]
  },
  {
   "cell_type": "markdown",
   "id": "3987a496",
   "metadata": {},
   "source": [
    "### 目录结构"
   ]
  },
  {
   "cell_type": "markdown",
   "id": "f5ece5d6",
   "metadata": {},
   "source": [
    "- com.example.demo\n",
    "    - auto\n",
    "        - ChildApplication\n",
    "    - task\n",
    "        - Task\n",
    "        - AbstractTask\n",
    "        - TaskManager\n",
    "    - time\n",
    "        - TimeSource\n",
    "        - TimeTask\n",
    "    - Demo2Application"
   ]
  },
  {
   "cell_type": "markdown",
   "id": "7797f4b1",
   "metadata": {},
   "source": [
    "### 子容器初始化类"
   ]
  },
  {
   "cell_type": "markdown",
   "id": "efb79324",
   "metadata": {},
   "source": [
    "```\n",
    "@EnableAutoConfiguration\n",
    "public class ChildApplication {\n",
    "}\n",
    "```"
   ]
  },
  {
   "cell_type": "markdown",
   "id": "91829647",
   "metadata": {},
   "source": [
    "### 任务接口"
   ]
  },
  {
   "cell_type": "markdown",
   "id": "36f2af23",
   "metadata": {},
   "source": [
    "```\n",
    "public interface Task {\n",
    "    void run(String... args) throws Exception;\n",
    "}\n",
    "```"
   ]
  },
  {
   "cell_type": "markdown",
   "id": "32896de4",
   "metadata": {},
   "source": [
    "### 抽象任务类"
   ]
  },
  {
   "cell_type": "markdown",
   "id": "309d4642",
   "metadata": {},
   "source": [
    "```\n",
    "@Slf4j\n",
    "public abstract class AbstractTask implements Task {\n",
    "\n",
    "    @Override\n",
    "    public void run(String... args) throws Exception {\n",
    "        StreamExecutionEnvironment env = StreamExecutionEnvironment.getExecutionEnvironment();\n",
    "        ParameterTool parameterTool = ParameterTool.fromArgs(args);\n",
    "        configTask(env, parameterTool);\n",
    "        JobClient jobClient = env.executeAsync(getClass().getSimpleName());\n",
    "        if (jobClient instanceof WebSubmissionJobClient) {\n",
    "            return;\n",
    "        }\n",
    "        jobClient.getJobExecutionResult()\n",
    "                .whenComplete(new BiConsumer<JobExecutionResult, Throwable>() {\n",
    "                    @Override\n",
    "                    public void accept(JobExecutionResult jobExecutionResult, Throwable throwable) {\n",
    "                        log.error(\"time {}\", jobExecutionResult.getNetRuntime(TimeUnit.SECONDS));\n",
    "                    }\n",
    "                });\n",
    "    }\n",
    "\n",
    "    public abstract void configTask(StreamExecutionEnvironment env, ParameterTool tool);\n",
    "\n",
    "}\n",
    "\n",
    "```"
   ]
  },
  {
   "cell_type": "markdown",
   "id": "5557feeb",
   "metadata": {},
   "source": [
    "### 任务管理器"
   ]
  },
  {
   "cell_type": "markdown",
   "id": "70024921",
   "metadata": {},
   "source": [
    "```\n",
    "@Slf4j\n",
    "@Service\n",
    "public class TaskManager implements CommandLineRunner {\n",
    "\n",
    "    @Resource\n",
    "    List<Task> taskList;\n",
    "\n",
    "    @Override\n",
    "    public void run(String... args) throws Exception {\n",
    "        ParameterTool parameterTool = ParameterTool.fromArgs(args);\n",
    "        log.info(\"程序参数 {}\", parameterTool);\n",
    "        String runTaskName = parameterTool.get(\"task\");\n",
    "        if (CollectionUtils.isEmpty(taskList) || StringUtils.isBlank(runTaskName)) {\n",
    "            return;\n",
    "        }\n",
    "        for (Task task : taskList) {\n",
    "            if (Objects.equals(runTaskName, task.getClass().getName())) {\n",
    "                task.run(args);\n",
    "            }\n",
    "        }\n",
    "    }\n",
    "\n",
    "}\n",
    "```"
   ]
  },
  {
   "cell_type": "markdown",
   "id": "ac225caa",
   "metadata": {},
   "source": [
    "### 一个计时任务数据源"
   ]
  },
  {
   "cell_type": "markdown",
   "id": "d6d6da54",
   "metadata": {},
   "source": [
    "```\n",
    "@Slf4j\n",
    "@Service\n",
    "public class TimeSource extends RichSourceFunction<Date> {\n",
    "\n",
    "    volatile boolean running = true;\n",
    "\n",
    "    private JdbcTemplate jdbcTemplate;\n",
    "\n",
    "    @Override\n",
    "    public void open(Configuration parameters) throws Exception {\n",
    "        //创建一个容器，并拿到需要的bean\n",
    "        String[] args = new String[]{\n",
    "                String.format(\"--spring.application.admin.jmx-name=org.springframework.boot:type=Admin,name=%s\", getClass().getName()),\n",
    "                String.format(\"--spring.jmx.default-domain=%s\", getClass().getName())\n",
    "        };\n",
    "        ConfigurableApplicationContext applicationContext = SpringApplication.run(ChildApplication.class, args);\n",
    "        jdbcTemplate = applicationContext.getBean(JdbcTemplate.class);\n",
    "    }\n",
    "\n",
    "    @Override\n",
    "    public void run(SourceContext<Date> ctx) throws Exception {\n",
    "        while (running) {\n",
    "            Date date = DataAccessUtils.uniqueResult(jdbcTemplate.queryForList(\"select now()\", Date.class));\n",
    "            ctx.collect(date);\n",
    "            TimeUnit.SECONDS.sleep(1);\n",
    "        }\n",
    "    }\n",
    "\n",
    "    @Override\n",
    "    public void cancel() {\n",
    "        running = false;\n",
    "    }\n",
    "\n",
    "}\n",
    "```"
   ]
  },
  {
   "cell_type": "markdown",
   "id": "bb5596ef",
   "metadata": {},
   "source": [
    "写这个数据源类花了很长时间，期间报了很多错，一直不符合预期：\n",
    "- xxx is not serializable：flink的算子可能会在不同的机器上运行，所以类信息会序列化之后传输。所以算子不能有任何不能序列化的字段（字段为null除外）\n",
    "- 有些需要的字段没有实现Serializable，但是又确实要用到，比如JdbcTemplate，如果是mybatis的话，就是各种mapper；像这些字段，只能在open方法里面初始化。有两种方法做这个初始化：一是，通过全局参数把一些连接信息传到算子，然后在open方法中初始化JdbcTemplate；二是，在open方法中重新创建一个容器，然后从容器中拿到JdbcTemplate。第一种方法，比较容易实现，但是要手动装配JdbcTemplate；第二种方法，要重新创建一个容器，装配的任务全都交给容器；想法是很nice，但在一个容器中创建另一个容器，比想象中的要复杂一些。\n",
    "- 在一个容器中初始化另一个容器：\n",
    "    - 需要一个容器初始化类：因为毕竟不需要注入所有对象，所以不能用主程序启动类Demo2Application；但是又要autoconfigure里面的很多对象，所以考虑加@EnableAutoConfiguration注解，同时放入单独的auto包，避免扫到不需要的bean定义；如果需要mybatis的mapper，考虑加@MapperScan注解\n",
    "    - 定义好容器初始化类之后，启动报错：Error creating bean with name 'springApplicationAdminRegistrar' defined in class path resource [org/springframework/boot/autoconfigure/admin/SpringApplicationAdminJmxAutoConfiguration.class]: Invocation of init method failed; nested exception is javax.management.InstanceAlreadyExistsException: org.springframework.boot:type=Admin,name=SpringApplication。看错误信息是实例重复了，这个有两种解决办法:\n",
    "        - 容器初始化类直接排除掉SpringApplicationAdminJmxAutoConfiguration.class：@EnableAutoConfiguration(exclude = {SpringApplicationAdminJmxAutoConfiguration.class})\n",
    "        - 子容器启动时修改spring.application.admin.jmx-name：--spring.application.admin.jmx-name=org.springframework.boot:type=Admin,name=%s\n",
    "    - 再启动，还是报错：Unable to register MBean [HikariDataSource (HikariPool-2)] with key 'dataSource'; nested exception is javax.management.InstanceAlreadyExistsException: com.zaxxer.hikari:name=dataSource,type=HikariDataSource。又是个实例重复的问题，这个问题百度了下，需要给--spring.jmx.default-domain配置个新的值：--spring.jmx.default-domain=%s\n",
    "    - 再启动，子容器正常创建，程序运行发现ok\n",
    "    - 打包上传flink web，提交运行，正常!"
   ]
  },
  {
   "cell_type": "markdown",
   "id": "1b4ace3b",
   "metadata": {},
   "source": [
    "### 一个计时任务"
   ]
  },
  {
   "cell_type": "markdown",
   "id": "6b9c4e05",
   "metadata": {},
   "source": [
    "```\n",
    "@Slf4j\n",
    "@Service\n",
    "public class TimeTask extends AbstractTask {\n",
    "\n",
    "    @Resource\n",
    "    private TimeSource timeSource;\n",
    "\n",
    "    @Override\n",
    "    public void configTask(StreamExecutionEnvironment env, ParameterTool tool) {\n",
    "        env.getConfig().setAutoWatermarkInterval(0);\n",
    "        env.addSource(timeSource)\n",
    "                .setParallelism(1)\n",
    "                .print()\n",
    "                .setParallelism(1);\n",
    "    }\n",
    "\n",
    "}\n",
    "```"
   ]
  },
  {
   "cell_type": "markdown",
   "id": "3c55f652",
   "metadata": {},
   "source": [
    "### 主程序启动类"
   ]
  },
  {
   "cell_type": "markdown",
   "id": "5de92ba9",
   "metadata": {},
   "source": [
    "```\n",
    "@SpringBootApplication\n",
    "public class Demo2Application {\n",
    "\n",
    "    public static void main(String[] args) {\n",
    "        SpringApplication.run(Demo2Application.class, args);\n",
    "    }\n",
    "\n",
    "}\n",
    "```"
   ]
  },
  {
   "cell_type": "markdown",
   "id": "8e01cb3b",
   "metadata": {},
   "source": [
    "# 打包程序"
   ]
  },
  {
   "cell_type": "markdown",
   "id": "b1e36a43",
   "metadata": {},
   "source": [
    "### 设置parent"
   ]
  },
  {
   "cell_type": "markdown",
   "id": "94e7249f",
   "metadata": {},
   "source": [
    "```\n",
    "<parent>\n",
    "    <groupId>org.springframework.boot</groupId>\n",
    "    <artifactId>spring-boot-starter-parent</artifactId>\n",
    "    <version>2.7.5</version>\n",
    "    <relativePath/> <!-- lookup parent from repository -->\n",
    "</parent>\n",
    "```"
   ]
  },
  {
   "cell_type": "markdown",
   "id": "b0881117",
   "metadata": {},
   "source": [
    "### 直接使用spring-boot-maven-plugin?"
   ]
  },
  {
   "cell_type": "markdown",
   "id": "edf88114",
   "metadata": {},
   "source": [
    "```\n",
    "<plugin>\n",
    "  <groupId>org.springframework.boot</groupId>\n",
    "  <artifactId>spring-boot-maven-plugin</artifactId>\n",
    "</plugin>\n",
    "```"
   ]
  },
  {
   "cell_type": "markdown",
   "id": "b934a43a",
   "metadata": {},
   "source": [
    "> 因为spring-boot-maven-plugin打包区分了main-class和start-class，打包之后main-class是org.springframework.boot.loader.JarLauncher引导类，上传到flink web执行报错。"
   ]
  },
  {
   "cell_type": "markdown",
   "id": "f6b49d17",
   "metadata": {},
   "source": [
    "### 考虑使用maven-shade-plugin"
   ]
  },
  {
   "cell_type": "markdown",
   "id": "896c8f4a",
   "metadata": {},
   "source": [
    "参考[SpringBoot超详细讲解集成Flink的部署与打包方法](https://www.jb51.net/article/248697.htm)的方法二写了一版："
   ]
  },
  {
   "cell_type": "markdown",
   "id": "7e601492",
   "metadata": {},
   "source": [
    "```\n",
    "<plugin>\n",
    "    <groupId>org.apache.maven.plugins</groupId>\n",
    "    <artifactId>maven-shade-plugin</artifactId>\n",
    "    <version>3.3.0</version>\n",
    "    <executions>\n",
    "      <execution>\n",
    "        <phase>package</phase>\n",
    "        <goals>\n",
    "          <goal>shade</goal>\n",
    "        </goals>\n",
    "        <configuration>\n",
    "          <createDependencyReducedPom>false</createDependencyReducedPom>\n",
    "          <artifactSet>\n",
    "            <excludes>\n",
    "              <exclude>com.google.code.findbugs:jsr305</exclude>\n",
    "              <exclude>org.slf4j:*</exclude>\n",
    "              <exclude>log4j:*</exclude>\n",
    "            </excludes>\n",
    "          </artifactSet>\n",
    "          <filters>\n",
    "            <filter>\n",
    "              <artifact>*:*</artifact>\n",
    "              <excludes>\n",
    "                <exclude>module-info.class</exclude>\n",
    "                <exclude>META-INF/*.SF</exclude>\n",
    "                <exclude>META-INF/*.DSA</exclude>\n",
    "                <exclude>META-INF/*.RSA</exclude>\n",
    "              </excludes>\n",
    "            </filter>\n",
    "          </filters>\n",
    "          <transformers>\n",
    "            <transformer\n",
    "              implementation=\"org.apache.maven.plugins.shade.resource.AppendingTransformer\">\n",
    "              <resource>META-INF/spring.handlers</resource>\n",
    "              <resource>reference.conf</resource>\n",
    "            </transformer>\n",
    "            <transformer\n",
    "              implementation=\"org.springframework.boot.maven.PropertiesMergingResourceTransformer\">\n",
    "              <resource>META-INF/spring.factories</resource>\n",
    "            </transformer>\n",
    "            <transformer\n",
    "              implementation=\"org.apache.maven.plugins.shade.resource.AppendingTransformer\">\n",
    "              <resource>META-INF/spring.schemas</resource>\n",
    "            </transformer>\n",
    "            <transformer\n",
    "              implementation=\"org.apache.maven.plugins.shade.resource.ServicesResourceTransformer\"/>\n",
    "            <transformer\n",
    "              implementation=\"org.apache.maven.plugins.shade.resource.ManifestResourceTransformer\">\n",
    "              <mainClass>${start-class}</mainClass>\n",
    "            </transformer>\n",
    "          </transformers>\n",
    "        </configuration>\n",
    "      </execution>\n",
    "    </executions>\n",
    "</plugin>\n",
    "```"
   ]
  },
  {
   "cell_type": "markdown",
   "id": "de5e3d7e",
   "metadata": {},
   "source": [
    "结果报错："
   ]
  },
  {
   "cell_type": "markdown",
   "id": "57dfd8da",
   "metadata": {},
   "source": [
    "Cannot find 'resource' in class org.apache.maven.plugins.shade.resource.ServicesResourceTransformer"
   ]
  },
  {
   "cell_type": "markdown",
   "id": "0e92e7ae",
   "metadata": {},
   "source": [
    "纠结了半天，也没找到原因"
   ]
  },
  {
   "cell_type": "markdown",
   "id": "c3ad1fd9",
   "metadata": {},
   "source": [
    "### 再试试maven-assembly-plugin"
   ]
  },
  {
   "cell_type": "markdown",
   "id": "bac5738f",
   "metadata": {},
   "source": [
    "```\n",
    "  <plugin>\n",
    "    <groupId>org.apache.maven.plugins</groupId>\n",
    "    <artifactId>maven-assembly-plugin</artifactId>\n",
    "    <version>3.3.0</version>\n",
    "    <configuration>\n",
    "      <archive>\n",
    "        <manifest>\n",
    "          <mainClass>${start-class}</mainClass>\n",
    "        </manifest>\n",
    "      </archive>\n",
    "      <!-- 打包依赖 -->\n",
    "      <descriptorRefs>\n",
    "        <descriptorRef>jar-with-dependencies</descriptorRef>\n",
    "      </descriptorRefs>\n",
    "    </configuration>\n",
    "    <executions>\n",
    "      <execution>\n",
    "        <id>make-assembly</id>\n",
    "        <phase>package</phase>\n",
    "        <goals>\n",
    "          <goal>single</goal>\n",
    "        </goals>\n",
    "      </execution>\n",
    "    </executions>\n",
    "  </plugin>\n",
    "```"
   ]
  },
  {
   "cell_type": "markdown",
   "id": "ef9a61c5",
   "metadata": {},
   "source": [
    "可以正常打包，本地也能运行，但是上传到flink web报错"
   ]
  },
  {
   "cell_type": "markdown",
   "id": "157386ea",
   "metadata": {},
   "source": [
    "```\n",
    "LoggerFactory is not a Logback LoggerContext but Logback is on the classpath. Either remove Logback or the competing implementation (class org.apache.logging.slf4j.Log4jLoggerFactory loaded from file:/opt/flink/lib/log4j-slf4j-impl-2.16.0.jar)\n",
    "```"
   ]
  },
  {
   "cell_type": "markdown",
   "id": "ee2e69f9",
   "metadata": {},
   "source": [
    "很明显，日志相关的jar冲突了。那么问题就是怎么配置maven-assembly-plugin，打包的时候移出org.apache.logging.log4j或ch.qos.logback？这个也比较困难，需要自定义assembly.xml文件，相对来说成本比较大。"
   ]
  },
  {
   "cell_type": "markdown",
   "id": "4762f55a",
   "metadata": {},
   "source": [
    "# 重回maven-shade-plugin"
   ]
  },
  {
   "cell_type": "markdown",
   "id": "b7dc978b",
   "metadata": {},
   "source": [
    "找到很多资料，包括flink[官方](https://nightlies.apache.org/flink/flink-docs-release-1.16/docs/dev/configuration/maven/)的maven打包方式也是用maven-shade-plugin，所以决定还是使用maven-shade-plugin。"
   ]
  },
  {
   "cell_type": "markdown",
   "id": "75571919",
   "metadata": {},
   "source": [
    "那怎么解决`Cannot find 'resource' in class org.apache.maven.plugins.shade.resource.ServicesResourceTransformer`的问题呢？"
   ]
  },
  {
   "cell_type": "markdown",
   "id": "a6432c35",
   "metadata": {},
   "source": [
    "恰好最近在看maven pom文件的相关知识，不小心打开了`spring-boot-starter-parent`的`pluginManagement`，发现里面定义很多插件，其中就包括`maven-shade-plugin`。"
   ]
  },
  {
   "cell_type": "markdown",
   "id": "cc2596cc",
   "metadata": {},
   "source": [
    "按照pom依赖的逻辑，只要在build->plugins声明maven-shade-plugin就行："
   ]
  },
  {
   "cell_type": "markdown",
   "id": "c20fae29",
   "metadata": {},
   "source": [
    "```\n",
    "<plugin>\n",
    "    <groupId>org.apache.maven.plugins</groupId>\n",
    "    <artifactId>maven-shade-plugin</artifactId>\n",
    "</plugin>\n",
    "```"
   ]
  },
  {
   "cell_type": "markdown",
   "id": "bffb2b67",
   "metadata": {},
   "source": [
    "```\n",
    "mvn clean package\n",
    "```"
   ]
  },
  {
   "cell_type": "markdown",
   "id": "fc7c0add",
   "metadata": {},
   "source": [
    "打包成功了！"
   ]
  },
  {
   "cell_type": "markdown",
   "id": "900aeeb7",
   "metadata": {},
   "source": [
    "仔细翻看spring-boot-starter-parent声明的maven-shade-plugin，发现executions->execution->configuration->transformers的内容在spring-boot的不同版本是不同的。难怪找不到resource。"
   ]
  },
  {
   "cell_type": "markdown",
   "id": "5cbf9301",
   "metadata": {},
   "source": [
    "后续打包上传到flink web，也是报日志相关的jar冲突，不过maven-shade-plugin打包排除依赖比maven-assembly-plugin简单多了。由于flink运行时包含/opt/flink/lib/log4j-slf4j-impl-2.16.0.jar，所以果断排除logback，完整plugin配置如下："
   ]
  },
  {
   "cell_type": "markdown",
   "id": "06337993",
   "metadata": {},
   "source": [
    "```\n",
    "<plugin>\n",
    "    <groupId>org.apache.maven.plugins</groupId>\n",
    "    <artifactId>maven-shade-plugin</artifactId>\n",
    "    <configuration>\n",
    "        <artifactSet>\n",
    "            <excludes>\n",
    "                <!-- 参考flink官网也把这个排除 -->\n",
    "                <exclude>com.google.code.findbugs:jsr305</exclude>\n",
    "                <exclude>ch.qos.logback:*</exclude>\n",
    "            </excludes>\n",
    "        </artifactSet>\n",
    "    </configuration>\n",
    "</plugin>\n",
    "```"
   ]
  }
 ],
 "metadata": {
  "kernelspec": {
   "display_name": "Kotlin",
   "language": "kotlin",
   "name": "kotlin"
  },
  "language_info": {
   "codemirror_mode": "text/x-kotlin",
   "file_extension": ".kt",
   "mimetype": "text/x-kotlin",
   "name": "kotlin",
   "nbconvert_exporter": "",
   "pygments_lexer": "kotlin",
   "version": "1.8.0-dev-707"
  }
 },
 "nbformat": 4,
 "nbformat_minor": 5
}
