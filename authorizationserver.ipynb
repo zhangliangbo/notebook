{
 "cells": [
  {
   "cell_type": "markdown",
   "id": "3510f41e",
   "metadata": {},
   "source": [
    "https://docs.spring.io/spring-authorization-server/docs/current/reference/html/getting-started.html"
   ]
  }
 ],
 "metadata": {
  "kernelspec": {
   "display_name": "Kotlin",
   "language": "kotlin",
   "name": "kotlin"
  },
  "language_info": {
   "codemirror_mode": "text/x-kotlin",
   "file_extension": ".kt",
   "mimetype": "text/x-kotlin",
   "name": "kotlin",
   "nbconvert_exporter": "",
   "pygments_lexer": "kotlin",
   "version": "1.7.20-dev-1299"
  }
 },
 "nbformat": 4,
 "nbformat_minor": 5
}
