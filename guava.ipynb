{
 "cells": [
  {
   "cell_type": "code",
   "execution_count": 1,
   "id": "9849030e",
   "metadata": {},
   "outputs": [],
   "source": [
    "@file:DependsOn(\"com.google.guava:guava:31.1-jre\")\n",
    "import com.google.common.base.*\n",
    "import com.google.common.collect.*"
   ]
  },
  {
   "cell_type": "markdown",
   "id": "d9194ab9",
   "metadata": {},
   "source": [
    "https://github.com/google/guava/wiki"
   ]
  },
  {
   "cell_type": "markdown",
   "id": "320d5c33",
   "metadata": {},
   "source": [
    "# 基本工具"
   ]
  },
  {
   "cell_type": "markdown",
   "id": "a752dd82",
   "metadata": {},
   "source": [
    "## 可空"
   ]
  },
  {
   "cell_type": "code",
   "execution_count": null,
   "id": "a7501e9f",
   "metadata": {},
   "outputs": [],
   "source": [
    "Optional.fromNullable(null).orNull()"
   ]
  },
  {
   "cell_type": "code",
   "execution_count": 2,
   "id": "54ae5896",
   "metadata": {},
   "outputs": [
    {
     "data": {
      "text/plain": [
       "a"
      ]
     },
     "execution_count": 2,
     "metadata": {},
     "output_type": "execute_result"
    }
   ],
   "source": [
    "val a=null as Any?\n",
    "Optional.fromNullable(a).or(\"a\")"
   ]
  },
  {
   "cell_type": "markdown",
   "id": "e87f6615",
   "metadata": {},
   "source": [
    "## 先决条件"
   ]
  },
  {
   "cell_type": "code",
   "execution_count": 16,
   "id": "c2744867",
   "metadata": {},
   "outputs": [
    {
     "name": "stderr",
     "output_type": "stream",
     "text": [
      "必须大于6\r\n",
      "java.lang.IllegalArgumentException: 必须大于6\r\n",
      "\tat com.google.common.base.Preconditions.checkArgument(Preconditions.java:167)\r\n",
      "\tat Line_320.<init>(Line_320.jupyter-kts:3)\r\n",
      "\tat java.base/jdk.internal.reflect.NativeConstructorAccessorImpl.newInstance0(Native Method)\r\n",
      "\tat java.base/jdk.internal.reflect.NativeConstructorAccessorImpl.newInstance(NativeConstructorAccessorImpl.java:77)\r\n",
      "\tat java.base/jdk.internal.reflect.DelegatingConstructorAccessorImpl.newInstance(DelegatingConstructorAccessorImpl.java:45)\r\n",
      "\tat java.base/java.lang.reflect.Constructor.newInstanceWithCaller(Constructor.java:499)\r\n",
      "\tat java.base/java.lang.reflect.Constructor.newInstance(Constructor.java:480)\r\n",
      "\tat kotlin.script.experimental.jvm.BasicJvmScriptEvaluator.evalWithConfigAndOtherScriptsResults(BasicJvmScriptEvaluator.kt:100)\r\n",
      "\tat kotlin.script.experimental.jvm.BasicJvmScriptEvaluator.invoke$suspendImpl(BasicJvmScriptEvaluator.kt:47)\r\n",
      "\tat kotlin.script.experimental.jvm.BasicJvmScriptEvaluator.invoke(BasicJvmScriptEvaluator.kt)\r\n",
      "\tat kotlin.script.experimental.jvm.BasicJvmReplEvaluator.eval(BasicJvmReplEvaluator.kt:49)\r\n",
      "\tat org.jetbrains.kotlinx.jupyter.repl.impl.InternalEvaluatorImpl$eval$resultWithDiagnostics$1.invokeSuspend(InternalEvaluatorImpl.kt:99)\r\n",
      "\tat kotlin.coroutines.jvm.internal.BaseContinuationImpl.resumeWith(ContinuationImpl.kt:33)\r\n",
      "\tat kotlinx.coroutines.DispatchedTask.run(DispatchedTask.kt:106)\r\n",
      "\tat kotlinx.coroutines.EventLoopImplBase.processNextEvent(EventLoop.common.kt:279)\r\n",
      "\tat kotlinx.coroutines.BlockingCoroutine.joinBlocking(Builders.kt:85)\r\n",
      "\tat kotlinx.coroutines.BuildersKt__BuildersKt.runBlocking(Builders.kt:59)\r\n",
      "\tat kotlinx.coroutines.BuildersKt.runBlocking(Unknown Source)\r\n",
      "\tat kotlinx.coroutines.BuildersKt__BuildersKt.runBlocking$default(Builders.kt:38)\r\n",
      "\tat kotlinx.coroutines.BuildersKt.runBlocking$default(Unknown Source)\r\n",
      "\tat org.jetbrains.kotlinx.jupyter.repl.impl.InternalEvaluatorImpl.eval(InternalEvaluatorImpl.kt:99)\r\n",
      "\tat org.jetbrains.kotlinx.jupyter.repl.impl.CellExecutorImpl$execute$1$result$1.invoke(CellExecutorImpl.kt:70)\r\n",
      "\tat org.jetbrains.kotlinx.jupyter.repl.impl.CellExecutorImpl$execute$1$result$1.invoke(CellExecutorImpl.kt:68)\r\n",
      "\tat org.jetbrains.kotlinx.jupyter.ReplForJupyterImpl.withHost(repl.kt:618)\r\n",
      "\tat org.jetbrains.kotlinx.jupyter.repl.impl.CellExecutorImpl.execute(CellExecutorImpl.kt:68)\r\n",
      "\tat org.jetbrains.kotlinx.jupyter.repl.CellExecutor$DefaultImpls.execute$default(CellExecutor.kt:14)\r\n",
      "\tat org.jetbrains.kotlinx.jupyter.ReplForJupyterImpl$evalEx$1.invoke(repl.kt:438)\r\n",
      "\tat org.jetbrains.kotlinx.jupyter.ReplForJupyterImpl$evalEx$1.invoke(repl.kt:427)\r\n",
      "\tat org.jetbrains.kotlinx.jupyter.ReplForJupyterImpl.withEvalContext(repl.kt:391)\r\n",
      "\tat org.jetbrains.kotlinx.jupyter.ReplForJupyterImpl.evalEx(repl.kt:427)\r\n",
      "\tat org.jetbrains.kotlinx.jupyter.ReplForJupyterImpl.eval(repl.kt:475)\r\n",
      "\tat org.jetbrains.kotlinx.jupyter.messaging.ProtocolKt$shellMessagesHandler$res$1.invoke(protocol.kt:301)\r\n",
      "\tat org.jetbrains.kotlinx.jupyter.messaging.ProtocolKt$shellMessagesHandler$res$1.invoke(protocol.kt:300)\r\n",
      "\tat org.jetbrains.kotlinx.jupyter.JupyterConnection$runExecution$execThread$1.invoke(connection.kt:180)\r\n",
      "\tat org.jetbrains.kotlinx.jupyter.JupyterConnection$runExecution$execThread$1.invoke(connection.kt:178)\r\n",
      "\tat kotlin.concurrent.ThreadsKt$thread$thread$1.run(Thread.kt:30)\r\n"
     ]
    }
   ],
   "source": [
    "val i=5\n",
    "//满足条件，无事发生\n",
    "Preconditions.checkArgument(i>3,\"必须大于6\")\n",
    "//不满足条件，报错\n",
    "Preconditions.checkArgument(i>6,\"必须大于6\")"
   ]
  },
  {
   "cell_type": "code",
   "execution_count": 19,
   "id": "faf64d34",
   "metadata": {},
   "outputs": [
    {
     "name": "stderr",
     "output_type": "stream",
     "text": [
      "必须大于6\r\n",
      "java.lang.IllegalStateException: 必须大于6\r\n",
      "\tat com.google.common.base.Preconditions.checkState(Preconditions.java:534)\r\n",
      "\tat Line_546.<init>(Line_546.jupyter-kts:5)\r\n",
      "\tat java.base/jdk.internal.reflect.NativeConstructorAccessorImpl.newInstance0(Native Method)\r\n",
      "\tat java.base/jdk.internal.reflect.NativeConstructorAccessorImpl.newInstance(NativeConstructorAccessorImpl.java:77)\r\n",
      "\tat java.base/jdk.internal.reflect.DelegatingConstructorAccessorImpl.newInstance(DelegatingConstructorAccessorImpl.java:45)\r\n",
      "\tat java.base/java.lang.reflect.Constructor.newInstanceWithCaller(Constructor.java:499)\r\n",
      "\tat java.base/java.lang.reflect.Constructor.newInstance(Constructor.java:480)\r\n",
      "\tat kotlin.script.experimental.jvm.BasicJvmScriptEvaluator.evalWithConfigAndOtherScriptsResults(BasicJvmScriptEvaluator.kt:100)\r\n",
      "\tat kotlin.script.experimental.jvm.BasicJvmScriptEvaluator.invoke$suspendImpl(BasicJvmScriptEvaluator.kt:47)\r\n",
      "\tat kotlin.script.experimental.jvm.BasicJvmScriptEvaluator.invoke(BasicJvmScriptEvaluator.kt)\r\n",
      "\tat kotlin.script.experimental.jvm.BasicJvmReplEvaluator.eval(BasicJvmReplEvaluator.kt:49)\r\n",
      "\tat org.jetbrains.kotlinx.jupyter.repl.impl.InternalEvaluatorImpl$eval$resultWithDiagnostics$1.invokeSuspend(InternalEvaluatorImpl.kt:99)\r\n",
      "\tat kotlin.coroutines.jvm.internal.BaseContinuationImpl.resumeWith(ContinuationImpl.kt:33)\r\n",
      "\tat kotlinx.coroutines.DispatchedTask.run(DispatchedTask.kt:106)\r\n",
      "\tat kotlinx.coroutines.EventLoopImplBase.processNextEvent(EventLoop.common.kt:279)\r\n",
      "\tat kotlinx.coroutines.BlockingCoroutine.joinBlocking(Builders.kt:85)\r\n",
      "\tat kotlinx.coroutines.BuildersKt__BuildersKt.runBlocking(Builders.kt:59)\r\n",
      "\tat kotlinx.coroutines.BuildersKt.runBlocking(Unknown Source)\r\n",
      "\tat kotlinx.coroutines.BuildersKt__BuildersKt.runBlocking$default(Builders.kt:38)\r\n",
      "\tat kotlinx.coroutines.BuildersKt.runBlocking$default(Unknown Source)\r\n",
      "\tat org.jetbrains.kotlinx.jupyter.repl.impl.InternalEvaluatorImpl.eval(InternalEvaluatorImpl.kt:99)\r\n",
      "\tat org.jetbrains.kotlinx.jupyter.repl.impl.CellExecutorImpl$execute$1$result$1.invoke(CellExecutorImpl.kt:70)\r\n",
      "\tat org.jetbrains.kotlinx.jupyter.repl.impl.CellExecutorImpl$execute$1$result$1.invoke(CellExecutorImpl.kt:68)\r\n",
      "\tat org.jetbrains.kotlinx.jupyter.ReplForJupyterImpl.withHost(repl.kt:618)\r\n",
      "\tat org.jetbrains.kotlinx.jupyter.repl.impl.CellExecutorImpl.execute(CellExecutorImpl.kt:68)\r\n",
      "\tat org.jetbrains.kotlinx.jupyter.repl.CellExecutor$DefaultImpls.execute$default(CellExecutor.kt:14)\r\n",
      "\tat org.jetbrains.kotlinx.jupyter.ReplForJupyterImpl$evalEx$1.invoke(repl.kt:438)\r\n",
      "\tat org.jetbrains.kotlinx.jupyter.ReplForJupyterImpl$evalEx$1.invoke(repl.kt:427)\r\n",
      "\tat org.jetbrains.kotlinx.jupyter.ReplForJupyterImpl.withEvalContext(repl.kt:391)\r\n",
      "\tat org.jetbrains.kotlinx.jupyter.ReplForJupyterImpl.evalEx(repl.kt:427)\r\n",
      "\tat org.jetbrains.kotlinx.jupyter.ReplForJupyterImpl.eval(repl.kt:475)\r\n",
      "\tat org.jetbrains.kotlinx.jupyter.messaging.ProtocolKt$shellMessagesHandler$res$1.invoke(protocol.kt:301)\r\n",
      "\tat org.jetbrains.kotlinx.jupyter.messaging.ProtocolKt$shellMessagesHandler$res$1.invoke(protocol.kt:300)\r\n",
      "\tat org.jetbrains.kotlinx.jupyter.JupyterConnection$runExecution$execThread$1.invoke(connection.kt:180)\r\n",
      "\tat org.jetbrains.kotlinx.jupyter.JupyterConnection$runExecution$execThread$1.invoke(connection.kt:178)\r\n",
      "\tat kotlin.concurrent.ThreadsKt$thread$thread$1.run(Thread.kt:30)\r\n"
     ]
    }
   ],
   "source": [
    "val i=5\n",
    "//满足条件，无事发生\n",
    "Preconditions.checkState(i>3,\"必须大于6\")\n",
    "//不满足条件，报错\n",
    "Preconditions.checkState(i>6,\"必须大于6\")"
   ]
  },
  {
   "cell_type": "code",
   "execution_count": 20,
   "id": "5acd5468",
   "metadata": {},
   "outputs": [
    {
     "data": {
      "text/plain": [
       "5"
      ]
     },
     "execution_count": 20,
     "metadata": {},
     "output_type": "execute_result"
    }
   ],
   "source": [
    "//为null报错，不为null返回原值\n",
    "val i=5\n",
    "Preconditions.checkNotNull(i,\"不能为null\")"
   ]
  },
  {
   "cell_type": "code",
   "execution_count": 22,
   "id": "3a46c9fd",
   "metadata": {},
   "outputs": [
    {
     "name": "stderr",
     "output_type": "stream",
     "text": [
      "索引超限 (5) must be less than size (5)\r\n",
      "java.lang.IndexOutOfBoundsException: 索引超限 (5) must be less than size (5)\r\n",
      "\tat com.google.common.base.Preconditions.checkElementIndex(Preconditions.java:1355)\r\n",
      "\tat Line_599.<init>(Line_599.jupyter-kts:1)\r\n",
      "\tat java.base/jdk.internal.reflect.NativeConstructorAccessorImpl.newInstance0(Native Method)\r\n",
      "\tat java.base/jdk.internal.reflect.NativeConstructorAccessorImpl.newInstance(NativeConstructorAccessorImpl.java:77)\r\n",
      "\tat java.base/jdk.internal.reflect.DelegatingConstructorAccessorImpl.newInstance(DelegatingConstructorAccessorImpl.java:45)\r\n",
      "\tat java.base/java.lang.reflect.Constructor.newInstanceWithCaller(Constructor.java:499)\r\n",
      "\tat java.base/java.lang.reflect.Constructor.newInstance(Constructor.java:480)\r\n",
      "\tat kotlin.script.experimental.jvm.BasicJvmScriptEvaluator.evalWithConfigAndOtherScriptsResults(BasicJvmScriptEvaluator.kt:100)\r\n",
      "\tat kotlin.script.experimental.jvm.BasicJvmScriptEvaluator.invoke$suspendImpl(BasicJvmScriptEvaluator.kt:47)\r\n",
      "\tat kotlin.script.experimental.jvm.BasicJvmScriptEvaluator.invoke(BasicJvmScriptEvaluator.kt)\r\n",
      "\tat kotlin.script.experimental.jvm.BasicJvmReplEvaluator.eval(BasicJvmReplEvaluator.kt:49)\r\n",
      "\tat org.jetbrains.kotlinx.jupyter.repl.impl.InternalEvaluatorImpl$eval$resultWithDiagnostics$1.invokeSuspend(InternalEvaluatorImpl.kt:99)\r\n",
      "\tat kotlin.coroutines.jvm.internal.BaseContinuationImpl.resumeWith(ContinuationImpl.kt:33)\r\n",
      "\tat kotlinx.coroutines.DispatchedTask.run(DispatchedTask.kt:106)\r\n",
      "\tat kotlinx.coroutines.EventLoopImplBase.processNextEvent(EventLoop.common.kt:279)\r\n",
      "\tat kotlinx.coroutines.BlockingCoroutine.joinBlocking(Builders.kt:85)\r\n",
      "\tat kotlinx.coroutines.BuildersKt__BuildersKt.runBlocking(Builders.kt:59)\r\n",
      "\tat kotlinx.coroutines.BuildersKt.runBlocking(Unknown Source)\r\n",
      "\tat kotlinx.coroutines.BuildersKt__BuildersKt.runBlocking$default(Builders.kt:38)\r\n",
      "\tat kotlinx.coroutines.BuildersKt.runBlocking$default(Unknown Source)\r\n",
      "\tat org.jetbrains.kotlinx.jupyter.repl.impl.InternalEvaluatorImpl.eval(InternalEvaluatorImpl.kt:99)\r\n",
      "\tat org.jetbrains.kotlinx.jupyter.repl.impl.CellExecutorImpl$execute$1$result$1.invoke(CellExecutorImpl.kt:70)\r\n",
      "\tat org.jetbrains.kotlinx.jupyter.repl.impl.CellExecutorImpl$execute$1$result$1.invoke(CellExecutorImpl.kt:68)\r\n",
      "\tat org.jetbrains.kotlinx.jupyter.ReplForJupyterImpl.withHost(repl.kt:618)\r\n",
      "\tat org.jetbrains.kotlinx.jupyter.repl.impl.CellExecutorImpl.execute(CellExecutorImpl.kt:68)\r\n",
      "\tat org.jetbrains.kotlinx.jupyter.repl.CellExecutor$DefaultImpls.execute$default(CellExecutor.kt:14)\r\n",
      "\tat org.jetbrains.kotlinx.jupyter.ReplForJupyterImpl$evalEx$1.invoke(repl.kt:438)\r\n",
      "\tat org.jetbrains.kotlinx.jupyter.ReplForJupyterImpl$evalEx$1.invoke(repl.kt:427)\r\n",
      "\tat org.jetbrains.kotlinx.jupyter.ReplForJupyterImpl.withEvalContext(repl.kt:391)\r\n",
      "\tat org.jetbrains.kotlinx.jupyter.ReplForJupyterImpl.evalEx(repl.kt:427)\r\n",
      "\tat org.jetbrains.kotlinx.jupyter.ReplForJupyterImpl.eval(repl.kt:475)\r\n",
      "\tat org.jetbrains.kotlinx.jupyter.messaging.ProtocolKt$shellMessagesHandler$res$1.invoke(protocol.kt:301)\r\n",
      "\tat org.jetbrains.kotlinx.jupyter.messaging.ProtocolKt$shellMessagesHandler$res$1.invoke(protocol.kt:300)\r\n",
      "\tat org.jetbrains.kotlinx.jupyter.JupyterConnection$runExecution$execThread$1.invoke(connection.kt:180)\r\n",
      "\tat org.jetbrains.kotlinx.jupyter.JupyterConnection$runExecution$execThread$1.invoke(connection.kt:178)\r\n",
      "\tat kotlin.concurrent.ThreadsKt$thread$thread$1.run(Thread.kt:30)\r\n"
     ]
    }
   ],
   "source": [
    "//判断集合索引是否超限\n",
    "Preconditions.checkElementIndex(5,5,\"索引超限\")"
   ]
  },
  {
   "cell_type": "code",
   "execution_count": 25,
   "id": "d2c71d39",
   "metadata": {},
   "outputs": [
    {
     "data": {
      "text/plain": [
       "5"
      ]
     },
     "execution_count": 25,
     "metadata": {},
     "output_type": "execute_result"
    }
   ],
   "source": [
    "//判断集合位置是否超限\n",
    "Preconditions.checkPositionIndex(5,5,\"位置超限\")"
   ]
  },
  {
   "cell_type": "code",
   "execution_count": 29,
   "id": "86ae8ca0",
   "metadata": {},
   "outputs": [],
   "source": [
    "//判断集合位置是否超限【起始，结束，大小】\n",
    "Preconditions.checkPositionIndexes(0,3,5)"
   ]
  },
  {
   "cell_type": "markdown",
   "id": "dfaad15a",
   "metadata": {},
   "source": [
    "# 排序"
   ]
  },
  {
   "cell_type": "code",
   "execution_count": 5,
   "id": "4b40554e",
   "metadata": {},
   "outputs": [
    {
     "data": {
      "text/plain": [
       "a"
      ]
     },
     "execution_count": 5,
     "metadata": {},
     "output_type": "execute_result"
    }
   ],
   "source": [
    "Ordering.natural<String>().min(\"a\",\"b\",\"c\")"
   ]
  },
  {
   "cell_type": "code",
   "execution_count": 7,
   "id": "793a7755",
   "metadata": {},
   "outputs": [
    {
     "data": {
      "text/plain": [
       "c"
      ]
     },
     "execution_count": 7,
     "metadata": {},
     "output_type": "execute_result"
    }
   ],
   "source": [
    "Ordering.natural<String>().max(\"a\",\"b\",\"c\")"
   ]
  },
  {
   "cell_type": "code",
   "execution_count": 8,
   "id": "8c5122b1",
   "metadata": {},
   "outputs": [
    {
     "data": {
      "text/plain": [
       "[a, b]"
      ]
     },
     "execution_count": 8,
     "metadata": {},
     "output_type": "execute_result"
    }
   ],
   "source": [
    "Ordering.natural<String>().leastOf(listOf(\"a\",\"b\",\"c\"),2)"
   ]
  },
  {
   "cell_type": "code",
   "execution_count": 9,
   "id": "178967fc",
   "metadata": {},
   "outputs": [
    {
     "data": {
      "text/plain": [
       "[c, b]"
      ]
     },
     "execution_count": 9,
     "metadata": {},
     "output_type": "execute_result"
    }
   ],
   "source": [
    "Ordering.natural<String>().greatestOf(listOf(\"a\",\"b\",\"c\"),2)"
   ]
  },
  {
   "cell_type": "code",
   "execution_count": 10,
   "id": "e5de7db8",
   "metadata": {},
   "outputs": [
    {
     "data": {
      "text/plain": [
       "true"
      ]
     },
     "execution_count": 10,
     "metadata": {},
     "output_type": "execute_result"
    }
   ],
   "source": [
    "Ordering.natural<String>().isOrdered(listOf(\"a\",\"b\",\"c\"))"
   ]
  },
  {
   "cell_type": "code",
   "execution_count": 11,
   "id": "16d14e8c",
   "metadata": {},
   "outputs": [
    {
     "data": {
      "text/plain": [
       "[a, b, c]"
      ]
     },
     "execution_count": 11,
     "metadata": {},
     "output_type": "execute_result"
    }
   ],
   "source": [
    "Ordering.natural<String>().sortedCopy(listOf(\"c\",\"a\",\"b\"))"
   ]
  },
  {
   "cell_type": "markdown",
   "id": "bab679b0",
   "metadata": {},
   "source": [
    "# 对象方法"
   ]
  },
  {
   "cell_type": "markdown",
   "id": "ec8f47eb",
   "metadata": {},
   "source": [
    "### toString()"
   ]
  },
  {
   "cell_type": "code",
   "execution_count": 24,
   "id": "4309860d",
   "metadata": {},
   "outputs": [
    {
     "data": {
      "text/plain": [
       "java.util.Map{x=1}"
      ]
     },
     "execution_count": 24,
     "metadata": {},
     "output_type": "execute_result"
    }
   ],
   "source": [
    "//帮助生成对象字符串\n",
    "MoreObjects.toStringHelper(\"java.util.Map\")\n",
    "   .add(\"x\", 1)\n",
    "   .toString()"
   ]
  },
  {
   "cell_type": "markdown",
   "id": "253036ac",
   "metadata": {},
   "source": [
    "### compare"
   ]
  },
  {
   "cell_type": "code",
   "execution_count": 26,
   "id": "1e7d32ac",
   "metadata": {},
   "outputs": [
    {
     "data": {
      "text/plain": [
       "-1"
      ]
     },
     "execution_count": 26,
     "metadata": {},
     "output_type": "execute_result"
    }
   ],
   "source": [
    "val a= intArrayOf(1,2,3)\n",
    "val b= intArrayOf(1,3,2)\n",
    "ComparisonChain.start()\n",
    "     .compare(a[0], b[0])\n",
    "     .compare(a[1], b[1])\n",
    "     .compare(a[2], b[2], Ordering.natural<Int>().nullsLast())\n",
    "     .result()"
   ]
  },
  {
   "cell_type": "markdown",
   "id": "6b175742",
   "metadata": {},
   "source": [
    "# 集合"
   ]
  },
  {
   "cell_type": "markdown",
   "id": "c4351a2d",
   "metadata": {},
   "source": [
    "## 不可变集合"
   ]
  },
  {
   "cell_type": "code",
   "execution_count": 29,
   "id": "a25222d3",
   "metadata": {},
   "outputs": [
    {
     "data": {
      "text/plain": [
       "[red, orange, yellow, green, blue, purple]"
      ]
     },
     "execution_count": 29,
     "metadata": {},
     "output_type": "execute_result"
    }
   ],
   "source": [
    "ImmutableList.of(\n",
    "  \"red\",\n",
    "  \"orange\",\n",
    "  \"yellow\",\n",
    "  \"green\",\n",
    "  \"blue\",\n",
    "  \"purple\")"
   ]
  },
  {
   "cell_type": "code",
   "execution_count": 35,
   "id": "3c8736b2",
   "metadata": {},
   "outputs": [
    {
     "data": {
      "text/plain": [
       "{a=1, b=2, c=3}"
      ]
     },
     "execution_count": 35,
     "metadata": {},
     "output_type": "execute_result"
    }
   ],
   "source": [
    "ImmutableMap.of(\"a\",1,\"b\",2,\"c\",3)"
   ]
  },
  {
   "cell_type": "code",
   "execution_count": 28,
   "id": "fbc69fb8",
   "metadata": {},
   "outputs": [
    {
     "data": {
      "text/plain": [
       "[red, orange, yellow, green, blue, purple]"
      ]
     },
     "execution_count": 28,
     "metadata": {},
     "output_type": "execute_result"
    }
   ],
   "source": [
    "ImmutableSet.of(\n",
    "  \"red\",\n",
    "  \"orange\",\n",
    "  \"yellow\",\n",
    "  \"green\",\n",
    "  \"blue\",\n",
    "  \"purple\")"
   ]
  },
  {
   "cell_type": "markdown",
   "id": "1c64ef38",
   "metadata": {},
   "source": [
    "## 新增的集合类型"
   ]
  },
  {
   "cell_type": "markdown",
   "id": "f3366978",
   "metadata": {},
   "source": [
    "## Multiset"
   ]
  },
  {
   "cell_type": "code",
   "execution_count": 8,
   "id": "b1729f37",
   "metadata": {},
   "outputs": [
    {
     "name": "stdout",
     "output_type": "stream",
     "text": [
      "4\r\n",
      "[a, b, c]\r\n",
      "a->1\r\n",
      "b->1\r\n",
      "c->2\r\n",
      "1\r\n"
     ]
    }
   ],
   "source": [
    "//元素可重复的set，可以统计每个元素的个数\n",
    "val c = HashMultiset.create<String>()\n",
    "c.add(\"c\")\n",
    "c.add(\"a\")\n",
    "c.add(\"b\")\n",
    "c.add(\"c\")\n",
    "//元素个数（所有元素都在）\n",
    "println(c.size)\n",
    "//所有元素\n",
    "println(c.elementSet())\n",
    "//所有入口\n",
    "for(e in c.entrySet()){\n",
    "    println(Joiner.on(\"->\").join(e.element,e.count))\n",
    "}\n",
    "//获取某个元素的个数\n",
    "println(c.count(\"a\"))"
   ]
  },
  {
   "cell_type": "code",
   "execution_count": 9,
   "id": "b622ad03",
   "metadata": {},
   "outputs": [
    {
     "name": "stdout",
     "output_type": "stream",
     "text": [
      "4\r\n",
      "[a, b, c]\r\n",
      "a->1\r\n",
      "b->1\r\n",
      "c->2\r\n",
      "1\r\n"
     ]
    }
   ],
   "source": [
    "//元素可重复的set，可以统计每个元素的个数\n",
    "val c = TreeMultiset.create<String>()\n",
    "c.add(\"c\")\n",
    "c.add(\"a\")\n",
    "c.add(\"b\")\n",
    "c.add(\"c\")\n",
    "//元素个数\n",
    "println(c.size)\n",
    "//所有元素\n",
    "println(c.elementSet())\n",
    "//所有入口\n",
    "for(e in c.entrySet()){\n",
    "    println(Joiner.on(\"->\").join(e.element,e.count))\n",
    "}\n",
    "//获取某个元素的个数\n",
    "println(c.count(\"a\"))"
   ]
  },
  {
   "cell_type": "markdown",
   "id": "9a4a6bc3",
   "metadata": {},
   "source": [
    "## MultiMap "
   ]
  },
  {
   "cell_type": "code",
   "execution_count": 2,
   "id": "0ff1aa90",
   "metadata": {},
   "outputs": [
    {
     "name": "stdout",
     "output_type": "stream",
     "text": [
      "{zh=[买四件及以上7.5折, 买两件及以上8.5折, 买三件及以上8折]}\n",
      "[买四件及以上7.5折, 买两件及以上8.5折, 买三件及以上8折]\n",
      "[zh=买四件及以上7.5折, zh=买两件及以上8.5折, zh=买三件及以上8折]\n",
      "[zh x 3]\n",
      "[zh]\n",
      "[]\n",
      "[]\n"
     ]
    }
   ],
   "source": [
    "//元素可重复的map，可以拿到所有元素的列表\n",
    "val c = HashMultimap.create<String,String>()\n",
    "c.put(\"zh\",\"买两件及以上8.5折\")\n",
    "c.put(\"zh\",\"买三件及以上8折\")\n",
    "c.put(\"zh\",\"买四件及以上7.5折\")\n",
    "//转为map\n",
    "println(c.asMap())\n",
    "//不存在的键返回null\n",
    "println(c.asMap().get(\"zh\"))\n",
    "//所有入口\n",
    "println(c.entries())\n",
    "//以multiset形式显示所有键\n",
    "println(c.keys())\n",
    "//所有键\n",
    "println(c.keySet())\n",
    "//获取某个键\n",
    "println(c.get(\"a\"))\n",
    "//不存在的键也返回空集合\n",
    "println(c.get(\"x\"))"
   ]
  },
  {
   "cell_type": "code",
   "execution_count": 3,
   "id": "5fb75dea",
   "metadata": {},
   "outputs": [
    {
     "name": "stdout",
     "output_type": "stream",
     "text": [
      "{zh=[买两件及以上8.5折, 买三件及以上8折, 买四件及以上7.5折]}\n",
      "[买两件及以上8.5折, 买三件及以上8折, 买四件及以上7.5折]\n",
      "[zh=买两件及以上8.5折, zh=买三件及以上8折, zh=买四件及以上7.5折]\n",
      "[zh x 3]\n",
      "[zh]\n",
      "[]\n",
      "[]\n"
     ]
    }
   ],
   "source": [
    "//元素可重复的map，可以拿到所有元素的列表\n",
    "//元素按加入顺序\n",
    "val c = LinkedHashMultimap.create<String,String>()\n",
    "c.put(\"zh\",\"买两件及以上8.5折\")\n",
    "c.put(\"zh\",\"买三件及以上8折\")\n",
    "c.put(\"zh\",\"买四件及以上7.5折\")\n",
    "//转为map\n",
    "println(c.asMap())\n",
    "//不存在的键返回null\n",
    "println(c.asMap().get(\"zh\"))\n",
    "//所有入口\n",
    "println(c.entries())\n",
    "//以multiset形式显示所有键\n",
    "println(c.keys())\n",
    "//所有键\n",
    "println(c.keySet())\n",
    "//获取某个键\n",
    "println(c.get(\"a\"))\n",
    "//不存在的键也返回空集合\n",
    "println(c.get(\"x\"))"
   ]
  },
  {
   "cell_type": "code",
   "execution_count": 6,
   "id": "c0ec3f1f",
   "metadata": {},
   "outputs": [
    {
     "name": "stdout",
     "output_type": "stream",
     "text": [
      "{}\r\n"
     ]
    }
   ],
   "source": [
    "//如果元素为空，asMap()返回空\n",
    "val c = HashMultimap.create<String,String>()\n",
    "c.putAll(\"zh\",emptyList())\n",
    "c.putAll(\"en\",emptyList())\n",
    "c.putAll(\"tc\",emptyList())\n",
    "//转为map\n",
    "println(c.asMap())"
   ]
  },
  {
   "cell_type": "markdown",
   "id": "8ae31e59",
   "metadata": {},
   "source": [
    "## BiMap"
   ]
  },
  {
   "cell_type": "code",
   "execution_count": 60,
   "id": "755b88d2",
   "metadata": {},
   "outputs": [
    {
     "name": "stdout",
     "output_type": "stream",
     "text": [
      "{a=11, b=2, c=3, d=4}\r\n",
      "{11=a, 2=b, 3=c, 4=d}\r\n"
     ]
    }
   ],
   "source": [
    "//双向map，可以翻转\n",
    "val c = HashBiMap.create<String,Int>()\n",
    "c.put(\"a\",1)\n",
    "c.put(\"a\",11)\n",
    "c.put(\"b\",2)\n",
    "c.put(\"c\",3)\n",
    "c.put(\"d\",4)\n",
    "println(c)\n",
    "println(c.inverse())"
   ]
  },
  {
   "cell_type": "markdown",
   "id": "e5d71f25",
   "metadata": {},
   "source": [
    "## Table"
   ]
  },
  {
   "cell_type": "code",
   "execution_count": 77,
   "id": "16da101a",
   "metadata": {},
   "outputs": [
    {
     "name": "stdout",
     "output_type": "stream",
     "text": [
      "{v2=4, v3=20}\n",
      "5\n",
      "{v1=4}\n",
      "{v1=20, v2=5}\n",
      "======\n",
      "{}\n",
      "{}\n",
      "======\n",
      "{v1={v2=4, v3=20}, v2={v3=5}}\n",
      "{v2={v1=4}, v3={v1=20, v2=5}}\n",
      "[(v1,v2)=4, (v1,v3)=20, (v2,v3)=5]\n"
     ]
    }
   ],
   "source": [
    "//二维表格 ，以两个维度组织数据\n",
    "val c = HashBasedTable.create<String, String, Int>()\n",
    "c.put(\"v1\", \"v2\", 4)\n",
    "c.put(\"v1\", \"v3\", 20)\n",
    "c.put(\"v2\", \"v3\", 5)\n",
    "\n",
    "println(c.row(\"v1\"))\n",
    "println(c.row(\"v2\").get(\"v3\"))\n",
    "println(c.column(\"v2\"))\n",
    "println(c.column(\"v3\"))\n",
    "println(\"======\")\n",
    "println(c.row(\"v3\"))\n",
    "println(c.column(\"v1\"))\n",
    "println(\"======\")\n",
    "println(c.rowMap())\n",
    "println(c.columnMap())\n",
    "println(c.cellSet())"
   ]
  },
  {
   "cell_type": "code",
   "execution_count": null,
   "id": "b4c500ed",
   "metadata": {},
   "outputs": [],
   "source": [
    "val c = HashBasedTable.create<String, String, Int>()\n",
    "c.put(\"en\",\"1\",\"\")"
   ]
  },
  {
   "cell_type": "markdown",
   "id": "8280b3a9",
   "metadata": {},
   "source": [
    "# 文本"
   ]
  },
  {
   "cell_type": "markdown",
   "id": "12297f8e",
   "metadata": {},
   "source": [
    "分割器"
   ]
  },
  {
   "cell_type": "code",
   "execution_count": 18,
   "id": "148c8008",
   "metadata": {},
   "outputs": [
    {
     "data": {
      "text/plain": [
       "[a, b, c, d]"
      ]
     },
     "execution_count": 18,
     "metadata": {},
     "output_type": "execute_result"
    }
   ],
   "source": [
    "Splitter.on(\",\").split(\"a,b,c,d\")"
   ]
  },
  {
   "cell_type": "markdown",
   "id": "78d132a2",
   "metadata": {},
   "source": [
    "联合器"
   ]
  },
  {
   "cell_type": "code",
   "execution_count": 52,
   "id": "6f320e48",
   "metadata": {},
   "outputs": [
    {
     "data": {
      "text/plain": [
       "a=b=c"
      ]
     },
     "execution_count": 52,
     "metadata": {},
     "output_type": "execute_result"
    }
   ],
   "source": [
    "Joiner.on(\"=\").join(\"a\",\"b\",\"c\")"
   ]
  },
  {
   "cell_type": "code",
   "execution_count": 53,
   "id": "b6273dac",
   "metadata": {},
   "outputs": [
    {
     "data": {
      "text/plain": [
       "a=b=c"
      ]
     },
     "execution_count": 53,
     "metadata": {},
     "output_type": "execute_result"
    }
   ],
   "source": [
    "Joiner.on(\"=\").join(listOf(\"a\",\"b\",\"c\"))"
   ]
  },
  {
   "cell_type": "code",
   "execution_count": 2,
   "id": "0e9c6353",
   "metadata": {},
   "outputs": [
    {
     "data": {
      "text/plain": [
       "a=b"
      ]
     },
     "execution_count": 2,
     "metadata": {},
     "output_type": "execute_result"
    }
   ],
   "source": [
    "Joiner.on(\"=\").skipNulls().join(\"a\",null,\"b\")"
   ]
  },
  {
   "cell_type": "code",
   "execution_count": 54,
   "id": "e848d1db",
   "metadata": {},
   "outputs": [
    {
     "data": {
      "text/plain": [
       "a=1&b=2"
      ]
     },
     "execution_count": 54,
     "metadata": {},
     "output_type": "execute_result"
    }
   ],
   "source": [
    "Joiner.on(\"&\").withKeyValueSeparator(\"=\").join(mapOf(\"a\" to 1, \"b\" to 2))"
   ]
  },
  {
   "cell_type": "markdown",
   "id": "72097fee",
   "metadata": {},
   "source": [
    "# 计时器"
   ]
  },
  {
   "cell_type": "code",
   "execution_count": 8,
   "id": "5cadfe4d",
   "metadata": {},
   "outputs": [
    {
     "name": "stdout",
     "output_type": "stream",
     "text": [
      "PT1.0094782S\n",
      "PT2.0143961S\n"
     ]
    }
   ],
   "source": [
    "//仅仅只start()，时间会一直增大\n",
    "val sw = Stopwatch.createStarted()\n",
    "Thread.sleep(1000)\n",
    "println(sw.stop().elapsed())\n",
    "sw.start()\n",
    "Thread.sleep(1000)\n",
    "println(sw.stop().elapsed())"
   ]
  },
  {
   "cell_type": "code",
   "execution_count": 7,
   "id": "c594a563",
   "metadata": {},
   "outputs": [
    {
     "name": "stdout",
     "output_type": "stream",
     "text": [
      "PT1.0002512S\n",
      "PT1.0032573S\n"
     ]
    }
   ],
   "source": [
    "//reset()之后时间会重置\n",
    "val sw = Stopwatch.createStarted()\n",
    "Thread.sleep(1000)\n",
    "println(sw.stop().elapsed())\n",
    "sw.reset().start()\n",
    "Thread.sleep(1000)\n",
    "println(sw.stop().elapsed())"
   ]
  },
  {
   "cell_type": "code",
   "execution_count": null,
   "id": "fd3994b8",
   "metadata": {},
   "outputs": [],
   "source": []
  }
 ],
 "metadata": {
  "kernelspec": {
   "display_name": "Kotlin",
   "language": "kotlin",
   "name": "kotlin"
  },
  "language_info": {
   "codemirror_mode": "text/x-kotlin",
   "file_extension": ".kt",
   "mimetype": "text/x-kotlin",
   "name": "kotlin",
   "nbconvert_exporter": "",
   "pygments_lexer": "kotlin",
   "version": "1.8.0-dev-707"
  }
 },
 "nbformat": 4,
 "nbformat_minor": 5
}
