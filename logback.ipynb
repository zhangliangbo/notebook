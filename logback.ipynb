{
 "cells": [
  {
   "cell_type": "markdown",
   "id": "020ce532",
   "metadata": {},
   "source": [
    "# Resource [logback.xml] occurs multiple times on the classpath."
   ]
  },
  {
   "cell_type": "markdown",
   "id": "c4613723",
   "metadata": {},
   "source": [
    "文件名改成logback-test.xml"
   ]
  }
 ],
 "metadata": {
  "kernelspec": {
   "display_name": "Kotlin",
   "language": "kotlin",
   "name": "kotlin"
  },
  "language_info": {
   "codemirror_mode": "text/x-kotlin",
   "file_extension": ".kt",
   "mimetype": "text/x-kotlin",
   "name": "kotlin",
   "nbconvert_exporter": "",
   "pygments_lexer": "kotlin",
   "version": "1.8.0-dev-707"
  }
 },
 "nbformat": 4,
 "nbformat_minor": 5
}
