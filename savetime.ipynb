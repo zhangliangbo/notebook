{
 "cells": [
  {
   "cell_type": "code",
   "execution_count": 2,
   "id": "0604207a",
   "metadata": {},
   "outputs": [],
   "source": [
    "//local\n",
    "@file:Repository(\"*mavenLocal\")\n",
    "@file:DependsOn(\"io.github.zhangliangbo:savetime:1.0-SNAPSHOT\")\n",
    "import io.github.zhangliangbo.savetime.*"
   ]
  },
  {
   "cell_type": "code",
   "execution_count": null,
   "id": "7b91db28",
   "metadata": {},
   "outputs": [],
   "source": [
    "//snapshot\n",
    "@file:Repository(\"https://s01.oss.sonatype.org/content/repositories/snapshots\")\n",
    "@file:DependsOn(\"io.github.zhangliangbo:savetime:1.0-SNAPSHOT\")\n",
    "import io.github.zhangliangbo.savetime.*"
   ]
  },
  {
   "cell_type": "markdown",
   "id": "2552ca77",
   "metadata": {},
   "source": [
    "# 列表"
   ]
  },
  {
   "cell_type": "markdown",
   "id": "f4d8c8f1",
   "metadata": {},
   "source": [
    "powered by https://docs.vavr.io/#_list"
   ]
  },
  {
   "cell_type": "code",
   "execution_count": 11,
   "id": "26b929fd",
   "metadata": {},
   "outputs": [
    {
     "name": "stdout",
     "output_type": "stream",
     "text": [
      "List(a)\r\n",
      "List(b)\r\n",
      "List(c)\r\n"
     ]
    }
   ],
   "source": [
    "ST.listOf(\"a\",\"b\",\"c\").sliding(1,1).toJavaList().forEach({println(it)})"
   ]
  },
  {
   "cell_type": "code",
   "execution_count": 12,
   "id": "5c387afd",
   "metadata": {},
   "outputs": [
    {
     "data": {
      "text/plain": [
       "6"
      ]
     },
     "execution_count": 12,
     "metadata": {},
     "output_type": "execute_result"
    }
   ],
   "source": [
    "ST.listOf(1,2,3).sum()"
   ]
  },
  {
   "cell_type": "code",
   "execution_count": 13,
   "id": "04253431",
   "metadata": {},
   "outputs": [
    {
     "data": {
      "text/plain": [
       "15"
      ]
     },
     "execution_count": 13,
     "metadata": {},
     "output_type": "execute_result"
    }
   ],
   "source": [
    "ST.listOf(listOf(1,2,3,4,5)).sum()"
   ]
  },
  {
   "cell_type": "code",
   "execution_count": null,
   "id": "ddec7326",
   "metadata": {},
   "outputs": [],
   "source": []
  }
 ],
 "metadata": {
  "kernelspec": {
   "display_name": "Kotlin",
   "language": "kotlin",
   "name": "kotlin"
  },
  "language_info": {
   "codemirror_mode": "text/x-kotlin",
   "file_extension": ".kt",
   "mimetype": "text/x-kotlin",
   "name": "kotlin",
   "nbconvert_exporter": "",
   "pygments_lexer": "kotlin",
   "version": "1.7.20-dev-1299"
  }
 },
 "nbformat": 4,
 "nbformat_minor": 5
}
