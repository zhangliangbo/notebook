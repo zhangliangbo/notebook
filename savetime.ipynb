{
 "cells": [
  {
   "cell_type": "code",
   "execution_count": 2,
   "id": "0604207a",
   "metadata": {},
   "outputs": [],
   "source": [
    "//local\n",
    "@file:Repository(\"*mavenLocal\")\n",
    "@file:DependsOn(\"io.github.zhangliangbo:savetime:1.0-SNAPSHOT\")\n",
    "import io.github.zhangliangbo.savetime.*"
   ]
  },
  {
   "cell_type": "code",
   "execution_count": null,
   "id": "7b91db28",
   "metadata": {},
   "outputs": [],
   "source": [
    "//snapshot\n",
    "@file:Repository(\"https://s01.oss.sonatype.org/content/repositories/snapshots\")\n",
    "@file:DependsOn(\"io.github.zhangliangbo:savetime:1.0-SNAPSHOT\")\n",
    "import io.github.zhangliangbo.savetime.*"
   ]
  },
  {
   "cell_type": "markdown",
   "id": "2552ca77",
   "metadata": {},
   "source": [
    "# 列表"
   ]
  },
  {
   "cell_type": "markdown",
   "id": "f4d8c8f1",
   "metadata": {},
   "source": [
    "powered by https://docs.vavr.io/#_list"
   ]
  },
  {
   "cell_type": "code",
   "execution_count": 11,
   "id": "26b929fd",
   "metadata": {},
   "outputs": [
    {
     "name": "stdout",
     "output_type": "stream",
     "text": [
      "List(a)\r\n",
      "List(b)\r\n",
      "List(c)\r\n"
     ]
    }
   ],
   "source": [
    "ST.listOf(\"a\",\"b\",\"c\").sliding(1,1).toJavaList().forEach({println(it)})"
   ]
  },
  {
   "cell_type": "code",
   "execution_count": 12,
   "id": "5c387afd",
   "metadata": {},
   "outputs": [
    {
     "data": {
      "text/plain": [
       "6"
      ]
     },
     "execution_count": 12,
     "metadata": {},
     "output_type": "execute_result"
    }
   ],
   "source": [
    "ST.listOf(1,2,3).sum()"
   ]
  },
  {
   "cell_type": "code",
   "execution_count": 13,
   "id": "04253431",
   "metadata": {},
   "outputs": [
    {
     "data": {
      "text/plain": [
       "15"
      ]
     },
     "execution_count": 13,
     "metadata": {},
     "output_type": "execute_result"
    }
   ],
   "source": [
    "ST.listOf(listOf(1,2,3,4,5)).sum()"
   ]
  },
  {
   "cell_type": "markdown",
   "id": "575eecd6",
   "metadata": {},
   "source": [
    "# IO"
   ]
  },
  {
   "cell_type": "code",
   "execution_count": 9,
   "id": "e15efe79",
   "metadata": {},
   "outputs": [
    {
     "name": "stdout",
     "output_type": "stream",
     "text": [
      "[name, sex, age]\n",
      "[qibzVqsl, 男, 36]\n",
      "[fghcoJiV, 男, 48]\n",
      "[HjFBhUTO, 女, 62]\n",
      "[ZQIkOYQc, 男, 98]\n",
      "[CNZsxHRA, 女, 51]\n",
      "[UJVUwiEv, 女, 9]\n",
      "[rKSBYatJ, 男, 66]\n",
      "[PIEemlLu, 女, 64]\n",
      "[QISMbTkv, 女, 52]\n",
      "[VfJAYfqD, 女, 90]\n",
      "[ZIBDUbqn, 女, 18]\n",
      "[oaeZFfCo, 男, 35]\n",
      "[yWcIwJpG, 男, 31]\n",
      "[yRLvYamP, 男, 81]\n",
      "[QMKNOthn, 女, 50]\n",
      "[KHurqMPw, 男, 68]\n",
      "[HYyZMTTW, 女, 1]\n",
      "[kCnhyKDF, 女, 9]\n",
      "[iEioCamo, 女, 59]\n",
      "[sKssrLAC, 女, 19]\n",
      "[oAawXGMM, 女, 38]\n",
      "[XsCMWLhn, 男, 63]\n",
      "[zmzhndbB, 女, 24]\n",
      "[BkwuFGbH, 女, 26]\n",
      "[zbmMaimx, 男, 85]\n",
      "[OyMPRQsf, 男, 25]\n",
      "[YdmbcimJ, 男, 21]\n",
      "[HAUKXZBO, 男, 60]\n",
      "[WyTnUFVc, 男, 66]\n",
      "[sVKccnlq, 女, 70]\n",
      "[kCadSgde, 女, 39]\n",
      "[ahkDEJtV, 男, 74]\n",
      "[FmvPfSpL, 男, 73]\n",
      "[sIxrXXOL, 男, 91]\n",
      "[rksvnxXF, 女, 89]\n",
      "[zPvTQyeO, 男, 22]\n",
      "[TlXWtpvy, 女, 59]\n",
      "[nrnvtZTL, 女, 39]\n",
      "[nRZWNyEB, 男, 24]\n",
      "[hxfKydPl, 男, 68]\n",
      "[OtprwjXF, 女, 92]\n",
      "[BdgVTgJZ, 女, 87]\n",
      "[LkLpfMpM, 女, 11]\n",
      "[VdWHqRrb, 女, 10]\n",
      "[TlfBTgLk, 男, 26]\n",
      "[QooRBicY, 男, 14]\n",
      "[McpFAafI, 男, 94]\n",
      "[ABbbDxRL, 女, 23]\n",
      "[zkrsWtqD, 男, 92]\n",
      "[IrXsmeDK, 男, 45]\n"
     ]
    },
    {
     "data": {
      "text/plain": [
       "(50001,69)"
      ]
     },
     "execution_count": 9,
     "metadata": {},
     "output_type": "execute_result"
    }
   ],
   "source": [
    "ST.io.csvByLine(java.io.File(\"../data/5W.csv\").toURI().toURL(),\n",
    "                {a,b->if(a%1000==0L)println(b.contentToString())},\n",
    "                0)"
   ]
  },
  {
   "cell_type": "code",
   "execution_count": null,
   "id": "b9143b45",
   "metadata": {},
   "outputs": [],
   "source": []
  }
 ],
 "metadata": {
  "kernelspec": {
   "display_name": "Kotlin",
   "language": "kotlin",
   "name": "kotlin"
  },
  "language_info": {
   "codemirror_mode": "text/x-kotlin",
   "file_extension": ".kt",
   "mimetype": "text/x-kotlin",
   "name": "kotlin",
   "nbconvert_exporter": "",
   "pygments_lexer": "kotlin",
   "version": "1.7.20-dev-1299"
  }
 },
 "nbformat": 4,
 "nbformat_minor": 5
}
