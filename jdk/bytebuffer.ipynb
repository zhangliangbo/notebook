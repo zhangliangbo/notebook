{
 "cells": [
  {
   "cell_type": "markdown",
   "id": "30a81e77",
   "metadata": {},
   "source": [
    "# ByteBuffer更新局部值"
   ]
  },
  {
   "cell_type": "markdown",
   "id": "740c997a",
   "metadata": {},
   "source": [
    "相当于数组更新，不能插入数据。"
   ]
  },
  {
   "cell_type": "markdown",
   "id": "6a67c50c",
   "metadata": {},
   "source": [
    "# ByteBuffer插入局部值"
   ]
  }
 ],
 "metadata": {
  "kernelspec": {
   "display_name": "Kotlin",
   "language": "kotlin",
   "name": "kotlin"
  },
  "language_info": {
   "codemirror_mode": "text/x-kotlin",
   "file_extension": ".kt",
   "mimetype": "text/x-kotlin",
   "name": "kotlin",
   "nbconvert_exporter": "",
   "pygments_lexer": "kotlin",
   "version": "1.8.0-RC"
  }
 },
 "nbformat": 4,
 "nbformat_minor": 5
}
