{
 "cells": [
  {
   "cell_type": "markdown",
   "id": "2f49566b",
   "metadata": {},
   "source": []
  },
  {
   "cell_type": "markdown",
   "id": "0841e9a7",
   "metadata": {},
   "source": []
  },
  {
   "cell_type": "markdown",
   "id": "02f98e47",
   "metadata": {},
   "source": [
    "# 物理构成"
   ]
  },
  {
   "cell_type": "markdown",
   "id": "e875336a",
   "metadata": {},
   "source": [
    "- libs：所有的依赖包\n",
    "- licenses：各种许可证\n",
    "- site-docs：网站的文档，方便离线阅读\n",
    "- bin：各种脚本，用于使用安装部署和使用kafka\n",
    "- config：配置文件，指定kafka运行时的参数\n",
    "    - kraft\n",
    "        - server.properties\n",
    "            - node.id\n",
    "            - log.dirs\n",
    "            - process.roles\n",
    "        - broker.properties\n",
    "        - controller.properties\n",
    "- LICENSE\n",
    "- NOTICE"
   ]
  },
  {
   "cell_type": "markdown",
   "id": "85687764",
   "metadata": {},
   "source": [
    "> 版本：kafka_2.12-3.3.1"
   ]
  },
  {
   "cell_type": "markdown",
   "id": "26ed9b38",
   "metadata": {},
   "source": [
    "其中，kafka的功能主要体现在bin和config目录中。"
   ]
  },
  {
   "cell_type": "markdown",
   "id": "f2efe417",
   "metadata": {},
   "source": [
    "# 使用KRaft部署三个节点集群"
   ]
  },
  {
   "cell_type": "markdown",
   "id": "ad01aca4",
   "metadata": {},
   "source": [
    "Error while writing the Quorum status from the file D:\\kafka_2.12-3.3.1\\data\\log1\\__cluster_metadata-0\\quorum-state"
   ]
  },
  {
   "cell_type": "markdown",
   "id": "73963b25",
   "metadata": {},
   "source": [
    "# 前置概念"
   ]
  },
  {
   "cell_type": "markdown",
   "id": "7395c81d",
   "metadata": {},
   "source": [
    "- 页缓存[【1】](https://cloud.tencent.com/developer/article/1848933)[【2】](https://zhuanlan.zhihu.com/p/492233155)（思考：为什么页缓存是4k？怎么修改页缓存大小？）\n",
    "- BTree，一种随机访问数据结构。\n",
    "- 零拷贝[【1】](https://developer.ibm.com/articles/j-zerocopy/)"
   ]
  },
  {
   "cell_type": "markdown",
   "id": "699338d5",
   "metadata": {},
   "source": [
    "> 计算机科学领域的任何问题都可以通过增加一个间接的中间层来解决"
   ]
  },
  {
   "cell_type": "markdown",
   "id": "ad0f3c72",
   "metadata": {},
   "source": [
    "# kafka角色"
   ]
  },
  {
   "cell_type": "markdown",
   "id": "2164994f",
   "metadata": {},
   "source": [
    "# 主要设计"
   ]
  },
  {
   "cell_type": "markdown",
   "id": "4f43121f",
   "metadata": {},
   "source": [
    "1. 顺序写\n",
    "    - 预读\n",
    "    - 后写\n",
    "2. 随机写"
   ]
  },
  {
   "cell_type": "markdown",
   "id": "93043f5b",
   "metadata": {},
   "source": [
    "## 先写文件，再读到页缓存"
   ]
  },
  {
   "cell_type": "markdown",
   "id": "8edfc5cf",
   "metadata": {},
   "source": [
    "与其在内存中维护尽可能多的空间，并在耗尽空间时匆忙地将其全部刷新到文件系统，不如将其颠倒过来。所有数据都立即写入文件系统上的持久日志，而不必写入磁盘。实际上，这只是意味着它被传输到内核的页面缓存中。"
   ]
  },
  {
   "cell_type": "markdown",
   "id": "d481a4e8",
   "metadata": {},
   "source": [
    "## 日志追加，避免随机访问"
   ]
  },
  {
   "cell_type": "markdown",
   "id": "c20535da",
   "metadata": {},
   "source": [
    "可以在相对较长的时间内(比如一周)保留消息，而不是试图在消息被使用后立即删除消息。"
   ]
  },
  {
   "cell_type": "markdown",
   "id": "022a898e",
   "metadata": {},
   "source": [
    "## 消息聚合和使用零拷贝技术"
   ]
  }
 ],
 "metadata": {
  "kernelspec": {
   "display_name": "Kotlin",
   "language": "kotlin",
   "name": "kotlin"
  },
  "language_info": {
   "codemirror_mode": "text/x-kotlin",
   "file_extension": ".kt",
   "mimetype": "text/x-kotlin",
   "name": "kotlin",
   "nbconvert_exporter": "",
   "pygments_lexer": "kotlin",
   "version": "1.8.0-RC"
  }
 },
 "nbformat": 4,
 "nbformat_minor": 5
}
