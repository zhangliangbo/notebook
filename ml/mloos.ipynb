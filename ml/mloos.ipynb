{
 "cells": [
  {
   "cell_type": "markdown",
   "id": "a9991e20",
   "metadata": {},
   "source": [
    "https://mloss.org/software/"
   ]
  },
  {
   "cell_type": "code",
   "execution_count": null,
   "id": "8a84e769",
   "metadata": {},
   "outputs": [],
   "source": []
  }
 ],
 "metadata": {
  "kernelspec": {
   "display_name": "Kotlin",
   "language": "kotlin",
   "name": "kotlin"
  },
  "language_info": {
   "codemirror_mode": "text/x-kotlin",
   "file_extension": ".kt",
   "mimetype": "text/x-kotlin",
   "name": "kotlin",
   "nbconvert_exporter": "",
   "pygments_lexer": "kotlin",
   "version": "1.8.0-dev-707"
  }
 },
 "nbformat": 4,
 "nbformat_minor": 5
}
