{
 "cells": [
  {
   "cell_type": "markdown",
   "id": "033b0a52",
   "metadata": {},
   "source": [
    "https://github.com/deeplearning4j/deeplearning4j"
   ]
  },
  {
   "cell_type": "code",
   "execution_count": null,
   "id": "f92e6175",
   "metadata": {},
   "outputs": [],
   "source": [
    "@file:DependsOn(\"org.nd4j:nd4j-native-platform:1.0.0-M2.1\")\n",
    "@file:DependsOn(\"org.deeplearning4j:deeplearning4j-core:1.0.0-M2.1\")"
   ]
  }
 ],
 "metadata": {
  "kernelspec": {
   "display_name": "Kotlin",
   "language": "kotlin",
   "name": "kotlin"
  },
  "language_info": {
   "codemirror_mode": "text/x-kotlin",
   "file_extension": ".kt",
   "mimetype": "text/x-kotlin",
   "name": "kotlin",
   "nbconvert_exporter": "",
   "pygments_lexer": "kotlin",
   "version": "1.8.0-dev-707"
  }
 },
 "nbformat": 4,
 "nbformat_minor": 5
}
