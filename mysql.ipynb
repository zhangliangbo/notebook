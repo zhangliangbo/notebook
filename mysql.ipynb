{
 "cells": [
  {
   "cell_type": "markdown",
   "id": "5075bdbd",
   "metadata": {},
   "source": []
  },
  {
   "cell_type": "markdown",
   "id": "cfbd8f5a",
   "metadata": {},
   "source": [
    "# ddl"
   ]
  },
  {
   "cell_type": "markdown",
   "id": "6a9dcf79",
   "metadata": {},
   "source": [
    "## 很大的表，添加字段的方法"
   ]
  }
 ],
 "metadata": {
  "kernelspec": {
   "display_name": "Kotlin",
   "language": "kotlin",
   "name": "kotlin"
  },
  "language_info": {
   "codemirror_mode": "text/x-kotlin",
   "file_extension": ".kt",
   "mimetype": "text/x-kotlin",
   "name": "kotlin",
   "nbconvert_exporter": "",
   "pygments_lexer": "kotlin",
   "version": "1.7.20-dev-1299"
  }
 },
 "nbformat": 4,
 "nbformat_minor": 5
}
