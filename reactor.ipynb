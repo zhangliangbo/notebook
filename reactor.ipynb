{
 "cells": [
  {
   "cell_type": "code",
   "execution_count": 2,
   "id": "9900b205",
   "metadata": {},
   "outputs": [],
   "source": [
    "@file:DependsOn(\"io.projectreactor:reactor-core:3.2.9.RELEASE\")\n",
    "import reactor.core.publisher.*"
   ]
  },
  {
   "cell_type": "markdown",
   "id": "0e034852",
   "metadata": {},
   "source": [
    "# switchIfEmpty总是被调用的原因"
   ]
  },
  {
   "cell_type": "markdown",
   "id": "036604c9",
   "metadata": {},
   "source": [
    "### 先看一个例子"
   ]
  },
  {
   "cell_type": "code",
   "execution_count": 32,
   "id": "84edbbc5",
   "metadata": {},
   "outputs": [
    {
     "name": "stdout",
     "output_type": "stream",
     "text": [
      "A\r\n"
     ]
    },
    {
     "data": {
      "text/plain": [
       "reactor.core.publisher.LambdaMonoSubscriber@107f4980"
      ]
     },
     "execution_count": 32,
     "metadata": {},
     "output_type": "execute_result"
    }
   ],
   "source": [
    "//打印A，没有打印b，说明调用flatMap，没调用switchIfEmpty\n",
    "Mono.justOrEmpty<String>(\"a\")\n",
    ".flatMap({Mono.just(it.uppercase())})\n",
    ".switchIfEmpty(Mono.just(\"b\"))\n",
    ".subscribe({println(it)})"
   ]
  },
  {
   "cell_type": "code",
   "execution_count": 31,
   "id": "14cc73f5",
   "metadata": {},
   "outputs": [
    {
     "name": "stdout",
     "output_type": "stream",
     "text": [
      "b\r\n"
     ]
    },
    {
     "data": {
      "text/plain": [
       "reactor.core.publisher.LambdaMonoSubscriber@2a685eba"
      ]
     },
     "execution_count": 31,
     "metadata": {},
     "output_type": "execute_result"
    }
   ],
   "source": [
    "//只打印了b，说明没调用flatMap，调用了switchIfEmpty\n",
    "Mono.justOrEmpty<String>(null)\n",
    ".flatMap({Mono.just(it.uppercase())})\n",
    ".switchIfEmpty(Mono.just(\"b\"))\n",
    ".subscribe({println(it)})"
   ]
  },
  {
   "cell_type": "markdown",
   "id": "611bc5c8",
   "metadata": {},
   "source": [
    "### 再看一个例子"
   ]
  },
  {
   "cell_type": "code",
   "execution_count": 34,
   "id": "d61f1ca8",
   "metadata": {},
   "outputs": [
    {
     "name": "stdout",
     "output_type": "stream",
     "text": [
      "flatMap\r\n",
      "switchIfEmpty\r\n"
     ]
    },
    {
     "data": {
      "text/plain": [
       "reactor.core.publisher.LambdaMonoSubscriber@77d680e6"
      ]
     },
     "execution_count": 34,
     "metadata": {},
     "output_type": "execute_result"
    }
   ],
   "source": [
    "//打印flatMap，也打印了switchIfEmpty，说明flatMap和switchIfEmpty都调用了\n",
    "Mono.justOrEmpty<String>(\"a\")\n",
    ".flatMap({Mono.fromRunnable<Void>({println(\"flatMap\")})})\n",
    ".switchIfEmpty({Mono.fromRunnable<Void>({println(\"switchIfEmpty\")})})\n",
    ".subscribe({println(it)})"
   ]
  },
  {
   "cell_type": "code",
   "execution_count": 35,
   "id": "9746f3c5",
   "metadata": {},
   "outputs": [
    {
     "name": "stdout",
     "output_type": "stream",
     "text": [
      "switchIfEmpty\r\n"
     ]
    },
    {
     "data": {
      "text/plain": [
       "reactor.core.publisher.LambdaMonoSubscriber@f08fdce"
      ]
     },
     "execution_count": 35,
     "metadata": {},
     "output_type": "execute_result"
    }
   ],
   "source": [
    "//只打印了switchIfEmpty，说明没调用flatMap，调用了switchIfEmpty\n",
    "Mono.justOrEmpty<String>(null)\n",
    ".flatMap({Mono.fromRunnable<Void>({println(\"flatMap\")})})\n",
    ".switchIfEmpty({Mono.fromRunnable<Void>({println(\"switchIfEmpty\")})})\n",
    ".subscribe({println(it)})"
   ]
  },
  {
   "cell_type": "markdown",
   "id": "e4311505",
   "metadata": {},
   "source": [
    "### 为什么会这样"
   ]
  },
  {
   "cell_type": "markdown",
   "id": "d3a8d4f6",
   "metadata": {},
   "source": [
    "switchIfEmpty如果上一个操作符的数据类型是Void，则switchIfEmpty会被调用。"
   ]
  },
  {
   "cell_type": "markdown",
   "id": "fb68ac96",
   "metadata": {},
   "source": [
    "### 怎么解决这个问题"
   ]
  },
  {
   "cell_type": "markdown",
   "id": "6114e364",
   "metadata": {},
   "source": [
    "switchIfEmpty上一个操作符的返回值不能是Void，可以使用java.lang.ref.SoftReference或java.util.concurrent.atomic.AtomicReference作为返回值，然后根据SoftReference和AtomicReference的值去判断"
   ]
  },
  {
   "cell_type": "markdown",
   "id": "de273f81",
   "metadata": {},
   "source": [
    "### 改写上面的例子"
   ]
  },
  {
   "cell_type": "code",
   "execution_count": 42,
   "id": "7e36939d",
   "metadata": {},
   "outputs": [
    {
     "name": "stdout",
     "output_type": "stream",
     "text": [
      "flatMap\r\n"
     ]
    },
    {
     "data": {
      "text/plain": [
       "reactor.core.publisher.LambdaMonoSubscriber@76ddd61a"
      ]
     },
     "execution_count": 42,
     "metadata": {},
     "output_type": "execute_result"
    }
   ],
   "source": [
    "//这样就只调用了flatMap\n",
    "Mono.justOrEmpty<String>(\"a\")\n",
    ".map({java.lang.ref.SoftReference(it)})\n",
    ".defaultIfEmpty(java.lang.ref.SoftReference(null))\n",
    ".flatMap({\n",
    "    if(it.get()==null){\n",
    "        Mono.fromRunnable<Void>({println(\"switchIfEmpty\")})\n",
    "    }else{\n",
    "        Mono.fromRunnable<Void>({println(\"flatMap\")})\n",
    "    }\n",
    "})\n",
    ".subscribe({println(it)})"
   ]
  },
  {
   "cell_type": "markdown",
   "id": "c7479a42",
   "metadata": {},
   "source": [
    "主要思路就是flatMap+switchIfEmpty的组合改写成map+defaultIfEmpty+flatMap的组合"
   ]
  },
  {
   "cell_type": "markdown",
   "id": "2c3b771c",
   "metadata": {},
   "source": [
    "### 典型场景：gateway过滤器处理请求"
   ]
  },
  {
   "cell_type": "code",
   "execution_count": null,
   "id": "52d34ced",
   "metadata": {},
   "outputs": [],
   "source": [
    "DataBufferUtils.join(request.getBody())\n",
    "    .map(SoftReference::new)\n",
    "    .defaultIfEmpty(new SoftReference<>(null))\n",
    "    .flatMap(new Function<SoftReference<DataBuffer>, Mono<Void>>() {\n",
    "        @Override\n",
    "        public Mono<Void> apply(SoftReference<DataBuffer> reference) {\n",
    "            if(reference.get()==null){\n",
    "                //无body逻辑\n",
    "            }else{\n",
    "                //有body逻辑\n",
    "            }\n",
    "        }\n",
    "    });"
   ]
  }
 ],
 "metadata": {
  "kernelspec": {
   "display_name": "Kotlin",
   "language": "kotlin",
   "name": "kotlin"
  },
  "language_info": {
   "codemirror_mode": "text/x-kotlin",
   "file_extension": ".kt",
   "mimetype": "text/x-kotlin",
   "name": "kotlin",
   "nbconvert_exporter": "",
   "pygments_lexer": "kotlin",
   "version": "1.8.0-dev-707"
  }
 },
 "nbformat": 4,
 "nbformat_minor": 5
}
